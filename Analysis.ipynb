{
  "cells": [
    {
      "cell_type": "markdown",
      "metadata": {
        "id": "eqM8VQAFpTst"
      },
      "source": [
        "# House price prediction for Denver Dataset\n",
        "\n",
        "In this case (Part II), there are two main tasks:\n",
        "\n",
        "- First, you will need to split the train data into train and validate data and tune the model hyperparameters to choose the best model. Submit the predicted prices for test data to Kaggle to compete for Prof. X's Prize!\n",
        "\n",
        "- Then you will examine the profit of the iBuyer business model based on the predicted price on the valid data.\n",
        "\n",
        "\n",
        "\n",
        "\n"
      ]
    },
    {
      "cell_type": "markdown",
      "metadata": {
        "id": "I6LbqGHGF66J"
      },
      "source": [
        "You need to submit a report in pdf format containing the following material on canvas site:\n",
        "\n",
        "1.   A plot of the training errors and validation errors over epochs for a base multilayer perceptron model with 2 hidden layers of sizes 256 and 128.\n",
        "\n",
        "2.   A plot of the training errors and validation errors over epochs for a  multilayer perceptron model with 4 hidden layers of sizes 512, 256, 128, 64.\n",
        "\n",
        "3.  A plot of the training errors and validation errors over epochs for a  multilayer perceptron model with 4 hidden layers of sizes 512, 256, 128, 64\n",
        "and norm regularization.\n",
        "\n",
        "4. A plot of the training errors and validation errors over epochs for a  multilayer perceptron model with 4 hidden layers of sizes 512, 256, 128, 64\n",
        "and norm regularization and dropout layers.\n",
        "\n",
        "5. A table listing all the model hyperparameters that you have tried with the corresponding validation errors that you found.\n",
        "\n",
        "6. Your profit analysis of the the iBuyer business model based on the predicted price on the valid data and answers to the four questions therein.\n",
        "\n",
        "\n",
        "You also need to submit on canvas site:\n",
        "\n",
        "- The complete Juyputer notebook containing all your Pytorch code with explanations, along with a Markdown text explaining different parts if needed.\n",
        "-  A checkpoint.pth file containing all the necessary information to retrieve your best model and predictions.\n",
        "\n"
      ]
    },
    {
      "cell_type": "markdown",
      "metadata": {
        "id": "s4QjqzSng9P7"
      },
      "source": [
        "---\n",
        "## Data Loading and Visualize Data"
      ]
    },
    {
      "cell_type": "markdown",
      "metadata": {
        "id": "qJzPZD90wSNP"
      },
      "source": [
        "The train data and test data are available on Kaggle website.\n",
        "You can first download them, then upload them to the google colab, and then read the data using pandas."
      ]
    },
    {
      "cell_type": "code",
      "execution_count": 72,
      "metadata": {
        "id": "K4gWVq036dy1",
        "scrolled": true
      },
      "outputs": [],
      "source": [
        "import pandas as pd  # Importing pandas, which is a library for data manipulation and analysis\n",
        "import torch.nn.functional as F\n",
        "import numpy as np\n",
        "import torch.nn as nn\n",
        "import torch\n",
        "from numpy.ma.core import absolute\n",
        "import math\n",
        "\n",
        "\n",
        "#TODO: Read the datasets\n",
        "train_df = pd.read_csv(\"train.csv\")\n",
        "test_df = pd.read_csv(\"test.csv\")"
      ]
    },
    {
      "cell_type": "code",
      "execution_count": 73,
      "metadata": {
        "id": "XaQo7FuB0doZ",
        "colab": {
          "base_uri": "https://localhost:8080/"
        },
        "outputId": "87d9d79f-78a8-4c07-c943-0f0d2077eb6a"
      },
      "outputs": [
        {
          "output_type": "stream",
          "name": "stdout",
          "text": [
            "(11581, 17)\n",
            "Index(['ID', 'NBHD', 'PROP_CLASS', 'LIVING_SQFT', 'FBSMT_SQFT', 'BSMT_AREA',\n",
            "       'LAND_SQFT', 'GRD_AREA', 'BLDG_AGE', 'RM_AGE', 'BED_RMS', 'FULL_B',\n",
            "       'HLF_B', 'STORY', 'STYLE_CN', 'UNITS', 'SALE_PRICE'],\n",
            "      dtype='object')\n"
          ]
        }
      ],
      "source": [
        "# Display the train dataframe\n",
        "print(train_df.shape)\n",
        "print(train_df.columns)"
      ]
    },
    {
      "cell_type": "code",
      "execution_count": 74,
      "metadata": {
        "id": "r4JCo589iNmI",
        "colab": {
          "base_uri": "https://localhost:8080/"
        },
        "outputId": "dbc32492-23dc-4599-9841-9ba66d714329"
      },
      "outputs": [
        {
          "output_type": "stream",
          "name": "stdout",
          "text": [
            "(4964, 16)\n",
            "Index(['ID', 'NBHD', 'PROP_CLASS', 'LIVING_SQFT', 'FBSMT_SQFT', 'BSMT_AREA',\n",
            "       'LAND_SQFT', 'GRD_AREA', 'BLDG_AGE', 'RM_AGE', 'BED_RMS', 'FULL_B',\n",
            "       'HLF_B', 'STORY', 'STYLE_CN', 'UNITS'],\n",
            "      dtype='object')\n"
          ]
        }
      ],
      "source": [
        "# Display the test dataframe\n",
        "print(test_df.shape)\n",
        "print(test_df.columns)"
      ]
    },
    {
      "cell_type": "markdown",
      "metadata": {
        "id": "szikaZ_Stjbw"
      },
      "source": [
        "As you can see, we have 11581 training samples and 4964 test samples, each with 16 features. The training samples contain the sale_prices, which are the labels. The test samples do not contain the sale_prices, which we will predict by building a MLP model.\n"
      ]
    },
    {
      "cell_type": "markdown",
      "metadata": {
        "id": "sJfzgCkCqUio"
      },
      "source": [
        "### Visualization of SALE PRICES\n",
        "\n",
        "Let's take a closer look at the sale prices in the train data."
      ]
    },
    {
      "cell_type": "code",
      "execution_count": 75,
      "metadata": {
        "id": "1AaQ9nLKJej5",
        "colab": {
          "base_uri": "https://localhost:8080/",
          "height": 573
        },
        "outputId": "8fb0ea7a-0cdf-4ac5-d3c2-dce41ec96be7"
      },
      "outputs": [
        {
          "output_type": "display_data",
          "data": {
            "text/plain": [
              "<Figure size 1000x600 with 1 Axes>"
            ],
            "image/png": "[encoded data removed]"
          },
          "metadata": {}
        }
      ],
      "source": [
        "import seaborn as sns\n",
        "import matplotlib.pyplot as plt  # Importing matplotlib's pyplot, it provides a MATLAB-like interface for making plots and charts\n",
        "\n",
        "# Set the style\n",
        "sns.set(style=\"whitegrid\")\n",
        "\n",
        "# Create a histogram\n",
        "plt.figure(figsize=(10, 6))\n",
        "sns.histplot(train_df['SALE_PRICE'], bins=50, color='blue')\n",
        "plt.title('Histogram of Sale Prices (Train Data)')\n",
        "plt.xlabel('Sale Price')\n",
        "plt.ylabel('Number of Properties')\n",
        "plt.show()"
      ]
    },
    {
      "cell_type": "markdown",
      "metadata": {
        "id": "Etksi7L3jPOq"
      },
      "source": [
        "Check the minimum and maximum sale_price in train data."
      ]
    },
    {
      "cell_type": "code",
      "execution_count": 76,
      "metadata": {
        "id": "bHZOKq7yPx9S",
        "colab": {
          "base_uri": "https://localhost:8080/"
        },
        "outputId": "37fee541-df37-431c-ade0-519323d233c4"
      },
      "outputs": [
        {
          "output_type": "stream",
          "name": "stdout",
          "text": [
            "51000\n",
            "1995000\n",
            "431000.0\n"
          ]
        }
      ],
      "source": [
        "print(train_df['SALE_PRICE'].min())\n",
        "print(train_df['SALE_PRICE'].max())\n",
        "print(train_df['SALE_PRICE'].median())"
      ]
    },
    {
      "cell_type": "markdown",
      "metadata": {
        "id": "CD8wV4aFqG1Z"
      },
      "source": [
        "We see that the sale_price has a wide range from 50K to 2 million, with the median price 431K."
      ]
    },
    {
      "cell_type": "markdown",
      "metadata": {
        "id": "5AgRR1yHFlWS"
      },
      "source": [
        "### Visualization of Correlation\n",
        "\n",
        "We can also compute and visualize the correlation matrix."
      ]
    },
    {
      "cell_type": "code",
      "execution_count": 77,
      "metadata": {
        "id": "lclsy9WmFmAX",
        "colab": {
          "base_uri": "https://localhost:8080/",
          "height": 857
        },
        "outputId": "da995e23-0660-4b7f-f5b0-c25849c098d0"
      },
      "outputs": [
        {
          "output_type": "stream",
          "name": "stderr",
          "text": [
            "<ipython-input-77-28da14c2e215>:2: FutureWarning: The default value of numeric_only in DataFrame.corr is deprecated. In a future version, it will default to False. Select only valid columns or specify the value of numeric_only to silence this warning.\n",
            "  correlation_matrix = train_df.corr()\n"
          ]
        },
        {
          "output_type": "display_data",
          "data": {
            "text/plain": [
              "<Figure size 800x800 with 2 Axes>"
            ],
            "image/png": "[encoded data removed]"
          },
          "metadata": {}
        }
      ],
      "source": [
        "# Compute the correlation matrix:\n",
        "correlation_matrix = train_df.corr()\n",
        "\n",
        "# 1. Increase the figure size for clarity\n",
        "plt.figure(figsize=(8, 8))\n",
        "\n",
        "# 2. Use a heatmap with annotations, a color map, and specific formatting for the annotations\n",
        "ax = sns.heatmap(correlation_matrix, annot=True, cmap='coolwarm', fmt=\".2f\", annot_kws={'size': 8})\n",
        "\n",
        "# 3. Rotate the x-axis labels for better visibility\n",
        "plt.setp(ax.get_xticklabels(), rotation=45, ha=\"right\", rotation_mode=\"anchor\")\n",
        "\n",
        "# Rotate the y-axis labels\n",
        "plt.setp(ax.get_yticklabels(), rotation=0)\n",
        "\n",
        "# 4. Title and display\n",
        "plt.title('Correlation Heatmap')\n",
        "plt.tight_layout()  # This can help if any labels are still being cut off\n",
        "plt.show()\n",
        "\n",
        "# 5. Optionally save the figure with high resolution\n",
        "# plt.savefig(\"heatmap.png\", dpi=300)"
      ]
    },
    {
      "cell_type": "markdown",
      "metadata": {
        "id": "mkxgvlgoF8PP"
      },
      "source": [
        "We can see that the Sale_Price has high correlation with Living_SQFT and number of Full Bathrooms."
      ]
    },
    {
      "cell_type": "markdown",
      "metadata": {
        "id": "UmJzfROtGEms"
      },
      "source": [
        "### Distribution of houses over different NBHD"
      ]
    },
    {
      "cell_type": "code",
      "execution_count": 78,
      "metadata": {
        "id": "tnx5QYiCGFes",
        "colab": {
          "base_uri": "https://localhost:8080/"
        },
        "outputId": "352b8940-e588-4bdd-b31f-778ced3343e5"
      },
      "outputs": [
        {
          "output_type": "stream",
          "name": "stdout",
          "text": [
            "CENTRAL PARK                    1049\n",
            "GATEWAY / GREEN VALLEY RANCH     937\n",
            "UNION STATION                    369\n",
            "HAMPDEN                          346\n",
            "WINDSOR                          316\n",
            "                                ... \n",
            "VALVERDE                          22\n",
            "GLOBEVILLE                        20\n",
            "SUN VALLEY                         8\n",
            "CORY - MERRILL                     4\n",
            "AURARIA                            1\n",
            "Name: NBHD, Length: 75, dtype: int64\n"
          ]
        }
      ],
      "source": [
        "# Compute the number of houses per neighborhood\n",
        "House_by_NBHD = train_df['NBHD'].value_counts()\n",
        "print(House_by_NBHD )"
      ]
    },
    {
      "cell_type": "code",
      "execution_count": 79,
      "metadata": {
        "id": "iMNHS8RzGyog",
        "colab": {
          "base_uri": "https://localhost:8080/",
          "height": 601
        },
        "outputId": "0378ba3d-26e0-41b1-822f-2726d6424c8f"
      },
      "outputs": [
        {
          "output_type": "display_data",
          "data": {
            "text/plain": [
              "<Figure size 1000x600 with 1 Axes>"
            ],
            "image/png": "[encoded data removed]"
          },
          "metadata": {}
        }
      ],
      "source": [
        "# Filtering ZIP codes that appear more than once\n",
        "filtered_House_by_NBHD = House_by_NBHD[House_by_NBHD > 200]\n",
        "filtered_House_by_NBHD.plot(kind='bar', figsize=(10,6))\n",
        "plt.title('Distribution of Houses by NBHD')\n",
        "plt.ylabel('Number of Houses')\n",
        "plt.xlabel('NBHD')\n",
        "plt.xticks(rotation=90)  # Rotate x-axis labels for better readability, if necessary\n",
        "plt.tight_layout()  # Ensure everything fits without overlapping\n",
        "plt.show()\n"
      ]
    },
    {
      "cell_type": "markdown",
      "metadata": {
        "id": "PHY3Ye4wCmWM"
      },
      "source": [
        "---\n",
        "## Data Preparation\n",
        "\n",
        "The first step when building a neural network model is getting your data into the proper form to feed into the network.\n",
        "\n",
        "- Train labels: We need to extract the sale prices from the train data as train labels. Since the house prices can take very large values, to make training fast it is helpful to define the train labels as the sale prices divided by a normalization factor.\n",
        "\n",
        "- **Handing non-numeric features**: Some of the house features are non-numeric. We will learn about how to process categorical data in the upcoming lectures. For now, you can  remove those non-numeric features and only train over the numeric features.\n",
        "\n",
        "- **Feature standardization**: When predicting house prices, you started from features that took a variety of ranges—some features had small floating-point values, and others had fairly large integer values. The model might be able to automatically adapt to such heterogeneous data, but it would definitely make learning more difficult. A widespread best practice for dealing with such data is to do feature-wise normalization: for each feature in the input data (a column in the input dataframe), we subtract the mean of the feature and divide by the standard deviation, so that the feature is centered around 0 and has\n",
        "a unit standard deviation. Note that here we combine the feature vectors in the train and test data. In this way, the train and test data go through the same normalization.\n",
        "\n",
        "- **Handling missing values**: There may exist some entries with missing values. After the feature standardization, we can impute the missing values with zeros."
      ]
    },
    {
      "cell_type": "code",
      "execution_count": 80,
      "metadata": {
        "id": "t3DkZgCn0mM7",
        "colab": {
          "base_uri": "https://localhost:8080/"
        },
        "outputId": "adba8e97-fef7-4c87-91d0-aa2946da04b3"
      },
      "outputs": [
        {
          "output_type": "stream",
          "name": "stdout",
          "text": [
            "<class 'pandas.core.frame.DataFrame'>\n",
            "RangeIndex: 4964 entries, 0 to 4963\n",
            "Data columns (total 16 columns):\n",
            " #   Column       Non-Null Count  Dtype  \n",
            "---  ------       --------------  -----  \n",
            " 0   ID           4964 non-null   int64  \n",
            " 1   NBHD         4964 non-null   object \n",
            " 2   PROP_CLASS   4964 non-null   object \n",
            " 3   LIVING_SQFT  4964 non-null   int64  \n",
            " 4   FBSMT_SQFT   4964 non-null   int64  \n",
            " 5   BSMT_AREA    4964 non-null   int64  \n",
            " 6   LAND_SQFT    4964 non-null   int64  \n",
            " 7   GRD_AREA     4964 non-null   int64  \n",
            " 8   BLDG_AGE     4964 non-null   int64  \n",
            " 9   RM_AGE       2623 non-null   float64\n",
            " 10  BED_RMS      4964 non-null   float64\n",
            " 11  FULL_B       4964 non-null   float64\n",
            " 12  HLF_B        4964 non-null   int64  \n",
            " 13  STORY        4964 non-null   float64\n",
            " 14  STYLE_CN     4964 non-null   object \n",
            " 15  UNITS        4964 non-null   float64\n",
            "dtypes: float64(5), int64(8), object(3)\n",
            "memory usage: 620.6+ KB\n"
          ]
        }
      ],
      "source": [
        "test_df.info()"
      ]
    },
    {
      "cell_type": "markdown",
      "metadata": {
        "id": "Vc9Mbiy0d-39"
      },
      "source": [
        "We see that the sale_price in train data has a wide range from 50K to 2 million, with the median price 431K. We can divide the sale_price by 100K, so the normalized sale_price is between 0.5 and 20 in training data. Remember, when we output the predicted price for the test data, we need to multiply back the normalization factor."
      ]
    },
    {
      "cell_type": "code",
      "execution_count": 81,
      "metadata": {
        "id": "6tLe4pPFeBCs"
      },
      "outputs": [],
      "source": [
        "#TODO: define labels for train data\n",
        "normalization_factor=100000\n",
        "train_labels = train_df['SALE_PRICE']/normalization_factor\n",
        "train_df.drop('SALE_PRICE', axis=1, inplace=True) # drop the sale_prices in features."
      ]
    },
    {
      "cell_type": "markdown",
      "metadata": {
        "id": "Yu_DUz_aenSw"
      },
      "source": [
        "The inplace parameter, when set to True , allows you to drop the rows or columns without returning a new DataFrame. The issue arises when the drop function reorders the DataFrame, which can be problematic when the order of your data matters"
      ]
    },
    {
      "cell_type": "markdown",
      "metadata": {
        "id": "zghhA9Q1esTN"
      },
      "source": [
        "Note that both the training samples and test samples contain an ID column, which is not informative for predicting the house price. Thus we will drop the ID column."
      ]
    },
    {
      "cell_type": "code",
      "execution_count": 82,
      "metadata": {
        "id": "7qZ0EjfxetnY"
      },
      "outputs": [],
      "source": [
        "train_ID=train_df['ID']\n",
        "test_ID=test_df['ID']\n",
        "train_df.drop('ID', axis=1, inplace=True)\n",
        "test_df.drop('ID', axis=1, inplace=True)"
      ]
    },
    {
      "cell_type": "code",
      "execution_count": 83,
      "metadata": {
        "id": "gG71VfKuyd9W"
      },
      "outputs": [],
      "source": [
        "# Then we combine the feature vectors in the train data and test data\n",
        "features=pd.concat(objs=[train_df,test_df],axis=0)"
      ]
    },
    {
      "cell_type": "code",
      "execution_count": 84,
      "metadata": {
        "id": "44PZBN4py82z",
        "colab": {
          "base_uri": "https://localhost:8080/"
        },
        "outputId": "f29956d4-748b-45f4-9f12-d264d6b9735b"
      },
      "outputs": [
        {
          "output_type": "stream",
          "name": "stdout",
          "text": [
            "<class 'pandas.core.frame.DataFrame'>\n",
            "Int64Index: 16545 entries, 0 to 4963\n",
            "Data columns (total 15 columns):\n",
            " #   Column       Non-Null Count  Dtype  \n",
            "---  ------       --------------  -----  \n",
            " 0   NBHD         16545 non-null  object \n",
            " 1   PROP_CLASS   16545 non-null  object \n",
            " 2   LIVING_SQFT  16545 non-null  int64  \n",
            " 3   FBSMT_SQFT   16545 non-null  int64  \n",
            " 4   BSMT_AREA    16545 non-null  int64  \n",
            " 5   LAND_SQFT    16545 non-null  int64  \n",
            " 6   GRD_AREA     16545 non-null  int64  \n",
            " 7   BLDG_AGE     16545 non-null  int64  \n",
            " 8   RM_AGE       8705 non-null   float64\n",
            " 9   BED_RMS      16545 non-null  float64\n",
            " 10  FULL_B       16545 non-null  float64\n",
            " 11  HLF_B        16545 non-null  int64  \n",
            " 12  STORY        16545 non-null  float64\n",
            " 13  STYLE_CN     16545 non-null  object \n",
            " 14  UNITS        16545 non-null  float64\n",
            "dtypes: float64(5), int64(7), object(3)\n",
            "memory usage: 2.0+ MB\n"
          ]
        }
      ],
      "source": [
        "# median = features[\"RM_AGE\"].median()\n",
        "# features = features.fillna(median)\n",
        "features.info()"
      ]
    },
    {
      "cell_type": "markdown",
      "metadata": {
        "id": "f1L4I7q0ygyQ"
      },
      "source": [
        "We see that there are three non-numeric features, namely `NBHD`, `PROP_CLASS`, and `STYLE_CN`. We will apply one-hot encoding to those non-numeric features in our model; you could also simply drop these non-numeric features."
      ]
    },
    {
      "cell_type": "code",
      "execution_count": 85,
      "metadata": {
        "id": "N7RHSwODoVGa"
      },
      "outputs": [],
      "source": [
        "# numeric_features = features.dtypes[features.dtypes != 'object'].index\n",
        "# non_numeric_features = features.dtypes[features.dtypes == 'object'].index\n",
        "# numeric_features, non_numeric_features\n",
        "\n",
        "numeric_features = [\"LIVING_SQFT\", \"FBSMT_SQFT\", \"BSMT_AREA\", \"LAND_SQFT\", \"GRD_AREA\", \"BLDG_AGE\", \"RM_AGE\", \"BED_RMS\"]\n",
        "non_numeric_features = ['NBHD', 'PROP_CLASS', 'STYLE_CN', \"FULL_B\", \"HLF_B\", \"STORY\", \"UNITS\"]"
      ]
    },
    {
      "cell_type": "code",
      "execution_count": 86,
      "metadata": {
        "id": "c9X9cUC6nvxA"
      },
      "outputs": [],
      "source": [
        "# If you want to drop the non-numeric features, you just set drop_non_numeric_features= True.\n",
        "drop_non_numeric_features= False\n",
        "\n",
        "if drop_non_numeric_features:\n",
        "    features= features.drop(non_numeric_features, axis=1)\n",
        "else:\n",
        "    # One-hot encode categorical features\n",
        "    features = pd.get_dummies(features, columns=non_numeric_features, dummy_na=True, drop_first=True)\n",
        "\n",
        "# Check for non-numeric columns\n",
        "non_numeric_cols = features.select_dtypes(include=['object']).columns\n",
        "if not non_numeric_cols.empty:\n",
        "    raise ValueError(f\"DataFrame contains non-numeric columns: {non_numeric_cols.tolist()}\")"
      ]
    },
    {
      "cell_type": "code",
      "execution_count": 87,
      "metadata": {
        "id": "UdpzCjfyyXRL"
      },
      "outputs": [],
      "source": [
        "# # Standardize numeric features\n",
        "features[numeric_features] = features[numeric_features].apply(lambda x: (x - x.mean()) / (x.std()))\n"
      ]
    },
    {
      "cell_type": "code",
      "execution_count": 88,
      "metadata": {
        "id": "3nDD_WHCTPJ-",
        "colab": {
          "base_uri": "https://localhost:8080/"
        },
        "outputId": "ae0774a1-6526-4fb7-c120-1b3cb717a185"
      },
      "outputs": [
        {
          "output_type": "execute_result",
          "data": {
            "text/plain": [
              "(LIVING_SQFT   -6.919686e-17\n",
              " FBSMT_SQFT    -7.907445e-17\n",
              " BSMT_AREA      5.829929e-17\n",
              " LAND_SQFT      1.792998e-17\n",
              " GRD_AREA      -1.975519e-17\n",
              " BLDG_AGE      -1.385011e-17\n",
              " RM_AGE         2.795645e-17\n",
              " BED_RMS        2.122341e-16\n",
              " dtype: float64,\n",
              " LIVING_SQFT    1.0\n",
              " FBSMT_SQFT     1.0\n",
              " BSMT_AREA      1.0\n",
              " LAND_SQFT      1.0\n",
              " GRD_AREA       1.0\n",
              " BLDG_AGE       1.0\n",
              " RM_AGE         1.0\n",
              " BED_RMS        1.0\n",
              " dtype: float64)"
            ]
          },
          "metadata": {},
          "execution_count": 88
        }
      ],
      "source": [
        "# recheck the mean and std after standardization\n",
        "features[numeric_features].mean(), features[numeric_features].std()"
      ]
    },
    {
      "cell_type": "markdown",
      "metadata": {
        "id": "SI4eO3UKZMmc"
      },
      "source": [
        "We see that after standardization, the features for the train data have mean 0 and standard deviation 1."
      ]
    },
    {
      "cell_type": "code",
      "execution_count": 89,
      "metadata": {
        "id": "b0M6y8TPp2lD"
      },
      "outputs": [],
      "source": [
        "# After the feature standardization, we can impute the missing values with zeros.\n",
        "features[numeric_features] = features[numeric_features].fillna(3)"
      ]
    },
    {
      "cell_type": "markdown",
      "metadata": {
        "id": "Aw-sbAfpr-LX"
      },
      "source": [
        "Double check the features after data processing."
      ]
    },
    {
      "cell_type": "code",
      "execution_count": 90,
      "metadata": {
        "id": "cNhSp4LVI4F5",
        "colab": {
          "base_uri": "https://localhost:8080/"
        },
        "outputId": "b84addd1-74fb-4cc1-c3fe-57fc00e91387"
      },
      "outputs": [
        {
          "output_type": "stream",
          "name": "stdout",
          "text": [
            "<class 'pandas.core.frame.DataFrame'>\n",
            "Int64Index: 16545 entries, 0 to 4963\n",
            "Columns: 122 entries, LIVING_SQFT to UNITS_nan\n",
            "dtypes: float64(8), uint8(114)\n",
            "memory usage: 2.9 MB\n",
            "Index(['LIVING_SQFT', 'FBSMT_SQFT', 'BSMT_AREA', 'LAND_SQFT', 'GRD_AREA',\n",
            "       'BLDG_AGE', 'RM_AGE', 'BED_RMS', 'NBHD_AURARIA', 'NBHD_BAKER',\n",
            "       ...\n",
            "       'STORY_2.5', 'STORY_3.0', 'STORY_3.5', 'STORY_4.0', 'STORY_nan',\n",
            "       'UNITS_2.0', 'UNITS_3.0', 'UNITS_4.0', 'UNITS_5.0', 'UNITS_nan'],\n",
            "      dtype='object', length=122)\n"
          ]
        }
      ],
      "source": [
        "features.info()\n",
        "print(features.columns)"
      ]
    },
    {
      "cell_type": "code",
      "source": [
        "print(features.columns.tolist())"
      ],
      "metadata": {
        "id": "7ZOtbuNvrLdO",
        "colab": {
          "base_uri": "https://localhost:8080/"
        },
        "outputId": "f132ab38-c9a0-460b-8d08-b068ef81e3f5"
      },
      "execution_count": 91,
      "outputs": [
        {
          "output_type": "stream",
          "name": "stdout",
          "text": [
            "['LIVING_SQFT', 'FBSMT_SQFT', 'BSMT_AREA', 'LAND_SQFT', 'GRD_AREA', 'BLDG_AGE', 'RM_AGE', 'BED_RMS', 'NBHD_AURARIA', 'NBHD_BAKER', 'NBHD_BARNUM', 'NBHD_BARNUM WEST', 'NBHD_BEAR VALLEY', 'NBHD_BELCARO', 'NBHD_BERKELEY', 'NBHD_CAPITOL HILL', 'NBHD_CBD', 'NBHD_CENTRAL PARK', 'NBHD_CHAFFEE PARK', 'NBHD_CHEESMAN PARK', 'NBHD_CHERRY CREEK', 'NBHD_CITY PARK', 'NBHD_CIVIC CENTER', 'NBHD_CLAYTON', 'NBHD_COLE', 'NBHD_COLLEGE VIEW / SOUTH PLATTE', 'NBHD_CONGRESS PARK', 'NBHD_CORY - MERRILL', 'NBHD_COUNTRY CLUB', 'NBHD_DIA', 'NBHD_EAST COLFAX', 'NBHD_ELYRIA SWANSEA', 'NBHD_FIVE POINTS', 'NBHD_FORT LOGAN', 'NBHD_GATEWAY / GREEN VALLEY RANCH', 'NBHD_GLOBEVILLE', 'NBHD_GOLDSMITH', 'NBHD_HAMPDEN', 'NBHD_HAMPDEN SOUTH', 'NBHD_HARVEY PARK', 'NBHD_HARVEY PARK SOUTH', 'NBHD_HIGHLAND', 'NBHD_HILLTOP', 'NBHD_INDIAN CREEK', 'NBHD_JEFFERSON PARK', 'NBHD_LINCOLN PARK', 'NBHD_LOWRY FIELD', 'NBHD_MAR LEE', 'NBHD_MARSTON', 'NBHD_MONTBELLO', 'NBHD_MONTCLAIR', 'NBHD_NORTH CAPITOL HILL', 'NBHD_NORTH PARK HILL', 'NBHD_NORTHEAST PARK HILL', 'NBHD_OVERLAND', 'NBHD_PLATT PARK', 'NBHD_REGIS', 'NBHD_ROSEDALE', 'NBHD_RUBY HILL', 'NBHD_SKYLAND', 'NBHD_SLOAN LAKE', 'NBHD_SOUTH PARK HILL', 'NBHD_SOUTHMOOR PARK', 'NBHD_SPEER', 'NBHD_SUN VALLEY', 'NBHD_SUNNYSIDE', 'NBHD_UNION STATION', 'NBHD_UNIVERSITY', 'NBHD_UNIVERSITY HILLS', 'NBHD_UNIVERSITY PARK', 'NBHD_VALVERDE', 'NBHD_VILLA PARK', 'NBHD_VIRGINIA VILLAGE', 'NBHD_WASHINGTON PARK', 'NBHD_WASHINGTON PARK WEST', 'NBHD_WASHINGTON VIRGINIA VALE', 'NBHD_WELLSHIRE', 'NBHD_WEST COLFAX', 'NBHD_WEST HIGHLAND', 'NBHD_WESTWOOD', 'NBHD_WHITTIER', 'NBHD_WINDSOR', 'NBHD_nan', 'PROP_CLASS_SINGLE FAMILY RESIDENCE', 'PROP_CLASS_nan', 'STYLE_CN_1.5 STORY', 'STYLE_CN_2 STORY', 'STYLE_CN_2.5 STORY', 'STYLE_CN_3 STORY', 'STYLE_CN_BI-LEVEL', 'STYLE_CN_CONVERSION', 'STYLE_CN_END UNIT', 'STYLE_CN_MIDDLE UNIT', 'STYLE_CN_RANCH', 'STYLE_CN_SPLIT LEVEL', 'STYLE_CN_TRI-LEVEL', 'STYLE_CN_TRI-LEVEL W/B', 'STYLE_CN_nan', 'FULL_B_2.0', 'FULL_B_3.0', 'FULL_B_4.0', 'FULL_B_5.0', 'FULL_B_6.0', 'FULL_B_7.0', 'FULL_B_8.0', 'FULL_B_nan', 'HLF_B_1.0', 'HLF_B_2.0', 'HLF_B_3.0', 'HLF_B_nan', 'STORY_1.5', 'STORY_2.0', 'STORY_2.5', 'STORY_3.0', 'STORY_3.5', 'STORY_4.0', 'STORY_nan', 'UNITS_2.0', 'UNITS_3.0', 'UNITS_4.0', 'UNITS_5.0', 'UNITS_nan']\n"
          ]
        }
      ]
    },
    {
      "cell_type": "markdown",
      "metadata": {
        "id": "2ZMyEDlqTxz2"
      },
      "source": [
        "Note that after the one-hot encoding of the non-numeric features, now we have 105-dimensional feature."
      ]
    },
    {
      "cell_type": "code",
      "execution_count": 92,
      "metadata": {
        "id": "173vEPejAFLh",
        "colab": {
          "base_uri": "https://localhost:8080/"
        },
        "outputId": "b0272413-e517-4d44-abf1-ffda93cf11b6"
      },
      "outputs": [
        {
          "output_type": "stream",
          "name": "stdout",
          "text": [
            "LIVING_SQFT    0\n",
            "FBSMT_SQFT     0\n",
            "BSMT_AREA      0\n",
            "LAND_SQFT      0\n",
            "GRD_AREA       0\n",
            "              ..\n",
            "UNITS_2.0      0\n",
            "UNITS_3.0      0\n",
            "UNITS_4.0      0\n",
            "UNITS_5.0      0\n",
            "UNITS_nan      0\n",
            "Length: 122, dtype: int64\n"
          ]
        },
        {
          "output_type": "execute_result",
          "data": {
            "text/plain": [
              "(False, False)"
            ]
          },
          "metadata": {},
          "execution_count": 92
        }
      ],
      "source": [
        "# check whether there is any missing entry\n",
        "print(features.isnull().sum())\n",
        "any_na_train = features.isna().any().any()\n",
        "any_na_test = features.isna().any().any()\n",
        "any_na_train, any_na_test"
      ]
    },
    {
      "cell_type": "code",
      "execution_count": 93,
      "metadata": {
        "id": "wc4ZJf6l0azu",
        "colab": {
          "base_uri": "https://localhost:8080/"
        },
        "outputId": "49ccbc02-5023-4480-8a8c-798764b15334"
      },
      "outputs": [
        {
          "output_type": "execute_result",
          "data": {
            "text/plain": [
              "((11581, 122), (4964, 122))"
            ]
          },
          "metadata": {},
          "execution_count": 93
        }
      ],
      "source": [
        "# we extract out the train and test features\n",
        "train_features = features.iloc[:len(train_labels)]\n",
        "test_features = features.iloc[len(train_labels):]\n",
        "train_features.shape, test_features.shape"
      ]
    },
    {
      "cell_type": "code",
      "source": [
        "train_features.describe()"
      ],
      "metadata": {
        "id": "wyj5sVihpRBq",
        "colab": {
          "base_uri": "https://localhost:8080/",
          "height": 350
        },
        "outputId": "811e6429-f85f-433b-d397-f626a0895ea1"
      },
      "execution_count": 94,
      "outputs": [
        {
          "output_type": "execute_result",
          "data": {
            "text/plain": [
              "        LIVING_SQFT    FBSMT_SQFT     BSMT_AREA     LAND_SQFT      GRD_AREA  \\\n",
              "count  11581.000000  11581.000000  11581.000000  11581.000000  11581.000000   \n",
              "mean       0.001135      0.007718      0.005795     -0.001391     -0.006033   \n",
              "std        0.995964      1.008507      1.003702      1.001205      0.979752   \n",
              "min       -1.603269     -0.692044     -0.823130     -1.139796     -0.167508   \n",
              "25%       -0.706367     -0.692044     -0.823130     -1.139796     -0.167508   \n",
              "50%       -0.256510     -0.692044     -0.823130     -0.094746     -0.167508   \n",
              "75%        0.435145      0.863088      0.811911      0.669500     -0.167508   \n",
              "max        7.531639      6.212484      7.196703      9.542289     14.542084   \n",
              "\n",
              "           BLDG_AGE        RM_AGE       BED_RMS  NBHD_AURARIA    NBHD_BAKER  \\\n",
              "count  11581.000000  11581.000000  11581.000000  11581.000000  11581.000000   \n",
              "mean      -0.001530      1.428523     -0.003048      0.000086      0.005613   \n",
              "std        0.999297      1.662331      0.997300      0.009292      0.074710   \n",
              "min       -1.212487     -0.760084     -2.720517      0.000000      0.000000   \n",
              "25%       -0.977104     -0.508553     -0.498851      0.000000      0.000000   \n",
              "50%        0.016736      1.755230     -0.498851      0.000000      0.000000   \n",
              "75%        0.618270      3.000000      0.611982      0.000000      0.000000   \n",
              "max        2.501334      8.923876      6.166148      1.000000      1.000000   \n",
              "\n",
              "       ...     STORY_2.5     STORY_3.0     STORY_3.5     STORY_4.0  STORY_nan  \\\n",
              "count  ...  11581.000000  11581.000000  11581.000000  11581.000000    11581.0   \n",
              "mean   ...      0.013643      0.074778      0.000173      0.002590        0.0   \n",
              "std    ...      0.116009      0.263044      0.013141      0.050833        0.0   \n",
              "min    ...      0.000000      0.000000      0.000000      0.000000        0.0   \n",
              "25%    ...      0.000000      0.000000      0.000000      0.000000        0.0   \n",
              "50%    ...      0.000000      0.000000      0.000000      0.000000        0.0   \n",
              "75%    ...      0.000000      0.000000      0.000000      0.000000        0.0   \n",
              "max    ...      1.000000      1.000000      1.000000      1.000000        0.0   \n",
              "\n",
              "          UNITS_2.0     UNITS_3.0     UNITS_4.0     UNITS_5.0  UNITS_nan  \n",
              "count  11581.000000  11581.000000  11581.000000  11581.000000    11581.0  \n",
              "mean       0.010707      0.001468      0.000863      0.000086        0.0  \n",
              "std        0.102925      0.038287      0.029374      0.009292        0.0  \n",
              "min        0.000000      0.000000      0.000000      0.000000        0.0  \n",
              "25%        0.000000      0.000000      0.000000      0.000000        0.0  \n",
              "50%        0.000000      0.000000      0.000000      0.000000        0.0  \n",
              "75%        0.000000      0.000000      0.000000      0.000000        0.0  \n",
              "max        1.000000      1.000000      1.000000      1.000000        0.0  \n",
              "\n",
              "[8 rows x 122 columns]"
            ],
            "text/html": [
              "\n",
              "  <div id=\"df-93f55ad3-ca1e-4d62-9a9f-a418c322df76\" class=\"colab-df-container\">\n",
              "    <div>\n",
              "<style scoped>\n",
              "    .dataframe tbody tr th:only-of-type {\n",
              "        vertical-align: middle;\n",
              "    }\n",
              "\n",
              "    .dataframe tbody tr th {\n",
              "        vertical-align: top;\n",
              "    }\n",
              "\n",
              "    .dataframe thead th {\n",
              "        text-align: right;\n",
              "    }\n",
              "</style>\n",
              "<table border=\"1\" class=\"dataframe\">\n",
              "  <thead>\n",
              "    <tr style=\"text-align: right;\">\n",
              "      <th></th>\n",
              "      <th>LIVING_SQFT</th>\n",
              "      <th>FBSMT_SQFT</th>\n",
              "      <th>BSMT_AREA</th>\n",
              "      <th>LAND_SQFT</th>\n",
              "      <th>GRD_AREA</th>\n",
              "      <th>BLDG_AGE</th>\n",
              "      <th>RM_AGE</th>\n",
              "      <th>BED_RMS</th>\n",
              "      <th>NBHD_AURARIA</th>\n",
              "      <th>NBHD_BAKER</th>\n",
              "      <th>...</th>\n",
              "      <th>STORY_2.5</th>\n",
              "      <th>STORY_3.0</th>\n",
              "      <th>STORY_3.5</th>\n",
              "      <th>STORY_4.0</th>\n",
              "      <th>STORY_nan</th>\n",
              "      <th>UNITS_2.0</th>\n",
              "      <th>UNITS_3.0</th>\n",
              "      <th>UNITS_4.0</th>\n",
              "      <th>UNITS_5.0</th>\n",
              "      <th>UNITS_nan</th>\n",
              "    </tr>\n",
              "  </thead>\n",
              "  <tbody>\n",
              "    <tr>\n",
              "      <th>count</th>\n",
              "      <td>11581.000000</td>\n",
              "      <td>11581.000000</td>\n",
              "      <td>11581.000000</td>\n",
              "      <td>11581.000000</td>\n",
              "      <td>11581.000000</td>\n",
              "      <td>11581.000000</td>\n",
              "      <td>11581.000000</td>\n",
              "      <td>11581.000000</td>\n",
              "      <td>11581.000000</td>\n",
              "      <td>11581.000000</td>\n",
              "      <td>...</td>\n",
              "      <td>11581.000000</td>\n",
              "      <td>11581.000000</td>\n",
              "      <td>11581.000000</td>\n",
              "      <td>11581.000000</td>\n",
              "      <td>11581.0</td>\n",
              "      <td>11581.000000</td>\n",
              "      <td>11581.000000</td>\n",
              "      <td>11581.000000</td>\n",
              "      <td>11581.000000</td>\n",
              "      <td>11581.0</td>\n",
              "    </tr>\n",
              "    <tr>\n",
              "      <th>mean</th>\n",
              "      <td>0.001135</td>\n",
              "      <td>0.007718</td>\n",
              "      <td>0.005795</td>\n",
              "      <td>-0.001391</td>\n",
              "      <td>-0.006033</td>\n",
              "      <td>-0.001530</td>\n",
              "      <td>1.428523</td>\n",
              "      <td>-0.003048</td>\n",
              "      <td>0.000086</td>\n",
              "      <td>0.005613</td>\n",
              "      <td>...</td>\n",
              "      <td>0.013643</td>\n",
              "      <td>0.074778</td>\n",
              "      <td>0.000173</td>\n",
              "      <td>0.002590</td>\n",
              "      <td>0.0</td>\n",
              "      <td>0.010707</td>\n",
              "      <td>0.001468</td>\n",
              "      <td>0.000863</td>\n",
              "      <td>0.000086</td>\n",
              "      <td>0.0</td>\n",
              "    </tr>\n",
              "    <tr>\n",
              "      <th>std</th>\n",
              "      <td>0.995964</td>\n",
              "      <td>1.008507</td>\n",
              "      <td>1.003702</td>\n",
              "      <td>1.001205</td>\n",
              "      <td>0.979752</td>\n",
              "      <td>0.999297</td>\n",
              "      <td>1.662331</td>\n",
              "      <td>0.997300</td>\n",
              "      <td>0.009292</td>\n",
              "      <td>0.074710</td>\n",
              "      <td>...</td>\n",
              "      <td>0.116009</td>\n",
              "      <td>0.263044</td>\n",
              "      <td>0.013141</td>\n",
              "      <td>0.050833</td>\n",
              "      <td>0.0</td>\n",
              "      <td>0.102925</td>\n",
              "      <td>0.038287</td>\n",
              "      <td>0.029374</td>\n",
              "      <td>0.009292</td>\n",
              "      <td>0.0</td>\n",
              "    </tr>\n",
              "    <tr>\n",
              "      <th>min</th>\n",
              "      <td>-1.603269</td>\n",
              "      <td>-0.692044</td>\n",
              "      <td>-0.823130</td>\n",
              "      <td>-1.139796</td>\n",
              "      <td>-0.167508</td>\n",
              "      <td>-1.212487</td>\n",
              "      <td>-0.760084</td>\n",
              "      <td>-2.720517</td>\n",
              "      <td>0.000000</td>\n",
              "      <td>0.000000</td>\n",
              "      <td>...</td>\n",
              "      <td>0.000000</td>\n",
              "      <td>0.000000</td>\n",
              "      <td>0.000000</td>\n",
              "      <td>0.000000</td>\n",
              "      <td>0.0</td>\n",
              "      <td>0.000000</td>\n",
              "      <td>0.000000</td>\n",
              "      <td>0.000000</td>\n",
              "      <td>0.000000</td>\n",
              "      <td>0.0</td>\n",
              "    </tr>\n",
              "    <tr>\n",
              "      <th>25%</th>\n",
              "      <td>-0.706367</td>\n",
              "      <td>-0.692044</td>\n",
              "      <td>-0.823130</td>\n",
              "      <td>-1.139796</td>\n",
              "      <td>-0.167508</td>\n",
              "      <td>-0.977104</td>\n",
              "      <td>-0.508553</td>\n",
              "      <td>-0.498851</td>\n",
              "      <td>0.000000</td>\n",
              "      <td>0.000000</td>\n",
              "      <td>...</td>\n",
              "      <td>0.000000</td>\n",
              "      <td>0.000000</td>\n",
              "      <td>0.000000</td>\n",
              "      <td>0.000000</td>\n",
              "      <td>0.0</td>\n",
              "      <td>0.000000</td>\n",
              "      <td>0.000000</td>\n",
              "      <td>0.000000</td>\n",
              "      <td>0.000000</td>\n",
              "      <td>0.0</td>\n",
              "    </tr>\n",
              "    <tr>\n",
              "      <th>50%</th>\n",
              "      <td>-0.256510</td>\n",
              "      <td>-0.692044</td>\n",
              "      <td>-0.823130</td>\n",
              "      <td>-0.094746</td>\n",
              "      <td>-0.167508</td>\n",
              "      <td>0.016736</td>\n",
              "      <td>1.755230</td>\n",
              "      <td>-0.498851</td>\n",
              "      <td>0.000000</td>\n",
              "      <td>0.000000</td>\n",
              "      <td>...</td>\n",
              "      <td>0.000000</td>\n",
              "      <td>0.000000</td>\n",
              "      <td>0.000000</td>\n",
              "      <td>0.000000</td>\n",
              "      <td>0.0</td>\n",
              "      <td>0.000000</td>\n",
              "      <td>0.000000</td>\n",
              "      <td>0.000000</td>\n",
              "      <td>0.000000</td>\n",
              "      <td>0.0</td>\n",
              "    </tr>\n",
              "    <tr>\n",
              "      <th>75%</th>\n",
              "      <td>0.435145</td>\n",
              "      <td>0.863088</td>\n",
              "      <td>0.811911</td>\n",
              "      <td>0.669500</td>\n",
              "      <td>-0.167508</td>\n",
              "      <td>0.618270</td>\n",
              "      <td>3.000000</td>\n",
              "      <td>0.611982</td>\n",
              "      <td>0.000000</td>\n",
              "      <td>0.000000</td>\n",
              "      <td>...</td>\n",
              "      <td>0.000000</td>\n",
              "      <td>0.000000</td>\n",
              "      <td>0.000000</td>\n",
              "      <td>0.000000</td>\n",
              "      <td>0.0</td>\n",
              "      <td>0.000000</td>\n",
              "      <td>0.000000</td>\n",
              "      <td>0.000000</td>\n",
              "      <td>0.000000</td>\n",
              "      <td>0.0</td>\n",
              "    </tr>\n",
              "    <tr>\n",
              "      <th>max</th>\n",
              "      <td>7.531639</td>\n",
              "      <td>6.212484</td>\n",
              "      <td>7.196703</td>\n",
              "      <td>9.542289</td>\n",
              "      <td>14.542084</td>\n",
              "      <td>2.501334</td>\n",
              "      <td>8.923876</td>\n",
              "      <td>6.166148</td>\n",
              "      <td>1.000000</td>\n",
              "      <td>1.000000</td>\n",
              "      <td>...</td>\n",
              "      <td>1.000000</td>\n",
              "      <td>1.000000</td>\n",
              "      <td>1.000000</td>\n",
              "      <td>1.000000</td>\n",
              "      <td>0.0</td>\n",
              "      <td>1.000000</td>\n",
              "      <td>1.000000</td>\n",
              "      <td>1.000000</td>\n",
              "      <td>1.000000</td>\n",
              "      <td>0.0</td>\n",
              "    </tr>\n",
              "  </tbody>\n",
              "</table>\n",
              "<p>8 rows × 122 columns</p>\n",
              "</div>\n",
              "    <div class=\"colab-df-buttons\">\n",
              "\n",
              "  <div class=\"colab-df-container\">\n",
              "    <button class=\"colab-df-convert\" onclick=\"convertToInteractive('df-93f55ad3-ca1e-4d62-9a9f-a418c322df76')\"\n",
              "            title=\"Convert this dataframe to an interactive table.\"\n",
              "            style=\"display:none;\">\n",
              "\n",
              "  <svg xmlns=\"http://www.w3.org/2000/svg\" height=\"24px\" viewBox=\"0 -960 960 960\">\n",
              "    <path d=\"M120-120v-720h720v720H120Zm60-500h600v-160H180v160Zm220 220h160v-160H400v160Zm0 220h160v-160H400v160ZM180-400h160v-160H180v160Zm440 0h160v-160H620v160ZM180-180h160v-160H180v160Zm440 0h160v-160H620v160Z\"/>\n",
              "  </svg>\n",
              "    </button>\n",
              "\n",
              "  <style>\n",
              "    .colab-df-container {\n",
              "      display:flex;\n",
              "      gap: 12px;\n",
              "    }\n",
              "\n",
              "    .colab-df-convert {\n",
              "      background-color: #E8F0FE;\n",
              "      border: none;\n",
              "      border-radius: 50%;\n",
              "      cursor: pointer;\n",
              "      display: none;\n",
              "      fill: #1967D2;\n",
              "      height: 32px;\n",
              "      padding: 0 0 0 0;\n",
              "      width: 32px;\n",
              "    }\n",
              "\n",
              "    .colab-df-convert:hover {\n",
              "      background-color: #E2EBFA;\n",
              "      box-shadow: 0px 1px 2px rgba(60, 64, 67, 0.3), 0px 1px 3px 1px rgba(60, 64, 67, 0.15);\n",
              "      fill: #174EA6;\n",
              "    }\n",
              "\n",
              "    .colab-df-buttons div {\n",
              "      margin-bottom: 4px;\n",
              "    }\n",
              "\n",
              "    [theme=dark] .colab-df-convert {\n",
              "      background-color: #3B4455;\n",
              "      fill: #D2E3FC;\n",
              "    }\n",
              "\n",
              "    [theme=dark] .colab-df-convert:hover {\n",
              "      background-color: #434B5C;\n",
              "      box-shadow: 0px 1px 3px 1px rgba(0, 0, 0, 0.15);\n",
              "      filter: drop-shadow(0px 1px 2px rgba(0, 0, 0, 0.3));\n",
              "      fill: #FFFFFF;\n",
              "    }\n",
              "  </style>\n",
              "\n",
              "    <script>\n",
              "      const buttonEl =\n",
              "        document.querySelector('#df-93f55ad3-ca1e-4d62-9a9f-a418c322df76 button.colab-df-convert');\n",
              "      buttonEl.style.display =\n",
              "        google.colab.kernel.accessAllowed ? 'block' : 'none';\n",
              "\n",
              "      async function convertToInteractive(key) {\n",
              "        const element = document.querySelector('#df-93f55ad3-ca1e-4d62-9a9f-a418c322df76');\n",
              "        const dataTable =\n",
              "          await google.colab.kernel.invokeFunction('convertToInteractive',\n",
              "                                                    [key], {});\n",
              "        if (!dataTable) return;\n",
              "\n",
              "        const docLinkHtml = 'Like what you see? Visit the ' +\n",
              "          '<a target=\"_blank\" href=https://colab.research.google.com/notebooks/data_table.ipynb>data table notebook</a>'\n",
              "          + ' to learn more about interactive tables.';\n",
              "        element.innerHTML = '';\n",
              "        dataTable['output_type'] = 'display_data';\n",
              "        await google.colab.output.renderOutput(dataTable, element);\n",
              "        const docLink = document.createElement('div');\n",
              "        docLink.innerHTML = docLinkHtml;\n",
              "        element.appendChild(docLink);\n",
              "      }\n",
              "    </script>\n",
              "  </div>\n",
              "\n",
              "\n",
              "<div id=\"df-631c8ec2-d0c1-4b0b-a288-02a9f8d9eaed\">\n",
              "  <button class=\"colab-df-quickchart\" onclick=\"quickchart('df-631c8ec2-d0c1-4b0b-a288-02a9f8d9eaed')\"\n",
              "            title=\"Suggest charts\"\n",
              "            style=\"display:none;\">\n",
              "\n",
              "<svg xmlns=\"http://www.w3.org/2000/svg\" height=\"24px\"viewBox=\"0 0 24 24\"\n",
              "     width=\"24px\">\n",
              "    <g>\n",
              "        <path d=\"M19 3H5c-1.1 0-2 .9-2 2v14c0 1.1.9 2 2 2h14c1.1 0 2-.9 2-2V5c0-1.1-.9-2-2-2zM9 17H7v-7h2v7zm4 0h-2V7h2v10zm4 0h-2v-4h2v4z\"/>\n",
              "    </g>\n",
              "</svg>\n",
              "  </button>\n",
              "\n",
              "<style>\n",
              "  .colab-df-quickchart {\n",
              "      --bg-color: #E8F0FE;\n",
              "      --fill-color: #1967D2;\n",
              "      --hover-bg-color: #E2EBFA;\n",
              "      --hover-fill-color: #174EA6;\n",
              "      --disabled-fill-color: #AAA;\n",
              "      --disabled-bg-color: #DDD;\n",
              "  }\n",
              "\n",
              "  [theme=dark] .colab-df-quickchart {\n",
              "      --bg-color: #3B4455;\n",
              "      --fill-color: #D2E3FC;\n",
              "      --hover-bg-color: #434B5C;\n",
              "      --hover-fill-color: #FFFFFF;\n",
              "      --disabled-bg-color: #3B4455;\n",
              "      --disabled-fill-color: #666;\n",
              "  }\n",
              "\n",
              "  .colab-df-quickchart {\n",
              "    background-color: var(--bg-color);\n",
              "    border: none;\n",
              "    border-radius: 50%;\n",
              "    cursor: pointer;\n",
              "    display: none;\n",
              "    fill: var(--fill-color);\n",
              "    height: 32px;\n",
              "    padding: 0;\n",
              "    width: 32px;\n",
              "  }\n",
              "\n",
              "  .colab-df-quickchart:hover {\n",
              "    background-color: var(--hover-bg-color);\n",
              "    box-shadow: 0 1px 2px rgba(60, 64, 67, 0.3), 0 1px 3px 1px rgba(60, 64, 67, 0.15);\n",
              "    fill: var(--button-hover-fill-color);\n",
              "  }\n",
              "\n",
              "  .colab-df-quickchart-complete:disabled,\n",
              "  .colab-df-quickchart-complete:disabled:hover {\n",
              "    background-color: var(--disabled-bg-color);\n",
              "    fill: var(--disabled-fill-color);\n",
              "    box-shadow: none;\n",
              "  }\n",
              "\n",
              "  .colab-df-spinner {\n",
              "    border: 2px solid var(--fill-color);\n",
              "    border-color: transparent;\n",
              "    border-bottom-color: var(--fill-color);\n",
              "    animation:\n",
              "      spin 1s steps(1) infinite;\n",
              "  }\n",
              "\n",
              "  @keyframes spin {\n",
              "    0% {\n",
              "      border-color: transparent;\n",
              "      border-bottom-color: var(--fill-color);\n",
              "      border-left-color: var(--fill-color);\n",
              "    }\n",
              "    20% {\n",
              "      border-color: transparent;\n",
              "      border-left-color: var(--fill-color);\n",
              "      border-top-color: var(--fill-color);\n",
              "    }\n",
              "    30% {\n",
              "      border-color: transparent;\n",
              "      border-left-color: var(--fill-color);\n",
              "      border-top-color: var(--fill-color);\n",
              "      border-right-color: var(--fill-color);\n",
              "    }\n",
              "    40% {\n",
              "      border-color: transparent;\n",
              "      border-right-color: var(--fill-color);\n",
              "      border-top-color: var(--fill-color);\n",
              "    }\n",
              "    60% {\n",
              "      border-color: transparent;\n",
              "      border-right-color: var(--fill-color);\n",
              "    }\n",
              "    80% {\n",
              "      border-color: transparent;\n",
              "      border-right-color: var(--fill-color);\n",
              "      border-bottom-color: var(--fill-color);\n",
              "    }\n",
              "    90% {\n",
              "      border-color: transparent;\n",
              "      border-bottom-color: var(--fill-color);\n",
              "    }\n",
              "  }\n",
              "</style>\n",
              "\n",
              "  <script>\n",
              "    async function quickchart(key) {\n",
              "      const quickchartButtonEl =\n",
              "        document.querySelector('#' + key + ' button');\n",
              "      quickchartButtonEl.disabled = true;  // To prevent multiple clicks.\n",
              "      quickchartButtonEl.classList.add('colab-df-spinner');\n",
              "      try {\n",
              "        const charts = await google.colab.kernel.invokeFunction(\n",
              "            'suggestCharts', [key], {});\n",
              "      } catch (error) {\n",
              "        console.error('Error during call to suggestCharts:', error);\n",
              "      }\n",
              "      quickchartButtonEl.classList.remove('colab-df-spinner');\n",
              "      quickchartButtonEl.classList.add('colab-df-quickchart-complete');\n",
              "    }\n",
              "    (() => {\n",
              "      let quickchartButtonEl =\n",
              "        document.querySelector('#df-631c8ec2-d0c1-4b0b-a288-02a9f8d9eaed button');\n",
              "      quickchartButtonEl.style.display =\n",
              "        google.colab.kernel.accessAllowed ? 'block' : 'none';\n",
              "    })();\n",
              "  </script>\n",
              "</div>\n",
              "    </div>\n",
              "  </div>\n"
            ]
          },
          "metadata": {},
          "execution_count": 94
        }
      ]
    },
    {
      "cell_type": "code",
      "execution_count": 95,
      "metadata": {
        "id": "XcjojyA1r6g1"
      },
      "outputs": [],
      "source": [
        "import torch\n",
        "import numpy as np\n",
        "\n",
        "# Convert training features and labels to PyTorch tensors\n",
        "train_features = torch.tensor(train_features.values.astype(np.float32), dtype=torch.float32)\n",
        "test_features = torch.tensor(test_features.values.astype(np.float32), dtype=torch.float32)\n",
        "train_labels = torch.tensor(train_labels.values.reshape(-1, 1).astype(np.float32), dtype=torch.float32)"
      ]
    },
    {
      "cell_type": "code",
      "execution_count": 96,
      "metadata": {
        "id": "67Wx2_SOAFLh",
        "colab": {
          "base_uri": "https://localhost:8080/"
        },
        "outputId": "05ac7893-dc89-4e2a-fd58-200e4bda623c"
      },
      "outputs": [
        {
          "output_type": "execute_result",
          "data": {
            "text/plain": [
              "tensor([[ 2.8500],\n",
              "        [12.3000],\n",
              "        [ 4.2000],\n",
              "        ...,\n",
              "        [ 6.0200],\n",
              "        [ 3.8370],\n",
              "        [ 5.5000]])"
            ]
          },
          "metadata": {},
          "execution_count": 96
        }
      ],
      "source": [
        "train_labels"
      ]
    },
    {
      "cell_type": "code",
      "execution_count": 97,
      "metadata": {
        "id": "-bc0cuKEjC5Z",
        "colab": {
          "base_uri": "https://localhost:8080/"
        },
        "outputId": "bc89232a-ba95-486d-e852-bd5e10eb4075"
      },
      "outputs": [
        {
          "output_type": "execute_result",
          "data": {
            "text/plain": [
              "(torch.Size([11581, 122]), torch.Size([11581, 1]))"
            ]
          },
          "metadata": {},
          "execution_count": 97
        }
      ],
      "source": [
        "train_features.shape, train_labels.shape"
      ]
    },
    {
      "cell_type": "markdown",
      "metadata": {
        "id": "gBJ3mU_qLVRv"
      },
      "source": [
        "---\n",
        "## Training and Validation\n",
        "\n",
        "To prevent overfitting, we'll split it our training data into training and validation. We will use validation set to select the appropriate model.\n",
        "One way is to use the [`train_test_split` function](https://scikit-learn.org/stable/modules/generated/sklearn.model_selection.train_test_split.html). You're more than welcome to use your own way."
      ]
    },
    {
      "cell_type": "code",
      "execution_count": 98,
      "metadata": {
        "id": "kua2akLcLgLm"
      },
      "outputs": [],
      "source": [
        "#TODO: filling in the missing code to split train data into train and validation\n",
        "from sklearn.model_selection import train_test_split  # Importing train_test_split function from sklearn for splitting data into training set and validation set\n",
        "# Splitting the training data: 20% is validation data\n",
        "ultimate_train_features = train_features\n",
        "ultimate_train_labels = train_labels\n",
        "\n",
        "\n",
        "train_indices, valid_indices = train_test_split(\n",
        "    range(len(train_features)),\n",
        "    test_size= 0.1,\n",
        "    random_state=10\n",
        ")\n",
        "\n",
        "train_features_split = train_features[train_indices]\n",
        "train_labels_split = train_labels[train_indices]\n",
        "valid_features_split = train_features[valid_indices]\n",
        "valid_labels_split = train_labels[valid_indices]\n",
        "\n",
        "train_features, train_labels, valid_features, valid_labels = train_features[train_indices], train_labels[train_indices], train_features[valid_indices], train_labels[valid_indices]\n",
        "\n"
      ]
    },
    {
      "cell_type": "code",
      "execution_count": 99,
      "metadata": {
        "id": "W97WNbfULuGS",
        "colab": {
          "base_uri": "https://localhost:8080/"
        },
        "outputId": "8bf6ad79-11ba-46f0-aab2-e02a5634da48"
      },
      "outputs": [
        {
          "output_type": "stream",
          "name": "stdout",
          "text": [
            "torch.Size([10422, 122])\n",
            "torch.Size([1159, 122])\n",
            "torch.Size([10422, 1])\n",
            "torch.Size([1159, 1])\n"
          ]
        }
      ],
      "source": [
        "print(train_features.shape)\n",
        "print(valid_features.shape)\n",
        "print(train_labels.shape)\n",
        "print(valid_labels.shape)"
      ]
    },
    {
      "cell_type": "markdown",
      "metadata": {
        "id": "GpfNC1455HYf"
      },
      "source": [
        "---\n",
        "## DataLoaders and Batching\n",
        "\n",
        "After creating training, test, and validation data, we can create DataLoaders for this data by following two steps:\n",
        "1. Create a known format for accessing our data, using [TensorDataset](https://pytorch.org/docs/stable/data.html#torch.utils.data.TensorDataset) which takes in an input set of data and a target set of data with the same first dimension, and creates a dataset.\n",
        "2. Create DataLoaders and batch our training, validation, and test Tensor datasets. Note that we will shuffle the train data, so the model will not learn a particular order. For valid and test data, we do not shuffle."
      ]
    },
    {
      "cell_type": "code",
      "execution_count": 29,
      "metadata": {
        "id": "iFnex-AG5hu6"
      },
      "outputs": [],
      "source": [
        "from torch.utils.data import TensorDataset, DataLoader\n",
        "train_data = TensorDataset(train_features, train_labels)\n",
        "train_loader = DataLoader(train_data, batch_size=16, shuffle=True)\n",
        "#TODO: create dataloader for validation data\n",
        "valid_data = TensorDataset(valid_features, valid_labels)\n",
        "valid_loader = DataLoader(valid_data, batch_size = 16, shuffle = False)"
      ]
    },
    {
      "cell_type": "code",
      "execution_count": 30,
      "metadata": {
        "id": "k8LmCiW3S8cQ"
      },
      "outputs": [],
      "source": [
        "test_data = TensorDataset(test_features)\n",
        "test_loader = DataLoader(test_data, batch_size=16, shuffle=False)\n",
        "\n",
        "ultimate_train_data = TensorDataset(ultimate_train_features, ultimate_train_labels)\n",
        "ultimate_train_loader = DataLoader(ultimate_train_data, batch_size = 16, shuffle = True)"
      ]
    },
    {
      "cell_type": "markdown",
      "metadata": {
        "id": "IdAZUijCBb2U"
      },
      "source": [
        "Let's take a batch to have a sanity check"
      ]
    },
    {
      "cell_type": "code",
      "execution_count": 31,
      "metadata": {
        "id": "TO2H6Wo1BbAB",
        "colab": {
          "base_uri": "https://localhost:8080/"
        },
        "outputId": "fabf6dde-775a-4a7f-c8c2-d17fc2a4e3d1"
      },
      "outputs": [
        {
          "output_type": "stream",
          "name": "stdout",
          "text": [
            "Sample input size:  torch.Size([16, 122])\n",
            "Sample input: \n",
            " tensor([[ 0.7500, -0.6920,  0.9583,  ...,  0.0000,  0.0000,  0.0000],\n",
            "        [-0.8132, -0.6920, -0.8231,  ...,  0.0000,  0.0000,  0.0000],\n",
            "        [-0.8821, -0.6920, -0.8231,  ...,  0.0000,  0.0000,  0.0000],\n",
            "        ...,\n",
            "        [-0.8737, -0.6920, -0.8231,  ...,  0.0000,  0.0000,  0.0000],\n",
            "        [-0.0527, -0.6920, -0.8231,  ...,  0.0000,  0.0000,  0.0000],\n",
            "        [-0.1272,  0.6114,  0.3295,  ...,  0.0000,  0.0000,  0.0000]])\n",
            "\n",
            "Sample label size:  torch.Size([16, 1])\n",
            "Sample label: \n",
            " tensor([[ 3.8000],\n",
            "        [ 2.7500],\n",
            "        [ 4.2554],\n",
            "        [ 6.0500],\n",
            "        [ 2.1500],\n",
            "        [11.5000],\n",
            "        [ 1.8378],\n",
            "        [ 7.6000],\n",
            "        [ 6.9500],\n",
            "        [ 3.5500],\n",
            "        [ 5.2032],\n",
            "        [ 1.5000],\n",
            "        [ 1.7400],\n",
            "        [ 1.5700],\n",
            "        [ 5.6500],\n",
            "        [ 3.7700]])\n"
          ]
        }
      ],
      "source": [
        "# obtain one batch of training data\n",
        "dataiter = iter(train_loader)\n",
        "features, labels = next(dataiter)\n",
        "\n",
        "print('Sample input size: ', features.size()) # batch_size, seq_length\n",
        "print('Sample input: \\n', features)\n",
        "print()\n",
        "print('Sample label size: ', labels.size()) # batch_size\n",
        "print('Sample label: \\n', labels)"
      ]
    },
    {
      "cell_type": "markdown",
      "metadata": {
        "id": "BQ7a1MTxbK_T"
      },
      "source": [
        "---\n",
        "## Linear Regression as Benchmark\n",
        "\n",
        "Let us build a linear regression model as a benchmark. Note that the linear regression model can be viewed as a special instance of multi-layer perception with no hidden layer and a single output neuron."
      ]
    },
    {
      "cell_type": "code",
      "execution_count": 32,
      "metadata": {
        "id": "ez55bAsjbOhq"
      },
      "outputs": [],
      "source": [
        "# Build a linear regression model network\n",
        "lin_net = nn.Linear(train_features.shape[1], 1)"
      ]
    },
    {
      "cell_type": "markdown",
      "metadata": {
        "id": "O1_ZsGNRfOVI"
      },
      "source": [
        "Let's print out the model achitecture."
      ]
    },
    {
      "cell_type": "code",
      "execution_count": 33,
      "metadata": {
        "id": "wYyVOBJIfPmE",
        "colab": {
          "base_uri": "https://localhost:8080/"
        },
        "outputId": "88df29a8-ff17-4be7-9531-884d77ed2005"
      },
      "outputs": [
        {
          "output_type": "execute_result",
          "data": {
            "text/plain": [
              "Linear(in_features=122, out_features=1, bias=True)"
            ]
          },
          "metadata": {},
          "execution_count": 33
        }
      ],
      "source": [
        "lin_net"
      ]
    },
    {
      "cell_type": "markdown",
      "metadata": {
        "id": "sjsqBCoGfTgk"
      },
      "source": [
        "Let's take a batch and see the output"
      ]
    },
    {
      "cell_type": "code",
      "execution_count": 34,
      "metadata": {
        "id": "Jck1SXWWfWdy",
        "colab": {
          "base_uri": "https://localhost:8080/"
        },
        "outputId": "5c32010b-0a3d-44c1-8291-15b396f2d614"
      },
      "outputs": [
        {
          "output_type": "execute_result",
          "data": {
            "text/plain": [
              "(torch.Size([16, 1]), torch.Size([16, 1]))"
            ]
          },
          "metadata": {},
          "execution_count": 34
        }
      ],
      "source": [
        "features, labels = next(dataiter)\n",
        "output=lin_net(features)\n",
        "output.shape,labels.shape"
      ]
    },
    {
      "cell_type": "markdown",
      "metadata": {
        "id": "4gP6KXY_TAR3"
      },
      "source": [
        "---\n",
        "## Train the model"
      ]
    },
    {
      "cell_type": "markdown",
      "metadata": {
        "id": "2EBhmGZh4Gt9"
      },
      "source": [
        "First, we will use GPU training if it is availabe."
      ]
    },
    {
      "cell_type": "code",
      "execution_count": 35,
      "metadata": {
        "id": "CFheqQ4Q4L49",
        "colab": {
          "base_uri": "https://localhost:8080/"
        },
        "outputId": "467e5052-2d6b-4466-e4be-0788641d7251"
      },
      "outputs": [
        {
          "output_type": "stream",
          "name": "stdout",
          "text": [
            "Using gpu: True\n"
          ]
        }
      ],
      "source": [
        "device = torch.device(\"cuda:0\" if torch.cuda.is_available() else \"cpu\")\n",
        "lin_net = lin_net.to(device)\n",
        "print(f\"Using gpu: {torch.cuda.is_available()}\")"
      ]
    },
    {
      "cell_type": "markdown",
      "metadata": {
        "id": "SKEzpB5F5FCa"
      },
      "source": [
        "Second, let us specify the loss function."
      ]
    },
    {
      "cell_type": "code",
      "execution_count": 36,
      "metadata": {
        "id": "_rEH9aVe4_7E"
      },
      "outputs": [],
      "source": [
        "#Since both the output and the label are real valued, we will use the standard mean-squared loss.\n",
        "criterion_MSE = nn.MSELoss()\n",
        "\n",
        "class MER(nn.Module):\n",
        "  def __init__(self):\n",
        "    super(MER, self).__init__()\n",
        "  def forward(self, output, labels):\n",
        "    return torch.median(torch.abs((output-labels)/labels))\n",
        "\n",
        "criterion_MER = MER()"
      ]
    },
    {
      "cell_type": "markdown",
      "metadata": {
        "id": "YosuRJqr7VDG"
      },
      "source": [
        "Third, while we are using the mean-squared loss for training loss, we will use\n",
        "a different metric to measure the predictive performance.\n",
        "\n",
        "Note that with house prices, as with stock prices, we care about relative quantities more than absolute quantities. Thus we tend to care more about the relative error than about the absolute error. For instance, if our prediction is off by \\\\$100,000 when estimating the sale price of a house which is \\\\$125,000, then we are probably doing a horrible job. On the other hand, if we err by this amount for a house with sale price \\\\$2 million, this might represent a pretty  accurate prediction.\n",
        "\n",
        "To address this issue, we will use the median error rate (MER) used by [Zestimate](https://www.zillow.com/z/zestimate/) to measure the predictive performance. The error rate is defined as\n",
        "$$\n",
        "\\text{Error Rate} = \\left| \\frac{\\text{Predicted Price}-\\text{Actual Price}}{\\text{Actual Price}} \\right|\n",
        "$$\n",
        "The median error rate is defined as the median of error rates for all properties."
      ]
    },
    {
      "cell_type": "markdown",
      "source": [
        "Define functions for training purposes"
      ],
      "metadata": {
        "id": "i20-l0_cR0ZP"
      }
    },
    {
      "cell_type": "code",
      "source": [
        "def train_dynamic(model, epochs, lr, criterion, train_loader, valid_loader, patience, weight=None, device='cuda'):\n",
        "    model.to(device)\n",
        "    model.train()\n",
        "\n",
        "    if weight is None:\n",
        "        optimizer = torch.optim.Adam(model.parameters(), lr=lr)\n",
        "    else:\n",
        "        optimizer = torch.optim.Adam(model.parameters(), lr=lr, weight_decay=weight)\n",
        "\n",
        "    # Dynamic learning rate\n",
        "    scheduler = torch.optim.lr_scheduler.ReduceLROnPlateau(optimizer, 'min', patience=patience//2, factor=0.1, verbose=True)\n",
        "\n",
        "    # Early Stopping\n",
        "    the_last_loss = np.Inf\n",
        "    early_stopping_counter = 0\n",
        "    early_stop = False\n",
        "\n",
        "    train_losses, valid_losses = [], []\n",
        "    for e in range(epochs):\n",
        "        total_train_loss = 0\n",
        "        for images, labels in train_loader:\n",
        "            images, labels = images.to(device), labels.to(device)\n",
        "            # Forward pass\n",
        "            output = model(images)\n",
        "            # Calculate loss\n",
        "            loss = criterion(output, labels)\n",
        "            # Clean gradients\n",
        "            optimizer.zero_grad()\n",
        "            # Backward pass\n",
        "            loss.backward()\n",
        "            # Update step\n",
        "            optimizer.step()\n",
        "            total_train_loss += loss.item()\n",
        "\n",
        "        # Validation pass\n",
        "        total_validation_loss = 0\n",
        "        with torch.no_grad():\n",
        "            model.eval()\n",
        "            for images, labels in valid_loader:\n",
        "                images, labels = images.to(device), labels.to(device)\n",
        "                output = model(images)\n",
        "                loss = criterion(output, labels)\n",
        "                total_validation_loss += loss.item()\n",
        "        model.train()\n",
        "\n",
        "        # Calculate average losses\n",
        "        train_loss = total_train_loss / len(train_loader)\n",
        "        valid_loss = total_validation_loss / len(valid_loader)\n",
        "        train_losses.append(train_loss)\n",
        "        valid_losses.append(valid_loss)\n",
        "\n",
        "        print(f\"Epoch {e+1}/{epochs} - Training Loss: {train_loss:.5f}, Validation Loss: {valid_loss:.5f}\")\n",
        "\n",
        "        #Step the scheduler\n",
        "        scheduler.step(valid_loss)\n",
        "\n",
        "        #check for early stopping\n",
        "        if valid_loss < the_last_loss:\n",
        "            the_last_loss = valid_loss\n",
        "            early_stopping_counter = 0\n",
        "        else:\n",
        "            early_stopping_counter += 1\n",
        "            if early_stopping_counter >= patience:\n",
        "                print(f'Early stopping triggered after epoch {e+1}.')\n",
        "                early_stop = True\n",
        "                break\n",
        "    return model, optimizer, scheduler, train_losses, valid_losses, early_stop\n",
        "\n",
        "\n",
        "\n",
        "def train(model, epochs, lr, criterion, train_loader, valid_loader, weight=None):\n",
        "  model.train()\n",
        "  if weight is None:\n",
        "    optimizer = torch.optim.Adam(model.parameters(), lr = lr)\n",
        "  else:\n",
        "    optimizer = torch.optim.Adam(model.parameters(), lr = lr, weight_decay=weight)\n",
        "  count = 1\n",
        "\n",
        "  train_losses, valid_losses = [], []\n",
        "  for e in range(epochs):\n",
        "    total_train_loss = 0\n",
        "    for images, labels in train_loader:\n",
        "      images = images.to(device)\n",
        "      labels = labels.to(device)\n",
        "      # 1. forward pass\n",
        "      output = model(images)\n",
        "\n",
        "      # 2. calculate loss\n",
        "      loss = criterion(output, labels)\n",
        "\n",
        "      # 3. clean gradients\n",
        "      optimizer.zero_grad()\n",
        "\n",
        "      # 4. backward\n",
        "      loss.backward()\n",
        "\n",
        "      # 5. update to the next step\n",
        "      optimizer.step()\n",
        "\n",
        "      total_train_loss += loss.item()\n",
        "\n",
        "    else:\n",
        "      total_validation_loss = 0\n",
        "      accuracy = 0\n",
        "\n",
        "      with torch.no_grad():\n",
        "        model.eval()\n",
        "        for images, labels in valid_loader:\n",
        "          images = images.to(device)\n",
        "          labels = labels.to(device)\n",
        "          output2 = model(images)\n",
        "          loss = criterion(output2, labels)\n",
        "          total_validation_loss += loss.item()\n",
        "      model.train()\n",
        "\n",
        "      train_loss = total_train_loss / len(train_loader)\n",
        "      valid_loss = total_validation_loss / len(valid_loader)\n",
        "      train_losses.append(train_loss)\n",
        "      valid_losses.append(valid_loss)\n",
        "\n",
        "      print(f\"epoch {count} Training loss: {train_loss:.5f} Valid_loss: {valid_loss:.5f}\")\n",
        "      count += 1\n",
        "  return train_losses, valid_losses\n"
      ],
      "metadata": {
        "id": "CVRGfCPfE8xj"
      },
      "execution_count": 37,
      "outputs": []
    },
    {
      "cell_type": "markdown",
      "metadata": {
        "id": "TweT3hAxadKR"
      },
      "source": [
        "We are now ready to train the network. Let’s try training the model a bit longer: 200 epochs. To keep a record of how well the model does at each epoch, we will save the per-epoch training error and validation error in the training loop."
      ]
    },
    {
      "cell_type": "markdown",
      "metadata": {
        "id": "DXRA3VrD5--n"
      },
      "source": [
        "Define a function to plot errors."
      ]
    },
    {
      "cell_type": "code",
      "execution_count": 38,
      "metadata": {
        "id": "rYbMwpcn5-HR"
      },
      "outputs": [],
      "source": [
        "#TODO: Write code to plot the training and vadliation errors (MER) over epochs\n",
        "def plot(train_losses, valid_losses):\n",
        "  plt.plot(train_losses, label = \"Train loss\")\n",
        "  plt.plot(valid_losses, label = \"Valid loss\")\n",
        "  plt.xlabel(\"Epochs\")\n",
        "  plt.ylabel(\"Losses\")\n",
        "  plt.title(\"Training Error vs. Epoch\")\n",
        "  plt.legend(frameon=True)\n",
        "  plt.show()"
      ]
    },
    {
      "cell_type": "code",
      "execution_count": 39,
      "metadata": {
        "id": "BOD90gxML28c",
        "colab": {
          "base_uri": "https://localhost:8080/"
        },
        "outputId": "c05b6fc8-1989-4396-c22f-01c93718b201"
      },
      "outputs": [
        {
          "output_type": "stream",
          "name": "stdout",
          "text": [
            "epoch 1 Training loss: 0.73257 Valid_loss: 0.53427\n",
            "epoch 2 Training loss: 0.44139 Valid_loss: 0.39234\n",
            "epoch 3 Training loss: 0.33896 Valid_loss: 0.31633\n",
            "epoch 4 Training loss: 0.28347 Valid_loss: 0.26432\n",
            "epoch 5 Training loss: 0.24826 Valid_loss: 0.23772\n",
            "epoch 6 Training loss: 0.22105 Valid_loss: 0.22218\n",
            "epoch 7 Training loss: 0.20812 Valid_loss: 0.21000\n",
            "epoch 8 Training loss: 0.19550 Valid_loss: 0.19913\n",
            "epoch 9 Training loss: 0.18643 Valid_loss: 0.19303\n",
            "epoch 10 Training loss: 0.17958 Valid_loss: 0.18873\n",
            "epoch 11 Training loss: 0.17696 Valid_loss: 0.18435\n",
            "epoch 12 Training loss: 0.17339 Valid_loss: 0.18356\n",
            "epoch 13 Training loss: 0.16893 Valid_loss: 0.17864\n",
            "epoch 14 Training loss: 0.16776 Valid_loss: 0.18009\n",
            "epoch 15 Training loss: 0.16572 Valid_loss: 0.17761\n",
            "epoch 16 Training loss: 0.16161 Valid_loss: 0.17431\n",
            "epoch 17 Training loss: 0.15819 Valid_loss: 0.17298\n",
            "epoch 18 Training loss: 0.15661 Valid_loss: 0.16979\n",
            "epoch 19 Training loss: 0.15375 Valid_loss: 0.17193\n",
            "epoch 20 Training loss: 0.15572 Valid_loss: 0.16801\n",
            "epoch 21 Training loss: 0.15309 Valid_loss: 0.16569\n",
            "epoch 22 Training loss: 0.15124 Valid_loss: 0.16436\n",
            "epoch 23 Training loss: 0.14912 Valid_loss: 0.16260\n",
            "epoch 24 Training loss: 0.14707 Valid_loss: 0.16071\n",
            "epoch 25 Training loss: 0.14558 Valid_loss: 0.15856\n",
            "epoch 26 Training loss: 0.14563 Valid_loss: 0.15662\n",
            "epoch 27 Training loss: 0.14302 Valid_loss: 0.15486\n",
            "epoch 28 Training loss: 0.14395 Valid_loss: 0.15528\n",
            "epoch 29 Training loss: 0.14197 Valid_loss: 0.15505\n",
            "epoch 30 Training loss: 0.14195 Valid_loss: 0.15340\n",
            "epoch 31 Training loss: 0.13993 Valid_loss: 0.15013\n",
            "epoch 32 Training loss: 0.13853 Valid_loss: 0.14966\n",
            "epoch 33 Training loss: 0.13917 Valid_loss: 0.14912\n",
            "epoch 34 Training loss: 0.13702 Valid_loss: 0.14789\n",
            "epoch 35 Training loss: 0.13668 Valid_loss: 0.14737\n",
            "epoch 36 Training loss: 0.13625 Valid_loss: 0.14770\n",
            "epoch 37 Training loss: 0.13362 Valid_loss: 0.14501\n",
            "epoch 38 Training loss: 0.13437 Valid_loss: 0.14595\n",
            "epoch 39 Training loss: 0.13149 Valid_loss: 0.14176\n",
            "epoch 40 Training loss: 0.13323 Valid_loss: 0.14106\n",
            "epoch 41 Training loss: 0.13211 Valid_loss: 0.14234\n",
            "epoch 42 Training loss: 0.12976 Valid_loss: 0.14369\n",
            "epoch 43 Training loss: 0.13097 Valid_loss: 0.14041\n",
            "epoch 44 Training loss: 0.13088 Valid_loss: 0.13877\n",
            "epoch 45 Training loss: 0.12968 Valid_loss: 0.13922\n",
            "epoch 46 Training loss: 0.12975 Valid_loss: 0.13927\n",
            "epoch 47 Training loss: 0.12760 Valid_loss: 0.13568\n",
            "epoch 48 Training loss: 0.12746 Valid_loss: 0.13481\n",
            "epoch 49 Training loss: 0.12716 Valid_loss: 0.13543\n",
            "epoch 50 Training loss: 0.12749 Valid_loss: 0.13735\n",
            "epoch 51 Training loss: 0.12679 Valid_loss: 0.13565\n",
            "epoch 52 Training loss: 0.12616 Valid_loss: 0.13465\n",
            "epoch 53 Training loss: 0.12563 Valid_loss: 0.13704\n",
            "epoch 54 Training loss: 0.12646 Valid_loss: 0.13401\n",
            "epoch 55 Training loss: 0.12586 Valid_loss: 0.13298\n",
            "epoch 56 Training loss: 0.12442 Valid_loss: 0.13510\n",
            "epoch 57 Training loss: 0.12334 Valid_loss: 0.13395\n",
            "epoch 58 Training loss: 0.12433 Valid_loss: 0.13334\n",
            "epoch 59 Training loss: 0.12379 Valid_loss: 0.13332\n",
            "epoch 60 Training loss: 0.12245 Valid_loss: 0.13335\n",
            "epoch 61 Training loss: 0.12264 Valid_loss: 0.13199\n",
            "epoch 62 Training loss: 0.12108 Valid_loss: 0.13235\n",
            "epoch 63 Training loss: 0.12166 Valid_loss: 0.13309\n",
            "epoch 64 Training loss: 0.12119 Valid_loss: 0.13091\n",
            "epoch 65 Training loss: 0.11888 Valid_loss: 0.13141\n",
            "epoch 66 Training loss: 0.12138 Valid_loss: 0.13159\n",
            "epoch 67 Training loss: 0.11933 Valid_loss: 0.13095\n",
            "epoch 68 Training loss: 0.11896 Valid_loss: 0.13119\n",
            "epoch 69 Training loss: 0.12125 Valid_loss: 0.13256\n",
            "epoch 70 Training loss: 0.12022 Valid_loss: 0.13205\n",
            "epoch 71 Training loss: 0.11969 Valid_loss: 0.13108\n",
            "epoch 72 Training loss: 0.11870 Valid_loss: 0.13139\n",
            "epoch 73 Training loss: 0.11796 Valid_loss: 0.13118\n",
            "epoch 74 Training loss: 0.11869 Valid_loss: 0.13249\n",
            "epoch 75 Training loss: 0.11785 Valid_loss: 0.13088\n",
            "epoch 76 Training loss: 0.11823 Valid_loss: 0.12925\n",
            "epoch 77 Training loss: 0.11914 Valid_loss: 0.12932\n",
            "epoch 78 Training loss: 0.11724 Valid_loss: 0.12924\n",
            "epoch 79 Training loss: 0.11784 Valid_loss: 0.12983\n",
            "epoch 80 Training loss: 0.11779 Valid_loss: 0.12974\n",
            "epoch 81 Training loss: 0.11564 Valid_loss: 0.12723\n",
            "epoch 82 Training loss: 0.11622 Valid_loss: 0.12819\n",
            "epoch 83 Training loss: 0.11827 Valid_loss: 0.12942\n",
            "epoch 84 Training loss: 0.11959 Valid_loss: 0.12701\n",
            "epoch 85 Training loss: 0.11648 Valid_loss: 0.12774\n",
            "epoch 86 Training loss: 0.11558 Valid_loss: 0.12712\n",
            "epoch 87 Training loss: 0.11732 Valid_loss: 0.12816\n",
            "epoch 88 Training loss: 0.11756 Valid_loss: 0.12676\n",
            "epoch 89 Training loss: 0.11627 Valid_loss: 0.12890\n",
            "epoch 90 Training loss: 0.11631 Valid_loss: 0.13021\n",
            "epoch 91 Training loss: 0.11629 Valid_loss: 0.12784\n",
            "epoch 92 Training loss: 0.11582 Valid_loss: 0.12679\n",
            "epoch 93 Training loss: 0.11609 Valid_loss: 0.12917\n",
            "epoch 94 Training loss: 0.11584 Valid_loss: 0.12752\n",
            "epoch 95 Training loss: 0.11634 Valid_loss: 0.12783\n",
            "epoch 96 Training loss: 0.11462 Valid_loss: 0.12669\n",
            "epoch 97 Training loss: 0.11632 Valid_loss: 0.12555\n",
            "epoch 98 Training loss: 0.11498 Valid_loss: 0.12607\n",
            "epoch 99 Training loss: 0.11424 Valid_loss: 0.12625\n",
            "epoch 100 Training loss: 0.11466 Valid_loss: 0.12630\n",
            "epoch 101 Training loss: 0.11403 Valid_loss: 0.12602\n",
            "epoch 102 Training loss: 0.11560 Valid_loss: 0.12433\n",
            "epoch 103 Training loss: 0.11492 Valid_loss: 0.12591\n",
            "epoch 104 Training loss: 0.11484 Valid_loss: 0.12541\n",
            "epoch 105 Training loss: 0.11477 Valid_loss: 0.12600\n",
            "epoch 106 Training loss: 0.11559 Valid_loss: 0.12515\n",
            "epoch 107 Training loss: 0.11347 Valid_loss: 0.12473\n",
            "epoch 108 Training loss: 0.11391 Valid_loss: 0.12315\n",
            "epoch 109 Training loss: 0.11292 Valid_loss: 0.12266\n",
            "epoch 110 Training loss: 0.11639 Valid_loss: 0.12381\n",
            "epoch 111 Training loss: 0.11377 Valid_loss: 0.12417\n",
            "epoch 112 Training loss: 0.11342 Valid_loss: 0.12366\n",
            "epoch 113 Training loss: 0.11503 Valid_loss: 0.12364\n",
            "epoch 114 Training loss: 0.11280 Valid_loss: 0.12322\n",
            "epoch 115 Training loss: 0.11281 Valid_loss: 0.12186\n",
            "epoch 116 Training loss: 0.11181 Valid_loss: 0.12319\n",
            "epoch 117 Training loss: 0.11368 Valid_loss: 0.12242\n",
            "epoch 118 Training loss: 0.11373 Valid_loss: 0.12149\n",
            "epoch 119 Training loss: 0.11227 Valid_loss: 0.12187\n",
            "epoch 120 Training loss: 0.11228 Valid_loss: 0.12325\n",
            "epoch 121 Training loss: 0.11293 Valid_loss: 0.12187\n",
            "epoch 122 Training loss: 0.11188 Valid_loss: 0.12313\n",
            "epoch 123 Training loss: 0.11170 Valid_loss: 0.12146\n",
            "epoch 124 Training loss: 0.11175 Valid_loss: 0.12103\n",
            "epoch 125 Training loss: 0.11331 Valid_loss: 0.12153\n",
            "epoch 126 Training loss: 0.11128 Valid_loss: 0.12120\n",
            "epoch 127 Training loss: 0.11179 Valid_loss: 0.11966\n",
            "epoch 128 Training loss: 0.11241 Valid_loss: 0.12164\n",
            "epoch 129 Training loss: 0.11329 Valid_loss: 0.12015\n",
            "epoch 130 Training loss: 0.11231 Valid_loss: 0.12043\n",
            "epoch 131 Training loss: 0.11247 Valid_loss: 0.12174\n",
            "epoch 132 Training loss: 0.11166 Valid_loss: 0.12075\n",
            "epoch 133 Training loss: 0.11291 Valid_loss: 0.12038\n",
            "epoch 134 Training loss: 0.11132 Valid_loss: 0.12020\n",
            "epoch 135 Training loss: 0.11066 Valid_loss: 0.12024\n",
            "epoch 136 Training loss: 0.11308 Valid_loss: 0.11997\n",
            "epoch 137 Training loss: 0.11207 Valid_loss: 0.11955\n",
            "epoch 138 Training loss: 0.11077 Valid_loss: 0.11910\n",
            "epoch 139 Training loss: 0.11062 Valid_loss: 0.12018\n",
            "epoch 140 Training loss: 0.11083 Valid_loss: 0.12005\n",
            "epoch 141 Training loss: 0.11012 Valid_loss: 0.11959\n",
            "epoch 142 Training loss: 0.11228 Valid_loss: 0.11995\n",
            "epoch 143 Training loss: 0.11212 Valid_loss: 0.11878\n",
            "epoch 144 Training loss: 0.10981 Valid_loss: 0.12138\n",
            "epoch 145 Training loss: 0.11097 Valid_loss: 0.11983\n",
            "epoch 146 Training loss: 0.11124 Valid_loss: 0.11927\n",
            "epoch 147 Training loss: 0.11109 Valid_loss: 0.11927\n",
            "epoch 148 Training loss: 0.11080 Valid_loss: 0.11885\n",
            "epoch 149 Training loss: 0.11188 Valid_loss: 0.11839\n",
            "epoch 150 Training loss: 0.11092 Valid_loss: 0.11869\n",
            "epoch 151 Training loss: 0.11076 Valid_loss: 0.11811\n",
            "epoch 152 Training loss: 0.11136 Valid_loss: 0.11929\n",
            "epoch 153 Training loss: 0.11057 Valid_loss: 0.12007\n",
            "epoch 154 Training loss: 0.10990 Valid_loss: 0.11976\n",
            "epoch 155 Training loss: 0.11164 Valid_loss: 0.11941\n",
            "epoch 156 Training loss: 0.11063 Valid_loss: 0.11855\n",
            "epoch 157 Training loss: 0.10974 Valid_loss: 0.11880\n",
            "epoch 158 Training loss: 0.11158 Valid_loss: 0.11864\n",
            "epoch 159 Training loss: 0.11084 Valid_loss: 0.11940\n",
            "epoch 160 Training loss: 0.11119 Valid_loss: 0.11891\n",
            "epoch 161 Training loss: 0.11058 Valid_loss: 0.11792\n",
            "epoch 162 Training loss: 0.10984 Valid_loss: 0.11753\n",
            "epoch 163 Training loss: 0.10951 Valid_loss: 0.11841\n",
            "epoch 164 Training loss: 0.11014 Valid_loss: 0.12011\n",
            "epoch 165 Training loss: 0.11103 Valid_loss: 0.11910\n",
            "epoch 166 Training loss: 0.11048 Valid_loss: 0.11871\n",
            "epoch 167 Training loss: 0.11108 Valid_loss: 0.11824\n",
            "epoch 168 Training loss: 0.11054 Valid_loss: 0.11802\n",
            "epoch 169 Training loss: 0.11176 Valid_loss: 0.11934\n",
            "epoch 170 Training loss: 0.11024 Valid_loss: 0.11863\n",
            "epoch 171 Training loss: 0.10938 Valid_loss: 0.11845\n",
            "epoch 172 Training loss: 0.11124 Valid_loss: 0.11806\n",
            "epoch 173 Training loss: 0.10931 Valid_loss: 0.11902\n",
            "epoch 174 Training loss: 0.10999 Valid_loss: 0.11890\n",
            "epoch 175 Training loss: 0.11082 Valid_loss: 0.11795\n",
            "epoch 176 Training loss: 0.11011 Valid_loss: 0.11749\n",
            "epoch 177 Training loss: 0.10966 Valid_loss: 0.11761\n",
            "epoch 178 Training loss: 0.11047 Valid_loss: 0.11834\n",
            "epoch 179 Training loss: 0.11028 Valid_loss: 0.11748\n",
            "epoch 180 Training loss: 0.11043 Valid_loss: 0.11867\n",
            "epoch 181 Training loss: 0.11099 Valid_loss: 0.11741\n",
            "epoch 182 Training loss: 0.11072 Valid_loss: 0.11688\n",
            "epoch 183 Training loss: 0.11063 Valid_loss: 0.11844\n",
            "epoch 184 Training loss: 0.11108 Valid_loss: 0.11828\n",
            "epoch 185 Training loss: 0.11027 Valid_loss: 0.11858\n",
            "epoch 186 Training loss: 0.10980 Valid_loss: 0.11759\n",
            "epoch 187 Training loss: 0.11077 Valid_loss: 0.11685\n",
            "epoch 188 Training loss: 0.10852 Valid_loss: 0.11838\n",
            "epoch 189 Training loss: 0.11048 Valid_loss: 0.11798\n",
            "epoch 190 Training loss: 0.11067 Valid_loss: 0.11896\n",
            "epoch 191 Training loss: 0.10828 Valid_loss: 0.11634\n",
            "epoch 192 Training loss: 0.10989 Valid_loss: 0.11710\n",
            "epoch 193 Training loss: 0.10855 Valid_loss: 0.11817\n",
            "epoch 194 Training loss: 0.10969 Valid_loss: 0.11691\n",
            "epoch 195 Training loss: 0.10795 Valid_loss: 0.11770\n",
            "epoch 196 Training loss: 0.10927 Valid_loss: 0.11862\n",
            "epoch 197 Training loss: 0.10899 Valid_loss: 0.11667\n",
            "epoch 198 Training loss: 0.10823 Valid_loss: 0.11753\n",
            "epoch 199 Training loss: 0.10875 Valid_loss: 0.11930\n",
            "epoch 200 Training loss: 0.11012 Valid_loss: 0.11774\n"
          ]
        }
      ],
      "source": [
        "linear_train_losses, linear_valid_losses = train(lin_net, 200, 0.001, criterion_MER, train_loader, valid_loader)\n"
      ]
    },
    {
      "cell_type": "code",
      "source": [
        "plot(train_losses=linear_train_losses, valid_losses=linear_valid_losses)"
      ],
      "metadata": {
        "colab": {
          "base_uri": "https://localhost:8080/",
          "height": 480
        },
        "id": "pOrK62pSWbEH",
        "outputId": "6c422c87-5f60-401f-a319-1c85d4e4598a"
      },
      "execution_count": 40,
      "outputs": [
        {
          "output_type": "display_data",
          "data": {
            "text/plain": [
              "<Figure size 640x480 with 1 Axes>"
            ],
            "image/png": "[encoded data removed]"
          },
          "metadata": {}
        }
      ]
    },
    {
      "cell_type": "markdown",
      "metadata": {
        "id": "vsxR1nrM1yFH"
      },
      "source": [
        "---\n",
        "## Build the Multi-layer Perceptron Base Model"
      ]
    },
    {
      "cell_type": "markdown",
      "metadata": {
        "id": "2hZc2xpgZxmj"
      },
      "source": [
        "In the following, we build a multi-layer perception model with 2 hidden layers of sizes 256 and 128, respectively and ReLu activations."
      ]
    },
    {
      "cell_type": "code",
      "execution_count": 41,
      "metadata": {
        "id": "8tYjrMNm2FXP"
      },
      "outputs": [],
      "source": [
        "# Build a feed-forward network\n",
        "mlp_model_2 = nn.Sequential(nn.Linear(train_features.shape[1], 256),\n",
        "                      nn.ReLU(),\n",
        "                      nn.Linear(256, 128),\n",
        "                      nn.ReLU(),\n",
        "                      nn.Linear(128,1))"
      ]
    },
    {
      "cell_type": "markdown",
      "metadata": {
        "id": "XHmRp7esaFWI"
      },
      "source": [
        "Let's print out the model achitecture."
      ]
    },
    {
      "cell_type": "code",
      "execution_count": 42,
      "metadata": {
        "id": "c_QdNFsAZ_L5",
        "colab": {
          "base_uri": "https://localhost:8080/"
        },
        "outputId": "ee911c12-e124-40a2-fd80-4d9dc24e1623"
      },
      "outputs": [
        {
          "output_type": "execute_result",
          "data": {
            "text/plain": [
              "Sequential(\n",
              "  (0): Linear(in_features=122, out_features=256, bias=True)\n",
              "  (1): ReLU()\n",
              "  (2): Linear(in_features=256, out_features=128, bias=True)\n",
              "  (3): ReLU()\n",
              "  (4): Linear(in_features=128, out_features=1, bias=True)\n",
              ")"
            ]
          },
          "metadata": {},
          "execution_count": 42
        }
      ],
      "source": [
        "mlp_model_2"
      ]
    },
    {
      "cell_type": "code",
      "execution_count": 43,
      "metadata": {
        "id": "HiraJa-zf5LZ"
      },
      "outputs": [],
      "source": [
        "mlp_model_2 = mlp_model_2.to(device)"
      ]
    },
    {
      "cell_type": "code",
      "execution_count": 44,
      "metadata": {
        "id": "Ivqg6xw_f9H-",
        "colab": {
          "base_uri": "https://localhost:8080/"
        },
        "outputId": "2eabf5e6-31b6-4857-89cc-e9964bdd6b96"
      },
      "outputs": [
        {
          "output_type": "stream",
          "name": "stdout",
          "text": [
            "epoch 1 Training loss: 0.24695 Valid_loss: 0.16866\n",
            "epoch 2 Training loss: 0.17024 Valid_loss: 0.19617\n",
            "epoch 3 Training loss: 0.16002 Valid_loss: 0.15107\n",
            "epoch 4 Training loss: 0.14126 Valid_loss: 0.13084\n",
            "epoch 5 Training loss: 0.14024 Valid_loss: 0.14248\n",
            "epoch 6 Training loss: 0.13110 Valid_loss: 0.12169\n",
            "epoch 7 Training loss: 0.12385 Valid_loss: 0.11923\n",
            "epoch 8 Training loss: 0.12360 Valid_loss: 0.12522\n",
            "epoch 9 Training loss: 0.11531 Valid_loss: 0.11740\n",
            "epoch 10 Training loss: 0.11893 Valid_loss: 0.10772\n",
            "epoch 11 Training loss: 0.11142 Valid_loss: 0.11775\n",
            "epoch 12 Training loss: 0.11602 Valid_loss: 0.10903\n",
            "epoch 13 Training loss: 0.11084 Valid_loss: 0.12135\n",
            "epoch 14 Training loss: 0.10860 Valid_loss: 0.10623\n",
            "epoch 15 Training loss: 0.10327 Valid_loss: 0.11703\n",
            "epoch 16 Training loss: 0.10925 Valid_loss: 0.11757\n",
            "epoch 17 Training loss: 0.10214 Valid_loss: 0.10492\n",
            "epoch 18 Training loss: 0.10132 Valid_loss: 0.10994\n",
            "epoch 19 Training loss: 0.10334 Valid_loss: 0.13090\n",
            "epoch 20 Training loss: 0.10039 Valid_loss: 0.10351\n",
            "epoch 21 Training loss: 0.10341 Valid_loss: 0.10334\n",
            "epoch 22 Training loss: 0.10011 Valid_loss: 0.10023\n",
            "epoch 23 Training loss: 0.09502 Valid_loss: 0.09618\n",
            "epoch 24 Training loss: 0.09671 Valid_loss: 0.11515\n",
            "epoch 25 Training loss: 0.09799 Valid_loss: 0.10044\n",
            "epoch 26 Training loss: 0.09705 Valid_loss: 0.10197\n",
            "epoch 27 Training loss: 0.09350 Valid_loss: 0.10056\n",
            "epoch 28 Training loss: 0.09296 Valid_loss: 0.09751\n",
            "epoch 29 Training loss: 0.09261 Valid_loss: 0.10605\n",
            "epoch 30 Training loss: 0.09493 Valid_loss: 0.10985\n",
            "epoch 31 Training loss: 0.09518 Valid_loss: 0.11626\n",
            "epoch 32 Training loss: 0.08955 Valid_loss: 0.09388\n",
            "epoch 33 Training loss: 0.08653 Valid_loss: 0.09604\n",
            "epoch 34 Training loss: 0.09012 Valid_loss: 0.09354\n",
            "epoch 35 Training loss: 0.08829 Valid_loss: 0.10820\n",
            "epoch 36 Training loss: 0.09011 Valid_loss: 0.09755\n",
            "epoch 37 Training loss: 0.08981 Valid_loss: 0.09648\n",
            "epoch 38 Training loss: 0.08952 Valid_loss: 0.09635\n",
            "epoch 39 Training loss: 0.08716 Valid_loss: 0.09254\n",
            "epoch 40 Training loss: 0.08909 Valid_loss: 0.11592\n",
            "epoch 41 Training loss: 0.08725 Valid_loss: 0.12009\n",
            "epoch 42 Training loss: 0.08874 Valid_loss: 0.09494\n",
            "epoch 43 Training loss: 0.08806 Valid_loss: 0.09572\n",
            "epoch 44 Training loss: 0.08853 Valid_loss: 0.09730\n",
            "epoch 45 Training loss: 0.08670 Valid_loss: 0.09235\n",
            "epoch 46 Training loss: 0.08525 Valid_loss: 0.08915\n",
            "epoch 47 Training loss: 0.08434 Valid_loss: 0.09295\n",
            "epoch 48 Training loss: 0.08354 Valid_loss: 0.09538\n",
            "epoch 49 Training loss: 0.08622 Valid_loss: 0.10338\n",
            "epoch 50 Training loss: 0.08491 Valid_loss: 0.09767\n",
            "epoch 51 Training loss: 0.08826 Valid_loss: 0.09613\n",
            "epoch 52 Training loss: 0.08349 Valid_loss: 0.09550\n",
            "epoch 53 Training loss: 0.08106 Valid_loss: 0.09813\n",
            "epoch 54 Training loss: 0.08296 Valid_loss: 0.09407\n",
            "epoch 55 Training loss: 0.08249 Valid_loss: 0.09424\n",
            "epoch 56 Training loss: 0.08307 Valid_loss: 0.10097\n",
            "epoch 57 Training loss: 0.08050 Valid_loss: 0.09691\n",
            "epoch 58 Training loss: 0.08122 Valid_loss: 0.09260\n",
            "epoch 59 Training loss: 0.08164 Valid_loss: 0.09164\n",
            "epoch 60 Training loss: 0.08499 Valid_loss: 0.09650\n",
            "epoch 61 Training loss: 0.08120 Valid_loss: 0.09303\n",
            "epoch 62 Training loss: 0.08276 Valid_loss: 0.09407\n",
            "epoch 63 Training loss: 0.08084 Valid_loss: 0.09198\n",
            "epoch 64 Training loss: 0.08012 Valid_loss: 0.10019\n",
            "epoch 65 Training loss: 0.08036 Valid_loss: 0.09001\n",
            "epoch 66 Training loss: 0.07879 Valid_loss: 0.09706\n",
            "epoch 67 Training loss: 0.08272 Valid_loss: 0.09027\n",
            "epoch 68 Training loss: 0.08105 Valid_loss: 0.09136\n",
            "epoch 69 Training loss: 0.07955 Valid_loss: 0.08811\n",
            "epoch 70 Training loss: 0.07983 Valid_loss: 0.08768\n",
            "epoch 71 Training loss: 0.08116 Valid_loss: 0.08786\n",
            "epoch 72 Training loss: 0.07977 Valid_loss: 0.09057\n",
            "epoch 73 Training loss: 0.07759 Valid_loss: 0.09024\n",
            "epoch 74 Training loss: 0.07788 Valid_loss: 0.10922\n",
            "epoch 75 Training loss: 0.07744 Valid_loss: 0.09282\n",
            "epoch 76 Training loss: 0.07939 Valid_loss: 0.09468\n",
            "epoch 77 Training loss: 0.07783 Valid_loss: 0.09082\n",
            "epoch 78 Training loss: 0.08023 Valid_loss: 0.09161\n",
            "epoch 79 Training loss: 0.07711 Valid_loss: 0.09159\n",
            "epoch 80 Training loss: 0.07618 Valid_loss: 0.09396\n",
            "epoch 81 Training loss: 0.07774 Valid_loss: 0.08767\n",
            "epoch 82 Training loss: 0.07755 Valid_loss: 0.09288\n",
            "epoch 83 Training loss: 0.07911 Valid_loss: 0.09074\n",
            "epoch 84 Training loss: 0.07812 Valid_loss: 0.09265\n",
            "epoch 85 Training loss: 0.07496 Valid_loss: 0.09520\n",
            "epoch 86 Training loss: 0.07609 Valid_loss: 0.08630\n",
            "epoch 87 Training loss: 0.07456 Valid_loss: 0.08575\n",
            "epoch 88 Training loss: 0.07547 Valid_loss: 0.08959\n",
            "epoch 89 Training loss: 0.07440 Valid_loss: 0.08460\n",
            "epoch 90 Training loss: 0.07322 Valid_loss: 0.08956\n",
            "epoch 91 Training loss: 0.07522 Valid_loss: 0.08878\n",
            "epoch 92 Training loss: 0.07578 Valid_loss: 0.08829\n",
            "epoch 93 Training loss: 0.07432 Valid_loss: 0.08790\n",
            "epoch 94 Training loss: 0.07303 Valid_loss: 0.08580\n",
            "epoch 95 Training loss: 0.07302 Valid_loss: 0.09438\n",
            "epoch 96 Training loss: 0.07216 Valid_loss: 0.08791\n",
            "epoch 97 Training loss: 0.07386 Valid_loss: 0.08834\n",
            "epoch 98 Training loss: 0.07265 Valid_loss: 0.08941\n",
            "epoch 99 Training loss: 0.07170 Valid_loss: 0.09058\n",
            "epoch 100 Training loss: 0.07022 Valid_loss: 0.08540\n",
            "epoch 101 Training loss: 0.07149 Valid_loss: 0.08384\n",
            "epoch 102 Training loss: 0.07439 Valid_loss: 0.09311\n",
            "epoch 103 Training loss: 0.07277 Valid_loss: 0.08700\n",
            "epoch 104 Training loss: 0.07226 Valid_loss: 0.09030\n",
            "epoch 105 Training loss: 0.07223 Valid_loss: 0.09448\n",
            "epoch 106 Training loss: 0.07303 Valid_loss: 0.09554\n",
            "epoch 107 Training loss: 0.07276 Valid_loss: 0.08995\n",
            "epoch 108 Training loss: 0.07625 Valid_loss: 0.08793\n",
            "epoch 109 Training loss: 0.07131 Valid_loss: 0.08678\n",
            "epoch 110 Training loss: 0.07191 Valid_loss: 0.09174\n",
            "epoch 111 Training loss: 0.07020 Valid_loss: 0.08286\n",
            "epoch 112 Training loss: 0.07023 Valid_loss: 0.08554\n",
            "epoch 113 Training loss: 0.07091 Valid_loss: 0.08487\n",
            "epoch 114 Training loss: 0.06756 Valid_loss: 0.08490\n",
            "epoch 115 Training loss: 0.07366 Valid_loss: 0.08484\n",
            "epoch 116 Training loss: 0.07020 Valid_loss: 0.09043\n",
            "epoch 117 Training loss: 0.07044 Valid_loss: 0.08577\n",
            "epoch 118 Training loss: 0.07290 Valid_loss: 0.08836\n",
            "epoch 119 Training loss: 0.07168 Valid_loss: 0.08959\n",
            "epoch 120 Training loss: 0.07162 Valid_loss: 0.08863\n",
            "epoch 121 Training loss: 0.07331 Valid_loss: 0.08985\n",
            "epoch 122 Training loss: 0.07078 Valid_loss: 0.08620\n",
            "epoch 123 Training loss: 0.07107 Valid_loss: 0.08904\n",
            "epoch 124 Training loss: 0.06958 Valid_loss: 0.08811\n",
            "epoch 125 Training loss: 0.06736 Valid_loss: 0.08833\n",
            "epoch 126 Training loss: 0.06739 Valid_loss: 0.08712\n",
            "epoch 127 Training loss: 0.07149 Valid_loss: 0.09117\n",
            "epoch 128 Training loss: 0.06996 Valid_loss: 0.09796\n",
            "epoch 129 Training loss: 0.07186 Valid_loss: 0.08986\n",
            "epoch 130 Training loss: 0.07027 Valid_loss: 0.08670\n",
            "epoch 131 Training loss: 0.06941 Valid_loss: 0.08340\n",
            "epoch 132 Training loss: 0.06847 Valid_loss: 0.09125\n",
            "epoch 133 Training loss: 0.06978 Valid_loss: 0.08742\n",
            "epoch 134 Training loss: 0.06842 Valid_loss: 0.08656\n",
            "epoch 135 Training loss: 0.07006 Valid_loss: 0.08376\n",
            "epoch 136 Training loss: 0.06783 Valid_loss: 0.08905\n",
            "epoch 137 Training loss: 0.07014 Valid_loss: 0.08376\n",
            "epoch 138 Training loss: 0.06694 Valid_loss: 0.08906\n",
            "epoch 139 Training loss: 0.06785 Valid_loss: 0.08417\n",
            "epoch 140 Training loss: 0.06649 Valid_loss: 0.08629\n",
            "epoch 141 Training loss: 0.06683 Valid_loss: 0.08440\n",
            "epoch 142 Training loss: 0.06739 Valid_loss: 0.08769\n",
            "epoch 143 Training loss: 0.06777 Valid_loss: 0.09091\n",
            "epoch 144 Training loss: 0.06581 Valid_loss: 0.08597\n",
            "epoch 145 Training loss: 0.06779 Valid_loss: 0.08278\n",
            "epoch 146 Training loss: 0.06660 Valid_loss: 0.08432\n",
            "epoch 147 Training loss: 0.06561 Valid_loss: 0.08426\n",
            "epoch 148 Training loss: 0.06867 Valid_loss: 0.08551\n",
            "epoch 149 Training loss: 0.06453 Valid_loss: 0.08736\n",
            "epoch 150 Training loss: 0.06621 Valid_loss: 0.08799\n",
            "epoch 151 Training loss: 0.06686 Valid_loss: 0.08627\n",
            "epoch 152 Training loss: 0.06609 Valid_loss: 0.08346\n",
            "epoch 153 Training loss: 0.06665 Valid_loss: 0.08395\n",
            "epoch 154 Training loss: 0.06362 Valid_loss: 0.08319\n",
            "epoch 155 Training loss: 0.06590 Valid_loss: 0.09247\n",
            "epoch 156 Training loss: 0.06437 Valid_loss: 0.08495\n",
            "epoch 157 Training loss: 0.06475 Valid_loss: 0.09695\n",
            "epoch 158 Training loss: 0.06333 Valid_loss: 0.08296\n",
            "epoch 159 Training loss: 0.06869 Valid_loss: 0.09381\n",
            "epoch 160 Training loss: 0.06645 Valid_loss: 0.08372\n",
            "epoch 161 Training loss: 0.06323 Valid_loss: 0.08519\n",
            "epoch 162 Training loss: 0.06463 Valid_loss: 0.08675\n",
            "epoch 163 Training loss: 0.06381 Valid_loss: 0.08459\n",
            "epoch 164 Training loss: 0.06587 Valid_loss: 0.09260\n",
            "epoch 165 Training loss: 0.06459 Valid_loss: 0.08300\n",
            "epoch 166 Training loss: 0.06620 Valid_loss: 0.08295\n",
            "epoch 167 Training loss: 0.06450 Valid_loss: 0.08481\n",
            "epoch 168 Training loss: 0.06547 Valid_loss: 0.08315\n",
            "epoch 169 Training loss: 0.06333 Valid_loss: 0.08295\n",
            "epoch 170 Training loss: 0.06577 Valid_loss: 0.08462\n",
            "epoch 171 Training loss: 0.06588 Valid_loss: 0.08477\n",
            "epoch 172 Training loss: 0.06379 Valid_loss: 0.08433\n",
            "epoch 173 Training loss: 0.06280 Valid_loss: 0.08301\n",
            "epoch 174 Training loss: 0.06374 Valid_loss: 0.08524\n",
            "epoch 175 Training loss: 0.06304 Valid_loss: 0.08301\n",
            "epoch 176 Training loss: 0.06437 Valid_loss: 0.08261\n",
            "epoch 177 Training loss: 0.06394 Valid_loss: 0.08786\n",
            "epoch 178 Training loss: 0.06464 Valid_loss: 0.08240\n",
            "epoch 179 Training loss: 0.06461 Valid_loss: 0.08747\n",
            "epoch 180 Training loss: 0.06389 Valid_loss: 0.08372\n",
            "epoch 181 Training loss: 0.06200 Valid_loss: 0.08142\n",
            "epoch 182 Training loss: 0.06359 Valid_loss: 0.08172\n",
            "epoch 183 Training loss: 0.06332 Valid_loss: 0.08762\n",
            "epoch 184 Training loss: 0.06084 Valid_loss: 0.08324\n",
            "epoch 185 Training loss: 0.06189 Valid_loss: 0.08274\n",
            "epoch 186 Training loss: 0.06216 Valid_loss: 0.08446\n",
            "epoch 187 Training loss: 0.06229 Valid_loss: 0.08428\n",
            "epoch 188 Training loss: 0.06243 Valid_loss: 0.08554\n",
            "epoch 189 Training loss: 0.06281 Valid_loss: 0.08483\n",
            "epoch 190 Training loss: 0.06302 Valid_loss: 0.08271\n",
            "epoch 191 Training loss: 0.06346 Valid_loss: 0.08613\n",
            "epoch 192 Training loss: 0.06079 Valid_loss: 0.08925\n",
            "epoch 193 Training loss: 0.06045 Valid_loss: 0.08497\n",
            "epoch 194 Training loss: 0.06283 Valid_loss: 0.08967\n",
            "epoch 195 Training loss: 0.06066 Valid_loss: 0.08001\n",
            "epoch 196 Training loss: 0.06116 Valid_loss: 0.08682\n",
            "epoch 197 Training loss: 0.06171 Valid_loss: 0.08836\n",
            "epoch 198 Training loss: 0.06120 Valid_loss: 0.08570\n",
            "epoch 199 Training loss: 0.06127 Valid_loss: 0.08519\n",
            "epoch 200 Training loss: 0.06195 Valid_loss: 0.08512\n"
          ]
        }
      ],
      "source": [
        "#TODO: write code to train the MLP network and save training and validation error.\n",
        "\n",
        "mlp_train_losses, mlp_valid_losses = train(mlp_model_2, 200, 0.001, criterion_MER, train_loader, valid_loader)\n"
      ]
    },
    {
      "cell_type": "code",
      "execution_count": 45,
      "metadata": {
        "id": "VsnEBtxKfit7",
        "colab": {
          "base_uri": "https://localhost:8080/",
          "height": 480
        },
        "outputId": "60b19937-1381-4f3c-cb68-06233f51f58c"
      },
      "outputs": [
        {
          "output_type": "display_data",
          "data": {
            "text/plain": [
              "<Figure size 640x480 with 1 Axes>"
            ],
            "image/png": "[encoded data removed]"
          },
          "metadata": {}
        }
      ],
      "source": [
        "#TODO: Write code to plot the training and validation error (MER) over epochs\n",
        "plot(mlp_train_losses, mlp_valid_losses)"
      ]
    },
    {
      "cell_type": "markdown",
      "metadata": {
        "id": "96o6pXJZtLIF"
      },
      "source": [
        "---\n",
        "## Change network architecture\n"
      ]
    },
    {
      "cell_type": "markdown",
      "metadata": {
        "id": "E6_u31AKvGAA"
      },
      "source": [
        "In the following, build a MLP with 4 hidden layer of sizes 512, 256, 128, 64, respectively.  "
      ]
    },
    {
      "cell_type": "code",
      "execution_count": 46,
      "metadata": {
        "id": "T4uh-Uyaur3m",
        "colab": {
          "base_uri": "https://localhost:8080/"
        },
        "outputId": "fb7732b6-0fc7-4c03-f367-3a184b1dab9e"
      },
      "outputs": [
        {
          "output_type": "execute_result",
          "data": {
            "text/plain": [
              "Sequential(\n",
              "  (0): Linear(in_features=122, out_features=512, bias=True)\n",
              "  (1): ReLU()\n",
              "  (2): Linear(in_features=512, out_features=256, bias=True)\n",
              "  (3): ReLU()\n",
              "  (4): Linear(in_features=256, out_features=128, bias=True)\n",
              "  (5): ReLU()\n",
              "  (6): Linear(in_features=128, out_features=64, bias=True)\n",
              "  (7): ReLU()\n",
              "  (8): Linear(in_features=64, out_features=1, bias=True)\n",
              ")"
            ]
          },
          "metadata": {},
          "execution_count": 46
        }
      ],
      "source": [
        "#TODO: building a MLP with 4 hidden layer of sizes 512, 256, 128, 64,\n",
        "mlp_model = nn.Sequential(nn.Linear(train_features.shape[1], 512),\n",
        "                      nn.ReLU(),\n",
        "                      nn.Linear(512, 256),\n",
        "                      nn.ReLU(),\n",
        "                      nn.Linear(256, 128),\n",
        "                      nn.ReLU(),\n",
        "                      nn.Linear(128, 64),\n",
        "                      nn.ReLU(),\n",
        "                      nn.Linear(64, 1))\n",
        "\n",
        "mlp_model_4 = mlp_model.to(device)\n",
        "mlp_model_4\n"
      ]
    },
    {
      "cell_type": "code",
      "execution_count": 47,
      "metadata": {
        "id": "Cfrs6pdpvqyr",
        "colab": {
          "base_uri": "https://localhost:8080/",
          "height": 1000
        },
        "outputId": "596439d4-669c-443c-dc4e-10c08b51f2b2"
      },
      "outputs": [
        {
          "output_type": "stream",
          "name": "stdout",
          "text": [
            "epoch 1 Training loss: 0.26606 Valid_loss: 0.19524\n",
            "epoch 2 Training loss: 0.20428 Valid_loss: 0.18454\n",
            "epoch 3 Training loss: 0.16629 Valid_loss: 0.14188\n",
            "epoch 4 Training loss: 0.16258 Valid_loss: 0.16863\n",
            "epoch 5 Training loss: 0.14648 Valid_loss: 0.14170\n",
            "epoch 6 Training loss: 0.14125 Valid_loss: 0.15038\n",
            "epoch 7 Training loss: 0.12443 Valid_loss: 0.17398\n",
            "epoch 8 Training loss: 0.12689 Valid_loss: 0.12533\n",
            "epoch 9 Training loss: 0.12142 Valid_loss: 0.11817\n",
            "epoch 10 Training loss: 0.11405 Valid_loss: 0.12332\n",
            "epoch 11 Training loss: 0.11629 Valid_loss: 0.13359\n",
            "epoch 12 Training loss: 0.11653 Valid_loss: 0.12631\n",
            "epoch 13 Training loss: 0.11329 Valid_loss: 0.12311\n",
            "epoch 14 Training loss: 0.11446 Valid_loss: 0.11758\n",
            "epoch 15 Training loss: 0.11398 Valid_loss: 0.10918\n",
            "epoch 16 Training loss: 0.10632 Valid_loss: 0.10502\n",
            "epoch 17 Training loss: 0.10839 Valid_loss: 0.10690\n",
            "epoch 18 Training loss: 0.10438 Valid_loss: 0.09776\n",
            "epoch 19 Training loss: 0.10688 Valid_loss: 0.09988\n",
            "epoch 20 Training loss: 0.10670 Valid_loss: 0.13632\n",
            "epoch 21 Training loss: 0.10536 Valid_loss: 0.12349\n",
            "epoch 22 Training loss: 0.10693 Valid_loss: 0.11801\n",
            "epoch 23 Training loss: 0.10323 Valid_loss: 0.10004\n",
            "epoch 24 Training loss: 0.09778 Valid_loss: 0.09737\n",
            "epoch 25 Training loss: 0.10013 Valid_loss: 0.12485\n",
            "epoch 26 Training loss: 0.09629 Valid_loss: 0.10429\n",
            "epoch 27 Training loss: 0.09599 Valid_loss: 0.09538\n",
            "epoch 28 Training loss: 0.09955 Valid_loss: 0.11265\n",
            "epoch 29 Training loss: 0.09794 Valid_loss: 0.09626\n",
            "epoch 30 Training loss: 0.09513 Valid_loss: 0.10544\n",
            "epoch 31 Training loss: 0.09435 Valid_loss: 0.11735\n",
            "epoch 32 Training loss: 0.09800 Valid_loss: 0.09511\n",
            "epoch 33 Training loss: 0.09588 Valid_loss: 0.10293\n",
            "epoch 34 Training loss: 0.09852 Valid_loss: 0.09835\n",
            "epoch 35 Training loss: 0.09091 Valid_loss: 0.09391\n",
            "epoch 36 Training loss: 0.09205 Valid_loss: 0.10253\n",
            "epoch 37 Training loss: 0.09171 Valid_loss: 0.09625\n",
            "epoch 38 Training loss: 0.09378 Valid_loss: 0.09742\n",
            "epoch 39 Training loss: 0.09293 Valid_loss: 0.11439\n",
            "epoch 40 Training loss: 0.09136 Valid_loss: 0.09098\n",
            "epoch 41 Training loss: 0.08789 Valid_loss: 0.10773\n",
            "epoch 42 Training loss: 0.08841 Valid_loss: 0.09269\n",
            "epoch 43 Training loss: 0.08838 Valid_loss: 0.11795\n",
            "epoch 44 Training loss: 0.09077 Valid_loss: 0.10179\n",
            "epoch 45 Training loss: 0.09256 Valid_loss: 0.10133\n",
            "epoch 46 Training loss: 0.08842 Valid_loss: 0.09503\n",
            "epoch 47 Training loss: 0.08857 Valid_loss: 0.09726\n",
            "epoch 48 Training loss: 0.08834 Valid_loss: 0.09688\n",
            "epoch 49 Training loss: 0.08611 Valid_loss: 0.09289\n",
            "epoch 50 Training loss: 0.08760 Valid_loss: 0.08735\n",
            "epoch 51 Training loss: 0.08635 Valid_loss: 0.09187\n",
            "epoch 52 Training loss: 0.08487 Valid_loss: 0.09109\n",
            "epoch 53 Training loss: 0.08512 Valid_loss: 0.11717\n",
            "epoch 54 Training loss: 0.08445 Valid_loss: 0.09367\n",
            "epoch 55 Training loss: 0.08343 Valid_loss: 0.10084\n",
            "epoch 56 Training loss: 0.08589 Valid_loss: 0.08767\n",
            "epoch 57 Training loss: 0.08601 Valid_loss: 0.09750\n",
            "epoch 58 Training loss: 0.08460 Valid_loss: 0.12705\n",
            "epoch 59 Training loss: 0.08512 Valid_loss: 0.09357\n",
            "epoch 60 Training loss: 0.08500 Valid_loss: 0.10362\n",
            "epoch 61 Training loss: 0.08291 Valid_loss: 0.09660\n",
            "epoch 62 Training loss: 0.08169 Valid_loss: 0.10219\n",
            "epoch 63 Training loss: 0.08207 Valid_loss: 0.08948\n",
            "epoch 64 Training loss: 0.08697 Valid_loss: 0.09446\n",
            "epoch 65 Training loss: 0.08127 Valid_loss: 0.09445\n",
            "epoch 66 Training loss: 0.08323 Valid_loss: 0.09595\n",
            "epoch 67 Training loss: 0.08445 Valid_loss: 0.09801\n",
            "epoch 68 Training loss: 0.08237 Valid_loss: 0.10539\n",
            "epoch 69 Training loss: 0.08079 Valid_loss: 0.08815\n",
            "epoch 70 Training loss: 0.08034 Valid_loss: 0.09037\n",
            "epoch 71 Training loss: 0.08115 Valid_loss: 0.09299\n",
            "epoch 72 Training loss: 0.07906 Valid_loss: 0.08809\n",
            "epoch 73 Training loss: 0.07993 Valid_loss: 0.08741\n",
            "epoch 74 Training loss: 0.07888 Valid_loss: 0.09947\n",
            "epoch 75 Training loss: 0.07928 Valid_loss: 0.10719\n",
            "epoch 76 Training loss: 0.08014 Valid_loss: 0.08964\n",
            "epoch 77 Training loss: 0.08241 Valid_loss: 0.09775\n",
            "epoch 78 Training loss: 0.07906 Valid_loss: 0.09660\n",
            "epoch 79 Training loss: 0.08154 Valid_loss: 0.08949\n",
            "epoch 80 Training loss: 0.07794 Valid_loss: 0.08903\n",
            "epoch 81 Training loss: 0.07902 Valid_loss: 0.09614\n",
            "epoch 82 Training loss: 0.08105 Valid_loss: 0.08674\n",
            "epoch 83 Training loss: 0.08088 Valid_loss: 0.09574\n",
            "epoch 84 Training loss: 0.07744 Valid_loss: 0.09695\n",
            "epoch 85 Training loss: 0.07898 Valid_loss: 0.09094\n",
            "epoch 86 Training loss: 0.07913 Valid_loss: 0.09052\n",
            "epoch 87 Training loss: 0.07776 Valid_loss: 0.08439\n",
            "epoch 88 Training loss: 0.07562 Valid_loss: 0.09004\n",
            "epoch 89 Training loss: 0.07825 Valid_loss: 0.08606\n",
            "epoch 90 Training loss: 0.07715 Valid_loss: 0.09224\n",
            "epoch 91 Training loss: 0.07930 Valid_loss: 0.08761\n",
            "epoch 92 Training loss: 0.07600 Valid_loss: 0.08764\n",
            "epoch 93 Training loss: 0.07514 Valid_loss: 0.08583\n",
            "epoch 94 Training loss: 0.07671 Valid_loss: 0.09141\n",
            "epoch 95 Training loss: 0.07685 Valid_loss: 0.11282\n",
            "epoch 96 Training loss: 0.07392 Valid_loss: 0.08687\n",
            "epoch 97 Training loss: 0.07315 Valid_loss: 0.08993\n",
            "epoch 98 Training loss: 0.07517 Valid_loss: 0.08768\n",
            "epoch 99 Training loss: 0.07292 Valid_loss: 0.09430\n",
            "epoch 100 Training loss: 0.07432 Valid_loss: 0.09109\n",
            "epoch 101 Training loss: 0.07530 Valid_loss: 0.08722\n",
            "epoch 102 Training loss: 0.07350 Valid_loss: 0.08450\n",
            "epoch 103 Training loss: 0.07620 Valid_loss: 0.08745\n",
            "epoch 104 Training loss: 0.07502 Valid_loss: 0.08589\n",
            "epoch 105 Training loss: 0.07225 Valid_loss: 0.08572\n",
            "epoch 106 Training loss: 0.07283 Valid_loss: 0.08523\n",
            "epoch 107 Training loss: 0.07399 Valid_loss: 0.09549\n",
            "epoch 108 Training loss: 0.07405 Valid_loss: 0.09345\n",
            "epoch 109 Training loss: 0.07362 Valid_loss: 0.09316\n",
            "epoch 110 Training loss: 0.07302 Valid_loss: 0.10455\n",
            "epoch 111 Training loss: 0.07170 Valid_loss: 0.08462\n",
            "epoch 112 Training loss: 0.07194 Valid_loss: 0.08463\n",
            "epoch 113 Training loss: 0.07291 Valid_loss: 0.09185\n",
            "epoch 114 Training loss: 0.07068 Valid_loss: 0.08498\n",
            "epoch 115 Training loss: 0.06880 Valid_loss: 0.09392\n",
            "epoch 116 Training loss: 0.07319 Valid_loss: 0.08477\n",
            "epoch 117 Training loss: 0.07296 Valid_loss: 0.09161\n",
            "epoch 118 Training loss: 0.06990 Valid_loss: 0.08577\n",
            "epoch 119 Training loss: 0.07099 Valid_loss: 0.08679\n",
            "epoch 120 Training loss: 0.07007 Valid_loss: 0.08872\n",
            "epoch 121 Training loss: 0.07183 Valid_loss: 0.09411\n",
            "epoch 122 Training loss: 0.06955 Valid_loss: 0.09065\n",
            "epoch 123 Training loss: 0.07035 Valid_loss: 0.08818\n",
            "epoch 124 Training loss: 0.07094 Valid_loss: 0.08889\n",
            "epoch 125 Training loss: 0.06770 Valid_loss: 0.11799\n",
            "epoch 126 Training loss: 0.06994 Valid_loss: 0.08848\n",
            "epoch 127 Training loss: 0.07099 Valid_loss: 0.08843\n",
            "epoch 128 Training loss: 0.06762 Valid_loss: 0.09335\n",
            "epoch 129 Training loss: 0.06805 Valid_loss: 0.08447\n",
            "epoch 130 Training loss: 0.06796 Valid_loss: 0.10352\n",
            "epoch 131 Training loss: 0.06843 Valid_loss: 0.09379\n",
            "epoch 132 Training loss: 0.07149 Valid_loss: 0.08708\n",
            "epoch 133 Training loss: 0.06664 Valid_loss: 0.08740\n",
            "epoch 134 Training loss: 0.06754 Valid_loss: 0.08529\n",
            "epoch 135 Training loss: 0.06963 Valid_loss: 0.08646\n",
            "epoch 136 Training loss: 0.07039 Valid_loss: 0.09084\n",
            "epoch 137 Training loss: 0.07059 Valid_loss: 0.08892\n",
            "epoch 138 Training loss: 0.06883 Valid_loss: 0.08696\n",
            "epoch 139 Training loss: 0.06987 Valid_loss: 0.08284\n",
            "epoch 140 Training loss: 0.06826 Valid_loss: 0.08596\n",
            "epoch 141 Training loss: 0.06690 Valid_loss: 0.08214\n",
            "epoch 142 Training loss: 0.06866 Valid_loss: 0.08790\n",
            "epoch 143 Training loss: 0.06539 Valid_loss: 0.08707\n",
            "epoch 144 Training loss: 0.06735 Valid_loss: 0.08975\n",
            "epoch 145 Training loss: 0.06737 Valid_loss: 0.09485\n",
            "epoch 146 Training loss: 0.06629 Valid_loss: 0.08718\n",
            "epoch 147 Training loss: 0.06859 Valid_loss: 0.08717\n",
            "epoch 148 Training loss: 0.06404 Valid_loss: 0.08439\n",
            "epoch 149 Training loss: 0.06438 Valid_loss: 0.09340\n",
            "epoch 150 Training loss: 0.06664 Valid_loss: 0.08930\n",
            "epoch 151 Training loss: 0.06687 Valid_loss: 0.08426\n",
            "epoch 152 Training loss: 0.06692 Valid_loss: 0.09042\n",
            "epoch 153 Training loss: 0.06862 Valid_loss: 0.08856\n",
            "epoch 154 Training loss: 0.06364 Valid_loss: 0.08606\n",
            "epoch 155 Training loss: 0.06865 Valid_loss: 0.08933\n",
            "epoch 156 Training loss: 0.06438 Valid_loss: 0.08220\n",
            "epoch 157 Training loss: 0.06672 Valid_loss: 0.09396\n",
            "epoch 158 Training loss: 0.06747 Valid_loss: 0.08866\n",
            "epoch 159 Training loss: 0.06409 Valid_loss: 0.08798\n",
            "epoch 160 Training loss: 0.06385 Valid_loss: 0.08550\n",
            "epoch 161 Training loss: 0.06517 Valid_loss: 0.08276\n",
            "epoch 162 Training loss: 0.06425 Valid_loss: 0.08759\n",
            "epoch 163 Training loss: 0.06500 Valid_loss: 0.08450\n",
            "epoch 164 Training loss: 0.06556 Valid_loss: 0.08596\n",
            "epoch 165 Training loss: 0.06553 Valid_loss: 0.08706\n",
            "epoch 166 Training loss: 0.06447 Valid_loss: 0.09250\n",
            "epoch 167 Training loss: 0.06410 Valid_loss: 0.08692\n",
            "epoch 168 Training loss: 0.06265 Valid_loss: 0.08753\n",
            "epoch 169 Training loss: 0.06525 Valid_loss: 0.09155\n",
            "epoch 170 Training loss: 0.06592 Valid_loss: 0.08756\n",
            "epoch 171 Training loss: 0.06517 Valid_loss: 0.08494\n",
            "epoch 172 Training loss: 0.06505 Valid_loss: 0.08808\n",
            "epoch 173 Training loss: 0.06299 Valid_loss: 0.09080\n",
            "epoch 174 Training loss: 0.06343 Valid_loss: 0.09400\n",
            "epoch 175 Training loss: 0.06507 Valid_loss: 0.08581\n",
            "epoch 176 Training loss: 0.06099 Valid_loss: 0.08978\n",
            "epoch 177 Training loss: 0.06567 Valid_loss: 0.08414\n",
            "epoch 178 Training loss: 0.06429 Valid_loss: 0.08545\n",
            "epoch 179 Training loss: 0.06647 Valid_loss: 0.09347\n",
            "epoch 180 Training loss: 0.06433 Valid_loss: 0.08512\n",
            "epoch 181 Training loss: 0.06556 Valid_loss: 0.08591\n",
            "epoch 182 Training loss: 0.06302 Valid_loss: 0.08688\n",
            "epoch 183 Training loss: 0.06504 Valid_loss: 0.08508\n",
            "epoch 184 Training loss: 0.06288 Valid_loss: 0.08401\n",
            "epoch 185 Training loss: 0.06188 Valid_loss: 0.08519\n",
            "epoch 186 Training loss: 0.06374 Valid_loss: 0.08600\n",
            "epoch 187 Training loss: 0.06070 Valid_loss: 0.08756\n",
            "epoch 188 Training loss: 0.06086 Valid_loss: 0.08619\n",
            "epoch 189 Training loss: 0.06324 Valid_loss: 0.08827\n",
            "epoch 190 Training loss: 0.06202 Valid_loss: 0.08481\n",
            "epoch 191 Training loss: 0.06174 Valid_loss: 0.09173\n",
            "epoch 192 Training loss: 0.06075 Valid_loss: 0.08671\n",
            "epoch 193 Training loss: 0.06000 Valid_loss: 0.09623\n",
            "epoch 194 Training loss: 0.06207 Valid_loss: 0.08918\n",
            "epoch 195 Training loss: 0.06089 Valid_loss: 0.09270\n",
            "epoch 196 Training loss: 0.06067 Valid_loss: 0.08966\n",
            "epoch 197 Training loss: 0.06244 Valid_loss: 0.08751\n",
            "epoch 198 Training loss: 0.06281 Valid_loss: 0.08611\n",
            "epoch 199 Training loss: 0.05953 Valid_loss: 0.08392\n",
            "epoch 200 Training loss: 0.05942 Valid_loss: 0.08664\n"
          ]
        },
        {
          "output_type": "display_data",
          "data": {
            "text/plain": [
              "<Figure size 640x480 with 1 Axes>"
            ],
            "image/png": "[encoded data removed]"
          },
          "metadata": {}
        }
      ],
      "source": [
        "#TODO: plot the training and validation error (MER) over epochs\n",
        "mlp_train_losses, mlp_valid_losses = train(mlp_model_4, 200, 0.001, criterion_MER, train_loader, valid_loader)\n",
        "plot(mlp_train_losses, mlp_valid_losses)"
      ]
    },
    {
      "cell_type": "markdown",
      "metadata": {
        "id": "7318EVBqr6lX"
      },
      "source": [
        "---\n",
        "## Add norm regularization\n",
        "\n",
        "In the following, use the norm regularization to retrain the above MLP."
      ]
    },
    {
      "cell_type": "code",
      "execution_count": 48,
      "metadata": {
        "id": "pccxcR7CwFjA",
        "colab": {
          "base_uri": "https://localhost:8080/",
          "height": 1000
        },
        "outputId": "d4e23ccb-d0d7-4c11-9c33-91125dd771e0"
      },
      "outputs": [
        {
          "output_type": "stream",
          "name": "stdout",
          "text": [
            "epoch 1 Training loss: 0.07768 Valid_loss: 0.09477\n",
            "epoch 2 Training loss: 0.07731 Valid_loss: 0.09674\n",
            "epoch 3 Training loss: 0.07666 Valid_loss: 0.09358\n",
            "epoch 4 Training loss: 0.07880 Valid_loss: 0.10087\n",
            "epoch 5 Training loss: 0.07630 Valid_loss: 0.09135\n",
            "epoch 6 Training loss: 0.07892 Valid_loss: 0.09223\n",
            "epoch 7 Training loss: 0.07696 Valid_loss: 0.09080\n",
            "epoch 8 Training loss: 0.07765 Valid_loss: 0.09000\n",
            "epoch 9 Training loss: 0.07507 Valid_loss: 0.10246\n",
            "epoch 10 Training loss: 0.07721 Valid_loss: 0.09394\n",
            "epoch 11 Training loss: 0.07566 Valid_loss: 0.08832\n",
            "epoch 12 Training loss: 0.07265 Valid_loss: 0.08793\n",
            "epoch 13 Training loss: 0.07450 Valid_loss: 0.09185\n",
            "epoch 14 Training loss: 0.07437 Valid_loss: 0.08928\n",
            "epoch 15 Training loss: 0.07758 Valid_loss: 0.08990\n",
            "epoch 16 Training loss: 0.07655 Valid_loss: 0.09265\n",
            "epoch 17 Training loss: 0.07692 Valid_loss: 0.08926\n",
            "epoch 18 Training loss: 0.07503 Valid_loss: 0.09329\n",
            "epoch 19 Training loss: 0.07668 Valid_loss: 0.08906\n",
            "epoch 20 Training loss: 0.07592 Valid_loss: 0.08910\n",
            "epoch 21 Training loss: 0.07494 Valid_loss: 0.09646\n",
            "epoch 22 Training loss: 0.07553 Valid_loss: 0.09106\n",
            "epoch 23 Training loss: 0.07542 Valid_loss: 0.08937\n",
            "epoch 24 Training loss: 0.07553 Valid_loss: 0.08879\n",
            "epoch 25 Training loss: 0.07990 Valid_loss: 0.09041\n",
            "epoch 26 Training loss: 0.07639 Valid_loss: 0.09735\n",
            "epoch 27 Training loss: 0.07410 Valid_loss: 0.09779\n",
            "epoch 28 Training loss: 0.07604 Valid_loss: 0.08929\n",
            "epoch 29 Training loss: 0.07652 Valid_loss: 0.09476\n",
            "epoch 30 Training loss: 0.07596 Valid_loss: 0.09443\n",
            "epoch 31 Training loss: 0.07661 Valid_loss: 0.11251\n",
            "epoch 32 Training loss: 0.07760 Valid_loss: 0.08948\n",
            "epoch 33 Training loss: 0.07526 Valid_loss: 0.10193\n",
            "epoch 34 Training loss: 0.07382 Valid_loss: 0.09441\n",
            "epoch 35 Training loss: 0.07556 Valid_loss: 0.09163\n",
            "epoch 36 Training loss: 0.07733 Valid_loss: 0.09139\n",
            "epoch 37 Training loss: 0.07915 Valid_loss: 0.08832\n",
            "epoch 38 Training loss: 0.07586 Valid_loss: 0.08830\n",
            "epoch 39 Training loss: 0.07587 Valid_loss: 0.09005\n",
            "epoch 40 Training loss: 0.07525 Valid_loss: 0.08779\n",
            "epoch 41 Training loss: 0.07575 Valid_loss: 0.09009\n",
            "epoch 42 Training loss: 0.07612 Valid_loss: 0.09923\n",
            "epoch 43 Training loss: 0.07635 Valid_loss: 0.09285\n",
            "epoch 44 Training loss: 0.07392 Valid_loss: 0.08959\n",
            "epoch 45 Training loss: 0.07495 Valid_loss: 0.09474\n",
            "epoch 46 Training loss: 0.07394 Valid_loss: 0.08826\n",
            "epoch 47 Training loss: 0.07448 Valid_loss: 0.09580\n",
            "epoch 48 Training loss: 0.07641 Valid_loss: 0.09322\n",
            "epoch 49 Training loss: 0.07606 Valid_loss: 0.09121\n",
            "epoch 50 Training loss: 0.07374 Valid_loss: 0.09484\n",
            "epoch 51 Training loss: 0.07263 Valid_loss: 0.09075\n",
            "epoch 52 Training loss: 0.07691 Valid_loss: 0.09123\n",
            "epoch 53 Training loss: 0.07380 Valid_loss: 0.09619\n",
            "epoch 54 Training loss: 0.07425 Valid_loss: 0.08937\n",
            "epoch 55 Training loss: 0.07781 Valid_loss: 0.09409\n",
            "epoch 56 Training loss: 0.07335 Valid_loss: 0.09181\n",
            "epoch 57 Training loss: 0.07360 Valid_loss: 0.09086\n",
            "epoch 58 Training loss: 0.07336 Valid_loss: 0.08813\n",
            "epoch 59 Training loss: 0.07283 Valid_loss: 0.08781\n",
            "epoch 60 Training loss: 0.07297 Valid_loss: 0.09108\n",
            "epoch 61 Training loss: 0.07430 Valid_loss: 0.09088\n",
            "epoch 62 Training loss: 0.07545 Valid_loss: 0.09039\n",
            "epoch 63 Training loss: 0.07320 Valid_loss: 0.08951\n",
            "epoch 64 Training loss: 0.07546 Valid_loss: 0.08961\n",
            "epoch 65 Training loss: 0.07615 Valid_loss: 0.09345\n",
            "epoch 66 Training loss: 0.07555 Valid_loss: 0.09016\n",
            "epoch 67 Training loss: 0.07352 Valid_loss: 0.09664\n",
            "epoch 68 Training loss: 0.07309 Valid_loss: 0.09170\n",
            "epoch 69 Training loss: 0.07672 Valid_loss: 0.09124\n",
            "epoch 70 Training loss: 0.07273 Valid_loss: 0.09006\n",
            "epoch 71 Training loss: 0.07455 Valid_loss: 0.09904\n",
            "epoch 72 Training loss: 0.07239 Valid_loss: 0.08880\n",
            "epoch 73 Training loss: 0.07575 Valid_loss: 0.09696\n",
            "epoch 74 Training loss: 0.07519 Valid_loss: 0.08979\n",
            "epoch 75 Training loss: 0.07305 Valid_loss: 0.09233\n",
            "epoch 76 Training loss: 0.07330 Valid_loss: 0.09273\n",
            "epoch 77 Training loss: 0.07638 Valid_loss: 0.09513\n",
            "epoch 78 Training loss: 0.07990 Valid_loss: 0.09324\n",
            "epoch 79 Training loss: 0.07815 Valid_loss: 0.09171\n",
            "epoch 80 Training loss: 0.07596 Valid_loss: 0.09206\n",
            "epoch 81 Training loss: 0.07685 Valid_loss: 0.08987\n",
            "epoch 82 Training loss: 0.07524 Valid_loss: 0.09439\n",
            "epoch 83 Training loss: 0.07581 Valid_loss: 0.09127\n",
            "epoch 84 Training loss: 0.07445 Valid_loss: 0.09000\n",
            "epoch 85 Training loss: 0.07310 Valid_loss: 0.09313\n",
            "epoch 86 Training loss: 0.07231 Valid_loss: 0.08834\n",
            "epoch 87 Training loss: 0.07343 Valid_loss: 0.09188\n",
            "epoch 88 Training loss: 0.07446 Valid_loss: 0.09328\n",
            "epoch 89 Training loss: 0.07372 Valid_loss: 0.08991\n",
            "epoch 90 Training loss: 0.07490 Valid_loss: 0.09082\n",
            "epoch 91 Training loss: 0.07259 Valid_loss: 0.08886\n",
            "epoch 92 Training loss: 0.07304 Valid_loss: 0.09181\n",
            "epoch 93 Training loss: 0.07513 Valid_loss: 0.10180\n",
            "epoch 94 Training loss: 0.07459 Valid_loss: 0.09032\n",
            "epoch 95 Training loss: 0.07194 Valid_loss: 0.08883\n",
            "epoch 96 Training loss: 0.07373 Valid_loss: 0.08993\n",
            "epoch 97 Training loss: 0.07513 Valid_loss: 0.09010\n",
            "epoch 98 Training loss: 0.07278 Valid_loss: 0.09782\n",
            "epoch 99 Training loss: 0.07332 Valid_loss: 0.09168\n",
            "epoch 100 Training loss: 0.07353 Valid_loss: 0.09528\n",
            "epoch 101 Training loss: 0.07252 Valid_loss: 0.08941\n",
            "epoch 102 Training loss: 0.07211 Valid_loss: 0.09350\n",
            "epoch 103 Training loss: 0.07458 Valid_loss: 0.09943\n",
            "epoch 104 Training loss: 0.07687 Valid_loss: 0.09028\n",
            "epoch 105 Training loss: 0.07160 Valid_loss: 0.08692\n",
            "epoch 106 Training loss: 0.07363 Valid_loss: 0.09243\n",
            "epoch 107 Training loss: 0.07412 Valid_loss: 0.09066\n",
            "epoch 108 Training loss: 0.07652 Valid_loss: 0.09109\n",
            "epoch 109 Training loss: 0.07357 Valid_loss: 0.08951\n",
            "epoch 110 Training loss: 0.07415 Valid_loss: 0.08815\n",
            "epoch 111 Training loss: 0.07388 Valid_loss: 0.09793\n",
            "epoch 112 Training loss: 0.07446 Valid_loss: 0.09086\n",
            "epoch 113 Training loss: 0.07401 Valid_loss: 0.09911\n",
            "epoch 114 Training loss: 0.07226 Valid_loss: 0.09395\n",
            "epoch 115 Training loss: 0.07125 Valid_loss: 0.09597\n",
            "epoch 116 Training loss: 0.07099 Valid_loss: 0.08968\n",
            "epoch 117 Training loss: 0.07364 Valid_loss: 0.08871\n",
            "epoch 118 Training loss: 0.07155 Valid_loss: 0.08979\n",
            "epoch 119 Training loss: 0.07452 Valid_loss: 0.08939\n",
            "epoch 120 Training loss: 0.07337 Valid_loss: 0.08784\n",
            "epoch 121 Training loss: 0.07226 Valid_loss: 0.08936\n",
            "epoch 122 Training loss: 0.07301 Valid_loss: 0.09324\n",
            "epoch 123 Training loss: 0.07359 Valid_loss: 0.08808\n",
            "epoch 124 Training loss: 0.07305 Valid_loss: 0.09193\n",
            "epoch 125 Training loss: 0.07688 Valid_loss: 0.08917\n",
            "epoch 126 Training loss: 0.07196 Valid_loss: 0.09217\n",
            "epoch 127 Training loss: 0.07328 Valid_loss: 0.09144\n",
            "epoch 128 Training loss: 0.07331 Valid_loss: 0.09400\n",
            "epoch 129 Training loss: 0.07376 Valid_loss: 0.08985\n",
            "epoch 130 Training loss: 0.07699 Valid_loss: 0.09581\n",
            "epoch 131 Training loss: 0.07183 Valid_loss: 0.09769\n",
            "epoch 132 Training loss: 0.07491 Valid_loss: 0.09279\n",
            "epoch 133 Training loss: 0.07426 Valid_loss: 0.08981\n",
            "epoch 134 Training loss: 0.06988 Valid_loss: 0.09317\n",
            "epoch 135 Training loss: 0.07322 Valid_loss: 0.09039\n",
            "epoch 136 Training loss: 0.07371 Valid_loss: 0.08817\n",
            "epoch 137 Training loss: 0.07344 Valid_loss: 0.09556\n",
            "epoch 138 Training loss: 0.07359 Valid_loss: 0.08538\n",
            "epoch 139 Training loss: 0.07293 Valid_loss: 0.10826\n",
            "epoch 140 Training loss: 0.07307 Valid_loss: 0.08471\n",
            "epoch 141 Training loss: 0.07179 Valid_loss: 0.08634\n",
            "epoch 142 Training loss: 0.06957 Valid_loss: 0.08684\n",
            "epoch 143 Training loss: 0.07261 Valid_loss: 0.08693\n",
            "epoch 144 Training loss: 0.07308 Valid_loss: 0.09450\n",
            "epoch 145 Training loss: 0.07222 Valid_loss: 0.09940\n",
            "epoch 146 Training loss: 0.07198 Valid_loss: 0.08614\n",
            "epoch 147 Training loss: 0.07147 Valid_loss: 0.09097\n",
            "epoch 148 Training loss: 0.07233 Valid_loss: 0.09620\n",
            "epoch 149 Training loss: 0.07238 Valid_loss: 0.09107\n",
            "epoch 150 Training loss: 0.07286 Valid_loss: 0.09235\n",
            "epoch 151 Training loss: 0.07057 Valid_loss: 0.09301\n",
            "epoch 152 Training loss: 0.07145 Valid_loss: 0.09067\n",
            "epoch 153 Training loss: 0.07250 Valid_loss: 0.08776\n",
            "epoch 154 Training loss: 0.07174 Valid_loss: 0.08610\n",
            "epoch 155 Training loss: 0.06996 Valid_loss: 0.08909\n",
            "epoch 156 Training loss: 0.07235 Valid_loss: 0.09403\n",
            "epoch 157 Training loss: 0.07170 Valid_loss: 0.08839\n",
            "epoch 158 Training loss: 0.07203 Valid_loss: 0.09054\n",
            "epoch 159 Training loss: 0.07373 Valid_loss: 0.09406\n",
            "epoch 160 Training loss: 0.07166 Valid_loss: 0.08785\n",
            "epoch 161 Training loss: 0.07125 Valid_loss: 0.09675\n",
            "epoch 162 Training loss: 0.07377 Valid_loss: 0.08891\n",
            "epoch 163 Training loss: 0.07289 Valid_loss: 0.08510\n",
            "epoch 164 Training loss: 0.07231 Valid_loss: 0.08695\n",
            "epoch 165 Training loss: 0.07027 Valid_loss: 0.08936\n",
            "epoch 166 Training loss: 0.06833 Valid_loss: 0.08945\n",
            "epoch 167 Training loss: 0.07250 Valid_loss: 0.08940\n",
            "epoch 168 Training loss: 0.07158 Valid_loss: 0.08646\n",
            "epoch 169 Training loss: 0.07281 Valid_loss: 0.08580\n",
            "epoch 170 Training loss: 0.07070 Valid_loss: 0.08629\n",
            "epoch 171 Training loss: 0.07183 Valid_loss: 0.08433\n",
            "epoch 172 Training loss: 0.07173 Valid_loss: 0.08523\n",
            "epoch 173 Training loss: 0.07256 Valid_loss: 0.08493\n",
            "epoch 174 Training loss: 0.06873 Valid_loss: 0.08993\n",
            "epoch 175 Training loss: 0.07229 Valid_loss: 0.09633\n",
            "epoch 176 Training loss: 0.07069 Valid_loss: 0.09046\n",
            "epoch 177 Training loss: 0.07064 Valid_loss: 0.08976\n",
            "epoch 178 Training loss: 0.07279 Valid_loss: 0.08907\n",
            "epoch 179 Training loss: 0.07258 Valid_loss: 0.08961\n",
            "epoch 180 Training loss: 0.07121 Valid_loss: 0.09268\n",
            "epoch 181 Training loss: 0.07149 Valid_loss: 0.08834\n",
            "epoch 182 Training loss: 0.06902 Valid_loss: 0.10032\n",
            "epoch 183 Training loss: 0.07225 Valid_loss: 0.09142\n",
            "epoch 184 Training loss: 0.07236 Valid_loss: 0.09770\n",
            "epoch 185 Training loss: 0.06962 Valid_loss: 0.09216\n",
            "epoch 186 Training loss: 0.07307 Valid_loss: 0.08918\n",
            "epoch 187 Training loss: 0.06984 Valid_loss: 0.08610\n",
            "epoch 188 Training loss: 0.07114 Valid_loss: 0.09018\n",
            "epoch 189 Training loss: 0.07040 Valid_loss: 0.09281\n",
            "epoch 190 Training loss: 0.07013 Valid_loss: 0.08648\n",
            "epoch 191 Training loss: 0.07075 Valid_loss: 0.08921\n",
            "epoch 192 Training loss: 0.07007 Valid_loss: 0.09012\n",
            "epoch 193 Training loss: 0.06950 Valid_loss: 0.09627\n",
            "epoch 194 Training loss: 0.07016 Valid_loss: 0.09058\n",
            "epoch 195 Training loss: 0.07278 Valid_loss: 0.09022\n",
            "epoch 196 Training loss: 0.07053 Valid_loss: 0.09313\n",
            "epoch 197 Training loss: 0.07099 Valid_loss: 0.09197\n",
            "epoch 198 Training loss: 0.07226 Valid_loss: 0.09125\n",
            "epoch 199 Training loss: 0.07027 Valid_loss: 0.09301\n",
            "epoch 200 Training loss: 0.06906 Valid_loss: 0.09556\n"
          ]
        },
        {
          "output_type": "display_data",
          "data": {
            "text/plain": [
              "<Figure size 640x480 with 1 Axes>"
            ],
            "image/png": "[encoded data removed]"
          },
          "metadata": {}
        }
      ],
      "source": [
        "#TODO: plot the training and validation error (MER) over epochs after using norm regularization\n",
        "mlp_train_losses, mlp_valid_losses = train(mlp_model, 200, 0.001, criterion_MER, train_loader, valid_loader, weight=0.0001)\n",
        "plot(mlp_train_losses, mlp_valid_losses)"
      ]
    },
    {
      "cell_type": "markdown",
      "metadata": {
        "id": "awKh4JrcwKQC"
      },
      "source": [
        "---\n",
        "## Add dropout layer\n",
        "\n",
        "In the following, add dropout layer to the above MLP.\n"
      ]
    },
    {
      "cell_type": "code",
      "execution_count": 51,
      "metadata": {
        "id": "8gI38LVoBtSe",
        "colab": {
          "base_uri": "https://localhost:8080/",
          "height": 1000
        },
        "outputId": "9d6881ed-f7ee-4ae3-886f-f3add7352cc9"
      },
      "outputs": [
        {
          "output_type": "stream",
          "name": "stdout",
          "text": [
            "epoch 1 Training loss: 0.40255 Valid_loss: 0.20827\n",
            "epoch 2 Training loss: 0.20744 Valid_loss: 0.18263\n",
            "epoch 3 Training loss: 0.19121 Valid_loss: 0.16852\n",
            "epoch 4 Training loss: 0.17567 Valid_loss: 0.19296\n",
            "epoch 5 Training loss: 0.16301 Valid_loss: 0.15043\n",
            "epoch 6 Training loss: 0.15591 Valid_loss: 0.14696\n",
            "epoch 7 Training loss: 0.15359 Valid_loss: 0.13578\n",
            "epoch 8 Training loss: 0.14478 Valid_loss: 0.13439\n",
            "epoch 9 Training loss: 0.13979 Valid_loss: 0.12039\n",
            "epoch 10 Training loss: 0.13725 Valid_loss: 0.12178\n",
            "epoch 11 Training loss: 0.13783 Valid_loss: 0.12614\n",
            "epoch 12 Training loss: 0.13085 Valid_loss: 0.11499\n",
            "epoch 13 Training loss: 0.12805 Valid_loss: 0.11089\n",
            "epoch 14 Training loss: 0.12939 Valid_loss: 0.10657\n",
            "epoch 15 Training loss: 0.12587 Valid_loss: 0.12880\n",
            "epoch 16 Training loss: 0.12597 Valid_loss: 0.13373\n",
            "epoch 17 Training loss: 0.12411 Valid_loss: 0.10833\n",
            "epoch 18 Training loss: 0.12403 Valid_loss: 0.11157\n",
            "epoch 19 Training loss: 0.12070 Valid_loss: 0.10416\n",
            "epoch 20 Training loss: 0.12056 Valid_loss: 0.10791\n",
            "epoch 21 Training loss: 0.11947 Valid_loss: 0.10423\n",
            "epoch 22 Training loss: 0.11978 Valid_loss: 0.10632\n",
            "epoch 23 Training loss: 0.11754 Valid_loss: 0.09914\n",
            "epoch 24 Training loss: 0.11645 Valid_loss: 0.11330\n",
            "epoch 25 Training loss: 0.11504 Valid_loss: 0.11132\n",
            "epoch 26 Training loss: 0.11255 Valid_loss: 0.10468\n",
            "epoch 27 Training loss: 0.11177 Valid_loss: 0.09738\n",
            "epoch 28 Training loss: 0.11558 Valid_loss: 0.10495\n",
            "epoch 29 Training loss: 0.11030 Valid_loss: 0.09748\n",
            "epoch 30 Training loss: 0.11137 Valid_loss: 0.14447\n",
            "epoch 31 Training loss: 0.11294 Valid_loss: 0.09936\n",
            "epoch 32 Training loss: 0.11165 Valid_loss: 0.12586\n",
            "epoch 33 Training loss: 0.11310 Valid_loss: 0.10455\n",
            "epoch 34 Training loss: 0.11051 Valid_loss: 0.11551\n",
            "epoch 35 Training loss: 0.11095 Valid_loss: 0.13389\n",
            "epoch 36 Training loss: 0.11175 Valid_loss: 0.10100\n",
            "epoch 37 Training loss: 0.10529 Valid_loss: 0.11047\n",
            "epoch 38 Training loss: 0.11307 Valid_loss: 0.11344\n",
            "epoch 39 Training loss: 0.11060 Valid_loss: 0.10157\n",
            "epoch 40 Training loss: 0.10888 Valid_loss: 0.12308\n",
            "epoch 41 Training loss: 0.10814 Valid_loss: 0.11993\n",
            "epoch 42 Training loss: 0.10664 Valid_loss: 0.11629\n",
            "epoch 43 Training loss: 0.10566 Valid_loss: 0.10660\n",
            "epoch 44 Training loss: 0.10673 Valid_loss: 0.11781\n",
            "epoch 45 Training loss: 0.10575 Valid_loss: 0.09702\n",
            "epoch 46 Training loss: 0.10666 Valid_loss: 0.09148\n",
            "epoch 47 Training loss: 0.10696 Valid_loss: 0.10894\n",
            "epoch 48 Training loss: 0.10418 Valid_loss: 0.12811\n",
            "epoch 49 Training loss: 0.10615 Valid_loss: 0.10694\n",
            "epoch 50 Training loss: 0.10651 Valid_loss: 0.11711\n",
            "epoch 51 Training loss: 0.10258 Valid_loss: 0.10515\n",
            "epoch 52 Training loss: 0.10389 Valid_loss: 0.13418\n",
            "epoch 53 Training loss: 0.10050 Valid_loss: 0.09817\n",
            "epoch 54 Training loss: 0.10280 Valid_loss: 0.09882\n",
            "epoch 55 Training loss: 0.10179 Valid_loss: 0.10864\n",
            "epoch 56 Training loss: 0.10115 Valid_loss: 0.09357\n",
            "epoch 57 Training loss: 0.10120 Valid_loss: 0.10447\n",
            "epoch 58 Training loss: 0.10150 Valid_loss: 0.09252\n",
            "epoch 59 Training loss: 0.09901 Valid_loss: 0.10792\n",
            "epoch 60 Training loss: 0.10255 Valid_loss: 0.09345\n",
            "epoch 61 Training loss: 0.10030 Valid_loss: 0.11019\n",
            "epoch 62 Training loss: 0.10049 Valid_loss: 0.09903\n",
            "epoch 63 Training loss: 0.10035 Valid_loss: 0.08834\n",
            "epoch 64 Training loss: 0.09883 Valid_loss: 0.10069\n",
            "epoch 65 Training loss: 0.10217 Valid_loss: 0.10457\n",
            "epoch 66 Training loss: 0.10031 Valid_loss: 0.11767\n",
            "epoch 67 Training loss: 0.09931 Valid_loss: 0.09017\n",
            "epoch 68 Training loss: 0.10047 Valid_loss: 0.09586\n",
            "epoch 69 Training loss: 0.09938 Valid_loss: 0.08872\n",
            "epoch 70 Training loss: 0.10014 Valid_loss: 0.09965\n",
            "epoch 71 Training loss: 0.09810 Valid_loss: 0.10621\n",
            "epoch 72 Training loss: 0.09627 Valid_loss: 0.09403\n",
            "epoch 73 Training loss: 0.09964 Valid_loss: 0.08879\n",
            "epoch 74 Training loss: 0.09992 Valid_loss: 0.10419\n",
            "epoch 75 Training loss: 0.09875 Valid_loss: 0.09127\n",
            "epoch 76 Training loss: 0.10253 Valid_loss: 0.12438\n",
            "epoch 77 Training loss: 0.09887 Valid_loss: 0.09341\n",
            "epoch 78 Training loss: 0.09810 Valid_loss: 0.09903\n",
            "epoch 79 Training loss: 0.09727 Valid_loss: 0.10085\n",
            "epoch 80 Training loss: 0.09847 Valid_loss: 0.08871\n",
            "epoch 81 Training loss: 0.09573 Valid_loss: 0.11674\n",
            "epoch 82 Training loss: 0.09946 Valid_loss: 0.08857\n",
            "epoch 83 Training loss: 0.09582 Valid_loss: 0.09747\n",
            "epoch 84 Training loss: 0.09681 Valid_loss: 0.09625\n",
            "epoch 85 Training loss: 0.09621 Valid_loss: 0.10485\n",
            "epoch 86 Training loss: 0.09912 Valid_loss: 0.09974\n",
            "epoch 87 Training loss: 0.09519 Valid_loss: 0.09261\n",
            "epoch 88 Training loss: 0.09912 Valid_loss: 0.12119\n",
            "epoch 89 Training loss: 0.09976 Valid_loss: 0.08891\n",
            "epoch 90 Training loss: 0.09591 Valid_loss: 0.10439\n",
            "epoch 91 Training loss: 0.09669 Valid_loss: 0.08693\n",
            "epoch 92 Training loss: 0.09548 Valid_loss: 0.09104\n",
            "epoch 93 Training loss: 0.09452 Valid_loss: 0.10009\n",
            "epoch 94 Training loss: 0.09635 Valid_loss: 0.08742\n",
            "epoch 95 Training loss: 0.09374 Valid_loss: 0.10036\n",
            "epoch 96 Training loss: 0.09647 Valid_loss: 0.09112\n",
            "epoch 97 Training loss: 0.09285 Valid_loss: 0.10342\n",
            "epoch 98 Training loss: 0.09629 Valid_loss: 0.08649\n",
            "epoch 99 Training loss: 0.09380 Valid_loss: 0.09614\n",
            "epoch 100 Training loss: 0.09533 Valid_loss: 0.11213\n",
            "epoch 101 Training loss: 0.09468 Valid_loss: 0.11006\n",
            "epoch 102 Training loss: 0.09525 Valid_loss: 0.10748\n",
            "epoch 103 Training loss: 0.09249 Valid_loss: 0.08902\n",
            "epoch 104 Training loss: 0.09269 Valid_loss: 0.09452\n",
            "epoch 105 Training loss: 0.09335 Valid_loss: 0.10415\n",
            "epoch 106 Training loss: 0.09227 Valid_loss: 0.13078\n",
            "epoch 107 Training loss: 0.09090 Valid_loss: 0.09098\n",
            "epoch 108 Training loss: 0.09240 Valid_loss: 0.09699\n",
            "epoch 109 Training loss: 0.09262 Valid_loss: 0.09165\n",
            "epoch 110 Training loss: 0.09271 Valid_loss: 0.11449\n",
            "epoch 111 Training loss: 0.09339 Valid_loss: 0.09781\n",
            "epoch 112 Training loss: 0.09229 Valid_loss: 0.08905\n",
            "epoch 113 Training loss: 0.09096 Valid_loss: 0.08767\n",
            "epoch 114 Training loss: 0.09301 Valid_loss: 0.08910\n",
            "epoch 115 Training loss: 0.09344 Valid_loss: 0.09714\n",
            "epoch 116 Training loss: 0.09147 Valid_loss: 0.08597\n",
            "epoch 117 Training loss: 0.09146 Valid_loss: 0.09371\n",
            "epoch 118 Training loss: 0.09027 Valid_loss: 0.09737\n",
            "epoch 119 Training loss: 0.09251 Valid_loss: 0.09416\n",
            "epoch 120 Training loss: 0.09099 Valid_loss: 0.09718\n",
            "epoch 121 Training loss: 0.09133 Valid_loss: 0.11432\n",
            "epoch 122 Training loss: 0.09022 Valid_loss: 0.09616\n",
            "epoch 123 Training loss: 0.09072 Valid_loss: 0.09717\n",
            "epoch 124 Training loss: 0.08913 Valid_loss: 0.09049\n",
            "epoch 125 Training loss: 0.08897 Valid_loss: 0.09662\n",
            "epoch 126 Training loss: 0.09178 Valid_loss: 0.09073\n",
            "epoch 127 Training loss: 0.08894 Valid_loss: 0.10446\n",
            "epoch 128 Training loss: 0.09030 Valid_loss: 0.09910\n",
            "epoch 129 Training loss: 0.08762 Valid_loss: 0.08410\n",
            "epoch 130 Training loss: 0.09246 Valid_loss: 0.10897\n",
            "epoch 131 Training loss: 0.09162 Valid_loss: 0.11423\n",
            "epoch 132 Training loss: 0.08759 Valid_loss: 0.10852\n",
            "epoch 133 Training loss: 0.09031 Valid_loss: 0.10016\n",
            "epoch 134 Training loss: 0.09099 Valid_loss: 0.10828\n",
            "epoch 135 Training loss: 0.08927 Valid_loss: 0.11102\n",
            "epoch 136 Training loss: 0.09019 Valid_loss: 0.10157\n",
            "epoch 137 Training loss: 0.09140 Valid_loss: 0.09087\n",
            "epoch 138 Training loss: 0.08715 Valid_loss: 0.08765\n",
            "epoch 139 Training loss: 0.08769 Valid_loss: 0.08534\n",
            "epoch 140 Training loss: 0.08860 Valid_loss: 0.08957\n",
            "epoch 141 Training loss: 0.08688 Valid_loss: 0.08991\n",
            "epoch 142 Training loss: 0.08768 Valid_loss: 0.09499\n",
            "epoch 143 Training loss: 0.08587 Valid_loss: 0.08974\n",
            "epoch 144 Training loss: 0.08893 Valid_loss: 0.09198\n",
            "epoch 145 Training loss: 0.08870 Valid_loss: 0.10872\n",
            "epoch 146 Training loss: 0.08766 Valid_loss: 0.11965\n",
            "epoch 147 Training loss: 0.08909 Valid_loss: 0.09085\n",
            "epoch 148 Training loss: 0.08689 Valid_loss: 0.10489\n",
            "epoch 149 Training loss: 0.08825 Valid_loss: 0.09913\n",
            "epoch 150 Training loss: 0.08752 Valid_loss: 0.12761\n",
            "epoch 151 Training loss: 0.08991 Valid_loss: 0.10298\n",
            "epoch 152 Training loss: 0.08785 Valid_loss: 0.08504\n",
            "epoch 153 Training loss: 0.08750 Valid_loss: 0.12628\n",
            "epoch 154 Training loss: 0.08646 Valid_loss: 0.09490\n",
            "epoch 155 Training loss: 0.08618 Valid_loss: 0.10828\n",
            "epoch 156 Training loss: 0.08543 Valid_loss: 0.09006\n",
            "epoch 157 Training loss: 0.08740 Valid_loss: 0.09445\n",
            "epoch 158 Training loss: 0.08767 Valid_loss: 0.11891\n",
            "epoch 159 Training loss: 0.08708 Valid_loss: 0.10895\n",
            "epoch 160 Training loss: 0.08578 Valid_loss: 0.08504\n",
            "epoch 161 Training loss: 0.08693 Valid_loss: 0.08676\n",
            "epoch 162 Training loss: 0.08568 Valid_loss: 0.10320\n",
            "epoch 163 Training loss: 0.08771 Valid_loss: 0.08507\n",
            "epoch 164 Training loss: 0.08481 Valid_loss: 0.08647\n",
            "epoch 165 Training loss: 0.08492 Valid_loss: 0.09597\n",
            "epoch 166 Training loss: 0.08442 Valid_loss: 0.08281\n",
            "epoch 167 Training loss: 0.08832 Valid_loss: 0.08669\n",
            "epoch 168 Training loss: 0.08656 Valid_loss: 0.08976\n",
            "epoch 169 Training loss: 0.08425 Valid_loss: 0.09116\n",
            "epoch 170 Training loss: 0.08431 Valid_loss: 0.08266\n",
            "epoch 171 Training loss: 0.08585 Valid_loss: 0.09423\n",
            "epoch 172 Training loss: 0.08356 Valid_loss: 0.09851\n",
            "epoch 173 Training loss: 0.08528 Valid_loss: 0.09997\n",
            "epoch 174 Training loss: 0.08430 Valid_loss: 0.08612\n",
            "epoch 175 Training loss: 0.08514 Valid_loss: 0.08516\n",
            "epoch 176 Training loss: 0.08424 Valid_loss: 0.08599\n",
            "epoch 177 Training loss: 0.08687 Valid_loss: 0.10316\n",
            "epoch 178 Training loss: 0.08371 Valid_loss: 0.09582\n",
            "epoch 179 Training loss: 0.08450 Valid_loss: 0.09705\n",
            "epoch 180 Training loss: 0.08350 Valid_loss: 0.08525\n",
            "epoch 181 Training loss: 0.08785 Valid_loss: 0.09312\n",
            "epoch 182 Training loss: 0.08338 Valid_loss: 0.09109\n",
            "epoch 183 Training loss: 0.08235 Valid_loss: 0.08714\n",
            "epoch 184 Training loss: 0.08520 Valid_loss: 0.09576\n",
            "epoch 185 Training loss: 0.08381 Valid_loss: 0.09321\n",
            "epoch 186 Training loss: 0.08561 Valid_loss: 0.12541\n",
            "epoch 187 Training loss: 0.08659 Valid_loss: 0.10373\n",
            "epoch 188 Training loss: 0.08285 Valid_loss: 0.08980\n",
            "epoch 189 Training loss: 0.08256 Valid_loss: 0.09543\n",
            "epoch 190 Training loss: 0.08275 Valid_loss: 0.09153\n",
            "epoch 191 Training loss: 0.08334 Valid_loss: 0.08887\n",
            "epoch 192 Training loss: 0.08489 Valid_loss: 0.09088\n",
            "epoch 193 Training loss: 0.08223 Valid_loss: 0.09155\n",
            "epoch 194 Training loss: 0.08448 Valid_loss: 0.09137\n",
            "epoch 195 Training loss: 0.08261 Valid_loss: 0.08490\n",
            "epoch 196 Training loss: 0.08496 Valid_loss: 0.08974\n",
            "epoch 197 Training loss: 0.08574 Valid_loss: 0.09503\n",
            "epoch 198 Training loss: 0.08448 Valid_loss: 0.08931\n",
            "epoch 199 Training loss: 0.08110 Valid_loss: 0.10024\n",
            "epoch 200 Training loss: 0.08121 Valid_loss: 0.09044\n"
          ]
        },
        {
          "output_type": "display_data",
          "data": {
            "text/plain": [
              "<Figure size 640x480 with 1 Axes>"
            ],
            "image/png": "[encoded data removed]"
          },
          "metadata": {}
        }
      ],
      "source": [
        "#TODO: plot the training and validation error (MER) over epochs after using norm regularization\n",
        "class mlp_dropout(nn.Module):\n",
        "  def __init__(self, input):\n",
        "    super().__init__()\n",
        "    self.fc1 = nn.Linear(input, 512)\n",
        "    self.fc2 = nn.Linear(512, 256)\n",
        "    self.fc3 = nn.Linear(256, 128)\n",
        "    self.fc4 = nn.Linear(128, 64)\n",
        "    self.output = nn.Linear(64, 1)\n",
        "\n",
        "    self.dropout = nn.Dropout(p=0.05)\n",
        "\n",
        "  def forward(self, x):\n",
        "    x = self.dropout(F.relu(self.fc1(x)))\n",
        "    x = self.dropout(F.relu(self.fc2(x)))\n",
        "    x = self.dropout(F.relu(self.fc3(x)))\n",
        "    x = self.dropout(F.relu(self.fc4(x)))\n",
        "    x = self.dropout(F.relu(self.output(x)))\n",
        "    return x\n",
        "\n",
        "mlp_dropout = mlp_dropout(train_features.shape[1])\n",
        "mlp_dropout.to(device)\n",
        "mlp_dropout\n",
        "\n",
        "mlp_train_losses, mlp_valid_losses = train(mlp_dropout, 200, 0.0001, criterion_MER, train_loader, valid_loader)\n",
        "plot(mlp_train_losses, mlp_valid_losses)"
      ]
    },
    {
      "cell_type": "markdown",
      "metadata": {
        "id": "A2aLRME5nOMA"
      },
      "source": [
        "## Some other model variations\n",
        "\n",
        "**You're more than welcome to try some other model varations (e.g. different number of hidden layers, hidden neurons, learning rate, etc) to achieve lower valid error. Include a table listing all the model hyperparameters that you have tried with the corresponding validation errors that you found.**"
      ]
    },
    {
      "cell_type": "code",
      "execution_count": 100,
      "metadata": {
        "id": "qSNpDljQnN1Z",
        "colab": {
          "base_uri": "https://localhost:8080/"
        },
        "outputId": "55becab6-470f-4095-f617-79fe0026431a"
      },
      "outputs": [
        {
          "output_type": "execute_result",
          "data": {
            "text/plain": [
              "Sequential(\n",
              "  (0): Linear(in_features=122, out_features=256, bias=True)\n",
              "  (1): ReLU()\n",
              "  (2): Dropout(p=0.1, inplace=False)\n",
              "  (3): Linear(in_features=256, out_features=128, bias=True)\n",
              "  (4): ReLU()\n",
              "  (5): Dropout(p=0.1, inplace=False)\n",
              "  (6): Linear(in_features=128, out_features=128, bias=True)\n",
              "  (7): ReLU()\n",
              "  (8): Dropout(p=0.1, inplace=False)\n",
              "  (9): Linear(in_features=128, out_features=64, bias=True)\n",
              "  (10): ReLU()\n",
              "  (11): Dropout(p=0.1, inplace=False)\n",
              "  (12): Linear(in_features=64, out_features=32, bias=True)\n",
              "  (13): ReLU()\n",
              "  (14): Dropout(p=0.1, inplace=False)\n",
              "  (15): Linear(in_features=32, out_features=1, bias=True)\n",
              ")"
            ]
          },
          "metadata": {},
          "execution_count": 100
        }
      ],
      "source": [
        "dropout_rate = 0.1\n",
        "\n",
        "mlp_model = nn.Sequential(\n",
        "    nn.Linear(train_features.shape[1], 256),\n",
        "    nn.ReLU(),\n",
        "    nn.Dropout(dropout_rate),\n",
        "    nn.Linear(256, 128),\n",
        "    nn.ReLU(),\n",
        "    nn.Dropout(dropout_rate),\n",
        "    nn.Linear(128, 128),\n",
        "    nn.ReLU(),\n",
        "    nn.Dropout(dropout_rate),\n",
        "    nn.Linear(128, 64),\n",
        "    nn.ReLU(),\n",
        "    nn.Dropout(dropout_rate),\n",
        "    nn.Linear(64, 32),\n",
        "    nn.ReLU(),\n",
        "    nn.Dropout(dropout_rate),\n",
        "    nn.Linear(32, 1)\n",
        ")\n",
        "\n",
        "mlp_model = mlp_model.to(device)\n",
        "mlp_model"
      ]
    },
    {
      "cell_type": "markdown",
      "metadata": {
        "id": "TKAgZM-PzOcM"
      },
      "source": [
        "---\n",
        "## Save Model\n",
        "\n",
        "Save a `checkpoint.pth` file containing all the necessary information to retrieve your best model and predictions. Remember submitting this file to Canvas siste.\n",
        "\n",
        "Hint: Check out the `Lecture 4 - Saving and Loading Models.ipynb` on Canvas if you do not know how to save model."
      ]
    },
    {
      "cell_type": "markdown",
      "source": [
        "HyperTunning Process"
      ],
      "metadata": {
        "id": "Mlu2TNJoKODf"
      }
    },
    {
      "cell_type": "code",
      "execution_count": 101,
      "metadata": {
        "id": "8ztaxE5pVKKw",
        "colab": {
          "base_uri": "https://localhost:8080/"
        },
        "outputId": "b69b9316-49bf-4430-eb47-8007e5926ba4"
      },
      "outputs": [
        {
          "output_type": "stream",
          "name": "stdout",
          "text": [
            "Training with weight_decay=1e-06, lr=0.00011, epochs=1000\n",
            "Epoch 1/1000 - Training Loss: 0.45359, Validation Loss: 0.23779\n",
            "Epoch 2/1000 - Training Loss: 0.23065, Validation Loss: 0.20988\n",
            "Epoch 3/1000 - Training Loss: 0.21429, Validation Loss: 0.17475\n",
            "Epoch 4/1000 - Training Loss: 0.19462, Validation Loss: 0.16412\n",
            "Epoch 5/1000 - Training Loss: 0.19161, Validation Loss: 0.15426\n",
            "Epoch 6/1000 - Training Loss: 0.18813, Validation Loss: 0.19296\n",
            "Epoch 7/1000 - Training Loss: 0.18029, Validation Loss: 0.14211\n",
            "Epoch 8/1000 - Training Loss: 0.17445, Validation Loss: 0.13817\n",
            "Epoch 9/1000 - Training Loss: 0.17261, Validation Loss: 0.14333\n",
            "Epoch 10/1000 - Training Loss: 0.16736, Validation Loss: 0.14291\n",
            "Epoch 11/1000 - Training Loss: 0.16284, Validation Loss: 0.12909\n",
            "Epoch 12/1000 - Training Loss: 0.16254, Validation Loss: 0.14814\n",
            "Epoch 13/1000 - Training Loss: 0.15880, Validation Loss: 0.12455\n",
            "Epoch 14/1000 - Training Loss: 0.15814, Validation Loss: 0.12943\n",
            "Epoch 15/1000 - Training Loss: 0.15757, Validation Loss: 0.12366\n",
            "Epoch 16/1000 - Training Loss: 0.15372, Validation Loss: 0.13871\n",
            "Epoch 17/1000 - Training Loss: 0.15109, Validation Loss: 0.13757\n",
            "Epoch 18/1000 - Training Loss: 0.14731, Validation Loss: 0.12898\n",
            "Epoch 19/1000 - Training Loss: 0.14935, Validation Loss: 0.11742\n",
            "Epoch 20/1000 - Training Loss: 0.14727, Validation Loss: 0.11818\n",
            "Epoch 21/1000 - Training Loss: 0.14283, Validation Loss: 0.11717\n",
            "Epoch 22/1000 - Training Loss: 0.14300, Validation Loss: 0.11787\n",
            "Epoch 23/1000 - Training Loss: 0.14469, Validation Loss: 0.12003\n",
            "Epoch 24/1000 - Training Loss: 0.14456, Validation Loss: 0.11364\n",
            "Epoch 25/1000 - Training Loss: 0.13960, Validation Loss: 0.13421\n",
            "Epoch 26/1000 - Training Loss: 0.14413, Validation Loss: 0.11245\n",
            "Epoch 27/1000 - Training Loss: 0.14128, Validation Loss: 0.11413\n",
            "Epoch 28/1000 - Training Loss: 0.13962, Validation Loss: 0.11122\n",
            "Epoch 29/1000 - Training Loss: 0.14098, Validation Loss: 0.10778\n",
            "Epoch 30/1000 - Training Loss: 0.13856, Validation Loss: 0.13697\n",
            "Epoch 31/1000 - Training Loss: 0.13776, Validation Loss: 0.10837\n",
            "Epoch 32/1000 - Training Loss: 0.13613, Validation Loss: 0.11114\n",
            "Epoch 33/1000 - Training Loss: 0.13334, Validation Loss: 0.10806\n",
            "Epoch 34/1000 - Training Loss: 0.13677, Validation Loss: 0.11078\n",
            "Epoch 35/1000 - Training Loss: 0.12917, Validation Loss: 0.10362\n",
            "Epoch 36/1000 - Training Loss: 0.12929, Validation Loss: 0.10339\n",
            "Epoch 37/1000 - Training Loss: 0.13495, Validation Loss: 0.10577\n",
            "Epoch 38/1000 - Training Loss: 0.13265, Validation Loss: 0.10476\n",
            "Epoch 39/1000 - Training Loss: 0.13240, Validation Loss: 0.11026\n",
            "Epoch 40/1000 - Training Loss: 0.12895, Validation Loss: 0.10431\n",
            "Epoch 41/1000 - Training Loss: 0.13052, Validation Loss: 0.11862\n",
            "Epoch 42/1000 - Training Loss: 0.12931, Validation Loss: 0.10615\n",
            "Epoch 43/1000 - Training Loss: 0.12901, Validation Loss: 0.10836\n",
            "Epoch 44/1000 - Training Loss: 0.12793, Validation Loss: 0.10768\n",
            "Epoch 45/1000 - Training Loss: 0.12726, Validation Loss: 0.10250\n",
            "Epoch 46/1000 - Training Loss: 0.13006, Validation Loss: 0.09977\n",
            "Epoch 47/1000 - Training Loss: 0.12564, Validation Loss: 0.09622\n",
            "Epoch 48/1000 - Training Loss: 0.12785, Validation Loss: 0.09793\n",
            "Epoch 49/1000 - Training Loss: 0.12521, Validation Loss: 0.10545\n",
            "Epoch 50/1000 - Training Loss: 0.12663, Validation Loss: 0.10141\n",
            "Epoch 51/1000 - Training Loss: 0.12536, Validation Loss: 0.10414\n",
            "Epoch 52/1000 - Training Loss: 0.12543, Validation Loss: 0.10002\n",
            "Epoch 53/1000 - Training Loss: 0.12245, Validation Loss: 0.10827\n",
            "Epoch 54/1000 - Training Loss: 0.12409, Validation Loss: 0.10914\n",
            "Epoch 55/1000 - Training Loss: 0.12715, Validation Loss: 0.10167\n",
            "Epoch 56/1000 - Training Loss: 0.12381, Validation Loss: 0.10418\n",
            "Epoch 57/1000 - Training Loss: 0.12542, Validation Loss: 0.09345\n",
            "Epoch 58/1000 - Training Loss: 0.12364, Validation Loss: 0.09523\n",
            "Epoch 59/1000 - Training Loss: 0.12619, Validation Loss: 0.11447\n",
            "Epoch 60/1000 - Training Loss: 0.12500, Validation Loss: 0.09584\n",
            "Epoch 61/1000 - Training Loss: 0.12029, Validation Loss: 0.09686\n",
            "Epoch 62/1000 - Training Loss: 0.12170, Validation Loss: 0.09789\n",
            "Epoch 63/1000 - Training Loss: 0.12286, Validation Loss: 0.09831\n",
            "Epoch 64/1000 - Training Loss: 0.12127, Validation Loss: 0.09830\n",
            "Epoch 65/1000 - Training Loss: 0.12068, Validation Loss: 0.10902\n",
            "Epoch 66/1000 - Training Loss: 0.12024, Validation Loss: 0.10482\n",
            "Epoch 67/1000 - Training Loss: 0.12143, Validation Loss: 0.09973\n",
            "Epoch 68/1000 - Training Loss: 0.12087, Validation Loss: 0.10767\n",
            "Epoch 69/1000 - Training Loss: 0.12001, Validation Loss: 0.09746\n",
            "Epoch 70/1000 - Training Loss: 0.11956, Validation Loss: 0.09654\n",
            "Epoch 71/1000 - Training Loss: 0.11975, Validation Loss: 0.09321\n",
            "Epoch 72/1000 - Training Loss: 0.11679, Validation Loss: 0.09868\n",
            "Epoch 73/1000 - Training Loss: 0.12315, Validation Loss: 0.10373\n",
            "Epoch 74/1000 - Training Loss: 0.12034, Validation Loss: 0.09534\n",
            "Epoch 75/1000 - Training Loss: 0.11622, Validation Loss: 0.09451\n",
            "Epoch 76/1000 - Training Loss: 0.11762, Validation Loss: 0.09531\n",
            "Epoch 77/1000 - Training Loss: 0.11526, Validation Loss: 0.10980\n",
            "Epoch 78/1000 - Training Loss: 0.11557, Validation Loss: 0.11456\n",
            "Epoch 79/1000 - Training Loss: 0.11855, Validation Loss: 0.10023\n",
            "Epoch 80/1000 - Training Loss: 0.11759, Validation Loss: 0.09082\n",
            "Epoch 81/1000 - Training Loss: 0.11963, Validation Loss: 0.09246\n",
            "Epoch 82/1000 - Training Loss: 0.12023, Validation Loss: 0.09312\n",
            "Epoch 83/1000 - Training Loss: 0.12034, Validation Loss: 0.10587\n",
            "Epoch 84/1000 - Training Loss: 0.11796, Validation Loss: 0.08978\n",
            "Epoch 85/1000 - Training Loss: 0.11780, Validation Loss: 0.10069\n",
            "Epoch 86/1000 - Training Loss: 0.11594, Validation Loss: 0.09391\n",
            "Epoch 87/1000 - Training Loss: 0.11675, Validation Loss: 0.09122\n",
            "Epoch 88/1000 - Training Loss: 0.11616, Validation Loss: 0.09281\n",
            "Epoch 89/1000 - Training Loss: 0.11437, Validation Loss: 0.09402\n",
            "Epoch 90/1000 - Training Loss: 0.11655, Validation Loss: 0.10107\n",
            "Epoch 91/1000 - Training Loss: 0.11840, Validation Loss: 0.09935\n",
            "Epoch 92/1000 - Training Loss: 0.11792, Validation Loss: 0.09419\n",
            "Epoch 93/1000 - Training Loss: 0.11659, Validation Loss: 0.09440\n",
            "Epoch 94/1000 - Training Loss: 0.11783, Validation Loss: 0.10213\n",
            "Epoch 95/1000 - Training Loss: 0.11429, Validation Loss: 0.09312\n",
            "Epoch 96/1000 - Training Loss: 0.11415, Validation Loss: 0.09575\n",
            "Epoch 97/1000 - Training Loss: 0.11746, Validation Loss: 0.12951\n",
            "Epoch 98/1000 - Training Loss: 0.11392, Validation Loss: 0.09023\n",
            "Epoch 99/1000 - Training Loss: 0.11328, Validation Loss: 0.08939\n",
            "Epoch 100/1000 - Training Loss: 0.11357, Validation Loss: 0.09552\n",
            "Epoch 101/1000 - Training Loss: 0.11453, Validation Loss: 0.08986\n",
            "Epoch 102/1000 - Training Loss: 0.10936, Validation Loss: 0.08878\n",
            "Epoch 103/1000 - Training Loss: 0.11047, Validation Loss: 0.08931\n",
            "Epoch 104/1000 - Training Loss: 0.11424, Validation Loss: 0.09522\n",
            "Epoch 105/1000 - Training Loss: 0.11249, Validation Loss: 0.09469\n",
            "Epoch 106/1000 - Training Loss: 0.11231, Validation Loss: 0.08775\n",
            "Epoch 107/1000 - Training Loss: 0.11044, Validation Loss: 0.09574\n",
            "Epoch 108/1000 - Training Loss: 0.11460, Validation Loss: 0.09416\n",
            "Epoch 109/1000 - Training Loss: 0.11133, Validation Loss: 0.08794\n",
            "Epoch 110/1000 - Training Loss: 0.11224, Validation Loss: 0.09812\n",
            "Epoch 111/1000 - Training Loss: 0.11151, Validation Loss: 0.09179\n",
            "Epoch 112/1000 - Training Loss: 0.11007, Validation Loss: 0.10077\n",
            "Epoch 113/1000 - Training Loss: 0.10953, Validation Loss: 0.09475\n",
            "Epoch 114/1000 - Training Loss: 0.11114, Validation Loss: 0.09056\n",
            "Epoch 115/1000 - Training Loss: 0.11026, Validation Loss: 0.10752\n",
            "Epoch 116/1000 - Training Loss: 0.11047, Validation Loss: 0.08779\n",
            "Epoch 117/1000 - Training Loss: 0.10827, Validation Loss: 0.09140\n",
            "Epoch 118/1000 - Training Loss: 0.10915, Validation Loss: 0.08774\n",
            "Epoch 119/1000 - Training Loss: 0.11002, Validation Loss: 0.08853\n",
            "Epoch 120/1000 - Training Loss: 0.11004, Validation Loss: 0.08635\n",
            "Epoch 121/1000 - Training Loss: 0.10827, Validation Loss: 0.08877\n",
            "Epoch 122/1000 - Training Loss: 0.11095, Validation Loss: 0.09016\n",
            "Epoch 123/1000 - Training Loss: 0.11098, Validation Loss: 0.10888\n",
            "Epoch 124/1000 - Training Loss: 0.11140, Validation Loss: 0.08686\n",
            "Epoch 125/1000 - Training Loss: 0.10841, Validation Loss: 0.08695\n",
            "Epoch 126/1000 - Training Loss: 0.10839, Validation Loss: 0.08785\n",
            "Epoch 127/1000 - Training Loss: 0.10951, Validation Loss: 0.08482\n",
            "Epoch 128/1000 - Training Loss: 0.10904, Validation Loss: 0.08925\n",
            "Epoch 129/1000 - Training Loss: 0.10796, Validation Loss: 0.08397\n",
            "Epoch 130/1000 - Training Loss: 0.10639, Validation Loss: 0.08545\n",
            "Epoch 131/1000 - Training Loss: 0.10783, Validation Loss: 0.09430\n",
            "Epoch 132/1000 - Training Loss: 0.10690, Validation Loss: 0.08927\n",
            "Epoch 133/1000 - Training Loss: 0.10630, Validation Loss: 0.09203\n",
            "Epoch 134/1000 - Training Loss: 0.10671, Validation Loss: 0.08666\n",
            "Epoch 135/1000 - Training Loss: 0.10782, Validation Loss: 0.08409\n",
            "Epoch 136/1000 - Training Loss: 0.10462, Validation Loss: 0.08889\n",
            "Epoch 137/1000 - Training Loss: 0.10933, Validation Loss: 0.09587\n",
            "Epoch 138/1000 - Training Loss: 0.10639, Validation Loss: 0.08883\n",
            "Epoch 139/1000 - Training Loss: 0.10475, Validation Loss: 0.09389\n",
            "Epoch 140/1000 - Training Loss: 0.10541, Validation Loss: 0.08642\n",
            "Epoch 141/1000 - Training Loss: 0.10496, Validation Loss: 0.08674\n",
            "Epoch 142/1000 - Training Loss: 0.10783, Validation Loss: 0.08545\n",
            "Epoch 143/1000 - Training Loss: 0.10599, Validation Loss: 0.08308\n",
            "Epoch 144/1000 - Training Loss: 0.10574, Validation Loss: 0.09089\n",
            "Epoch 145/1000 - Training Loss: 0.10734, Validation Loss: 0.08640\n",
            "Epoch 146/1000 - Training Loss: 0.10531, Validation Loss: 0.08659\n",
            "Epoch 147/1000 - Training Loss: 0.10547, Validation Loss: 0.08822\n",
            "Epoch 148/1000 - Training Loss: 0.10513, Validation Loss: 0.08987\n",
            "Epoch 149/1000 - Training Loss: 0.10781, Validation Loss: 0.09976\n",
            "Epoch 150/1000 - Training Loss: 0.10798, Validation Loss: 0.08814\n",
            "Epoch 151/1000 - Training Loss: 0.10562, Validation Loss: 0.08753\n",
            "Epoch 152/1000 - Training Loss: 0.10576, Validation Loss: 0.08561\n",
            "Epoch 153/1000 - Training Loss: 0.10417, Validation Loss: 0.08499\n",
            "Epoch 154/1000 - Training Loss: 0.10693, Validation Loss: 0.08687\n",
            "Epoch 155/1000 - Training Loss: 0.10665, Validation Loss: 0.08850\n",
            "Epoch 156/1000 - Training Loss: 0.10444, Validation Loss: 0.08862\n",
            "Epoch 157/1000 - Training Loss: 0.10368, Validation Loss: 0.08520\n",
            "Epoch 158/1000 - Training Loss: 0.10431, Validation Loss: 0.08631\n",
            "Epoch 159/1000 - Training Loss: 0.10447, Validation Loss: 0.08781\n",
            "Epoch 160/1000 - Training Loss: 0.10379, Validation Loss: 0.08755\n",
            "Epoch 161/1000 - Training Loss: 0.10173, Validation Loss: 0.08373\n",
            "Epoch 162/1000 - Training Loss: 0.10443, Validation Loss: 0.08763\n",
            "Epoch 163/1000 - Training Loss: 0.10431, Validation Loss: 0.08489\n",
            "Epoch 164/1000 - Training Loss: 0.10457, Validation Loss: 0.09263\n",
            "Epoch 165/1000 - Training Loss: 0.10525, Validation Loss: 0.09062\n",
            "Epoch 166/1000 - Training Loss: 0.10197, Validation Loss: 0.08919\n",
            "Epoch 167/1000 - Training Loss: 0.10348, Validation Loss: 0.09781\n",
            "Epoch 168/1000 - Training Loss: 0.10191, Validation Loss: 0.08751\n",
            "Epoch 169/1000 - Training Loss: 0.10079, Validation Loss: 0.08776\n",
            "Epoch 170/1000 - Training Loss: 0.10300, Validation Loss: 0.08473\n",
            "Epoch 171/1000 - Training Loss: 0.10255, Validation Loss: 0.08835\n",
            "Epoch 172/1000 - Training Loss: 0.10188, Validation Loss: 0.08780\n",
            "Epoch 173/1000 - Training Loss: 0.10203, Validation Loss: 0.08625\n",
            "Epoch 174/1000 - Training Loss: 0.10105, Validation Loss: 0.08456\n",
            "Epoch 175/1000 - Training Loss: 0.10273, Validation Loss: 0.10279\n",
            "Epoch 176/1000 - Training Loss: 0.10274, Validation Loss: 0.09185\n",
            "Epoch 177/1000 - Training Loss: 0.10258, Validation Loss: 0.11650\n",
            "Epoch 178/1000 - Training Loss: 0.10201, Validation Loss: 0.08537\n",
            "Epoch 179/1000 - Training Loss: 0.10107, Validation Loss: 0.08573\n",
            "Epoch 180/1000 - Training Loss: 0.10369, Validation Loss: 0.09346\n",
            "Epoch 181/1000 - Training Loss: 0.10292, Validation Loss: 0.08506\n",
            "Epoch 182/1000 - Training Loss: 0.10000, Validation Loss: 0.09435\n",
            "Epoch 183/1000 - Training Loss: 0.10016, Validation Loss: 0.08393\n",
            "Epoch 184/1000 - Training Loss: 0.10149, Validation Loss: 0.08578\n",
            "Epoch 185/1000 - Training Loss: 0.10068, Validation Loss: 0.08557\n",
            "Epoch 186/1000 - Training Loss: 0.10129, Validation Loss: 0.09161\n",
            "Epoch 187/1000 - Training Loss: 0.10166, Validation Loss: 0.08927\n",
            "Epoch 188/1000 - Training Loss: 0.10295, Validation Loss: 0.08508\n",
            "Epoch 189/1000 - Training Loss: 0.10119, Validation Loss: 0.08435\n",
            "Epoch 190/1000 - Training Loss: 0.10274, Validation Loss: 0.09139\n",
            "Epoch 191/1000 - Training Loss: 0.10151, Validation Loss: 0.08600\n",
            "Epoch 192/1000 - Training Loss: 0.10231, Validation Loss: 0.08605\n",
            "Epoch 193/1000 - Training Loss: 0.10004, Validation Loss: 0.08722\n",
            "Epoch 194/1000 - Training Loss: 0.10061, Validation Loss: 0.08850\n",
            "Epoch 195/1000 - Training Loss: 0.09801, Validation Loss: 0.08657\n",
            "Epoch 196/1000 - Training Loss: 0.09987, Validation Loss: 0.09864\n",
            "Epoch 197/1000 - Training Loss: 0.10081, Validation Loss: 0.08683\n",
            "Epoch 198/1000 - Training Loss: 0.09987, Validation Loss: 0.08609\n",
            "Epoch 199/1000 - Training Loss: 0.09828, Validation Loss: 0.08597\n",
            "Epoch 200/1000 - Training Loss: 0.09921, Validation Loss: 0.08290\n",
            "Epoch 201/1000 - Training Loss: 0.09932, Validation Loss: 0.08593\n",
            "Epoch 202/1000 - Training Loss: 0.09983, Validation Loss: 0.08859\n",
            "Epoch 203/1000 - Training Loss: 0.09826, Validation Loss: 0.08730\n",
            "Epoch 204/1000 - Training Loss: 0.09948, Validation Loss: 0.08542\n",
            "Epoch 205/1000 - Training Loss: 0.09808, Validation Loss: 0.09222\n",
            "Epoch 206/1000 - Training Loss: 0.10069, Validation Loss: 0.09197\n",
            "Epoch 207/1000 - Training Loss: 0.09788, Validation Loss: 0.08509\n",
            "Epoch 208/1000 - Training Loss: 0.09734, Validation Loss: 0.08402\n",
            "Epoch 209/1000 - Training Loss: 0.09949, Validation Loss: 0.08575\n",
            "Epoch 210/1000 - Training Loss: 0.10143, Validation Loss: 0.08695\n",
            "Epoch 211/1000 - Training Loss: 0.09810, Validation Loss: 0.08683\n",
            "Epoch 212/1000 - Training Loss: 0.09982, Validation Loss: 0.08670\n",
            "Epoch 213/1000 - Training Loss: 0.10047, Validation Loss: 0.09070\n",
            "Epoch 214/1000 - Training Loss: 0.09935, Validation Loss: 0.08962\n",
            "Epoch 215/1000 - Training Loss: 0.09733, Validation Loss: 0.08467\n",
            "Epoch 216/1000 - Training Loss: 0.10028, Validation Loss: 0.09197\n",
            "Epoch 217/1000 - Training Loss: 0.09750, Validation Loss: 0.08699\n",
            "Epoch 218/1000 - Training Loss: 0.09723, Validation Loss: 0.08505\n",
            "Epoch 219/1000 - Training Loss: 0.09845, Validation Loss: 0.08863\n",
            "Epoch 220/1000 - Training Loss: 0.10044, Validation Loss: 0.08958\n",
            "Epoch 221/1000 - Training Loss: 0.09991, Validation Loss: 0.08468\n",
            "Epoch 222/1000 - Training Loss: 0.09779, Validation Loss: 0.08631\n",
            "Epoch 223/1000 - Training Loss: 0.09704, Validation Loss: 0.08527\n",
            "Epoch 224/1000 - Training Loss: 0.09700, Validation Loss: 0.08789\n",
            "Epoch 225/1000 - Training Loss: 0.10107, Validation Loss: 0.08513\n",
            "Epoch 226/1000 - Training Loss: 0.09718, Validation Loss: 0.08525\n",
            "Epoch 227/1000 - Training Loss: 0.09852, Validation Loss: 0.08824\n",
            "Epoch 228/1000 - Training Loss: 0.09623, Validation Loss: 0.09359\n",
            "Epoch 229/1000 - Training Loss: 0.09905, Validation Loss: 0.08450\n",
            "Epoch 230/1000 - Training Loss: 0.09672, Validation Loss: 0.08825\n",
            "Epoch 231/1000 - Training Loss: 0.09974, Validation Loss: 0.09444\n",
            "Epoch 232/1000 - Training Loss: 0.09658, Validation Loss: 0.08567\n",
            "Epoch 233/1000 - Training Loss: 0.09696, Validation Loss: 0.08971\n",
            "Epoch 234/1000 - Training Loss: 0.10006, Validation Loss: 0.10221\n",
            "Epoch 235/1000 - Training Loss: 0.09645, Validation Loss: 0.08513\n",
            "Epoch 236/1000 - Training Loss: 0.09660, Validation Loss: 0.09615\n",
            "Epoch 237/1000 - Training Loss: 0.09656, Validation Loss: 0.08638\n",
            "Epoch 238/1000 - Training Loss: 0.09688, Validation Loss: 0.08515\n",
            "Epoch 239/1000 - Training Loss: 0.09651, Validation Loss: 0.08470\n",
            "Epoch 240/1000 - Training Loss: 0.09740, Validation Loss: 0.08925\n",
            "Epoch 241/1000 - Training Loss: 0.09705, Validation Loss: 0.08539\n",
            "Epoch 242/1000 - Training Loss: 0.09830, Validation Loss: 0.08284\n",
            "Epoch 243/1000 - Training Loss: 0.09645, Validation Loss: 0.08474\n",
            "Epoch 244/1000 - Training Loss: 0.09460, Validation Loss: 0.08558\n",
            "Epoch 245/1000 - Training Loss: 0.09642, Validation Loss: 0.08501\n",
            "Epoch 246/1000 - Training Loss: 0.09590, Validation Loss: 0.08665\n",
            "Epoch 247/1000 - Training Loss: 0.09601, Validation Loss: 0.08618\n",
            "Epoch 248/1000 - Training Loss: 0.09770, Validation Loss: 0.08677\n",
            "Epoch 249/1000 - Training Loss: 0.09696, Validation Loss: 0.08471\n",
            "Epoch 250/1000 - Training Loss: 0.09659, Validation Loss: 0.08580\n",
            "Epoch 251/1000 - Training Loss: 0.09515, Validation Loss: 0.08522\n",
            "Epoch 252/1000 - Training Loss: 0.09492, Validation Loss: 0.08727\n",
            "Epoch 253/1000 - Training Loss: 0.09534, Validation Loss: 0.08864\n",
            "Epoch 254/1000 - Training Loss: 0.09388, Validation Loss: 0.08640\n",
            "Epoch 255/1000 - Training Loss: 0.09783, Validation Loss: 0.10033\n",
            "Epoch 256/1000 - Training Loss: 0.09476, Validation Loss: 0.08733\n",
            "Epoch 257/1000 - Training Loss: 0.09510, Validation Loss: 0.08626\n",
            "Epoch 258/1000 - Training Loss: 0.09442, Validation Loss: 0.08962\n",
            "Epoch 259/1000 - Training Loss: 0.09622, Validation Loss: 0.08328\n",
            "Epoch 260/1000 - Training Loss: 0.09425, Validation Loss: 0.08294\n",
            "Epoch 261/1000 - Training Loss: 0.09513, Validation Loss: 0.08829\n",
            "Epoch 262/1000 - Training Loss: 0.09886, Validation Loss: 0.09211\n",
            "Epoch 263/1000 - Training Loss: 0.09599, Validation Loss: 0.08886\n",
            "Epoch 264/1000 - Training Loss: 0.09646, Validation Loss: 0.08702\n",
            "Epoch 265/1000 - Training Loss: 0.09228, Validation Loss: 0.08443\n",
            "Epoch 266/1000 - Training Loss: 0.09348, Validation Loss: 0.08853\n",
            "Epoch 267/1000 - Training Loss: 0.09691, Validation Loss: 0.10718\n",
            "Epoch 268/1000 - Training Loss: 0.09601, Validation Loss: 0.08886\n",
            "Epoch 269/1000 - Training Loss: 0.09633, Validation Loss: 0.08333\n",
            "Epoch 270/1000 - Training Loss: 0.09510, Validation Loss: 0.08723\n",
            "Epoch 271/1000 - Training Loss: 0.09408, Validation Loss: 0.09359\n",
            "Epoch 272/1000 - Training Loss: 0.09539, Validation Loss: 0.08975\n",
            "Epoch 273/1000 - Training Loss: 0.09376, Validation Loss: 0.08646\n",
            "Epoch 274/1000 - Training Loss: 0.09905, Validation Loss: 0.09131\n",
            "Epoch 275/1000 - Training Loss: 0.09402, Validation Loss: 0.08592\n",
            "Epoch 276/1000 - Training Loss: 0.09526, Validation Loss: 0.09075\n",
            "Epoch 277/1000 - Training Loss: 0.09426, Validation Loss: 0.09182\n",
            "Epoch 278/1000 - Training Loss: 0.09296, Validation Loss: 0.08406\n",
            "Epoch 279/1000 - Training Loss: 0.09429, Validation Loss: 0.08312\n",
            "Epoch 280/1000 - Training Loss: 0.09341, Validation Loss: 0.08333\n",
            "Epoch 281/1000 - Training Loss: 0.09406, Validation Loss: 0.08431\n",
            "Epoch 282/1000 - Training Loss: 0.09142, Validation Loss: 0.09171\n",
            "Epoch 283/1000 - Training Loss: 0.09549, Validation Loss: 0.08564\n",
            "Epoch 284/1000 - Training Loss: 0.09364, Validation Loss: 0.08649\n",
            "Epoch 285/1000 - Training Loss: 0.09447, Validation Loss: 0.09098\n",
            "Epoch 286/1000 - Training Loss: 0.09262, Validation Loss: 0.09004\n",
            "Epoch 287/1000 - Training Loss: 0.09229, Validation Loss: 0.09136\n",
            "Epoch 288/1000 - Training Loss: 0.09463, Validation Loss: 0.09631\n",
            "Epoch 289/1000 - Training Loss: 0.09351, Validation Loss: 0.11404\n",
            "Epoch 290/1000 - Training Loss: 0.09212, Validation Loss: 0.08400\n",
            "Epoch 291/1000 - Training Loss: 0.09473, Validation Loss: 0.08241\n",
            "Epoch 292/1000 - Training Loss: 0.09612, Validation Loss: 0.08351\n",
            "Epoch 293/1000 - Training Loss: 0.09461, Validation Loss: 0.09425\n",
            "Epoch 294/1000 - Training Loss: 0.09118, Validation Loss: 0.09277\n",
            "Epoch 295/1000 - Training Loss: 0.09187, Validation Loss: 0.08864\n",
            "Epoch 296/1000 - Training Loss: 0.09306, Validation Loss: 0.08906\n",
            "Epoch 297/1000 - Training Loss: 0.09264, Validation Loss: 0.08543\n",
            "Epoch 298/1000 - Training Loss: 0.09224, Validation Loss: 0.11267\n",
            "Epoch 299/1000 - Training Loss: 0.09512, Validation Loss: 0.09445\n",
            "Epoch 300/1000 - Training Loss: 0.09365, Validation Loss: 0.08889\n",
            "Epoch 301/1000 - Training Loss: 0.09383, Validation Loss: 0.08494\n",
            "Epoch 302/1000 - Training Loss: 0.09426, Validation Loss: 0.08407\n",
            "Epoch 303/1000 - Training Loss: 0.09111, Validation Loss: 0.08350\n",
            "Epoch 304/1000 - Training Loss: 0.09280, Validation Loss: 0.08434\n",
            "Epoch 305/1000 - Training Loss: 0.09555, Validation Loss: 0.09496\n",
            "Epoch 306/1000 - Training Loss: 0.09204, Validation Loss: 0.09269\n",
            "Epoch 307/1000 - Training Loss: 0.09375, Validation Loss: 0.08768\n",
            "Epoch 308/1000 - Training Loss: 0.09282, Validation Loss: 0.08353\n",
            "Epoch 309/1000 - Training Loss: 0.09223, Validation Loss: 0.08691\n",
            "Epoch 310/1000 - Training Loss: 0.09345, Validation Loss: 0.08868\n",
            "Epoch 311/1000 - Training Loss: 0.09318, Validation Loss: 0.08444\n",
            "Epoch 312/1000 - Training Loss: 0.09289, Validation Loss: 0.09023\n",
            "Epoch 313/1000 - Training Loss: 0.09066, Validation Loss: 0.09473\n",
            "Epoch 314/1000 - Training Loss: 0.09450, Validation Loss: 0.08401\n",
            "Epoch 315/1000 - Training Loss: 0.09501, Validation Loss: 0.08756\n",
            "Epoch 316/1000 - Training Loss: 0.09250, Validation Loss: 0.08839\n",
            "Epoch 317/1000 - Training Loss: 0.09454, Validation Loss: 0.08651\n",
            "Epoch 318/1000 - Training Loss: 0.09318, Validation Loss: 0.10639\n",
            "Epoch 319/1000 - Training Loss: 0.09179, Validation Loss: 0.08746\n",
            "Epoch 320/1000 - Training Loss: 0.09233, Validation Loss: 0.09259\n",
            "Epoch 321/1000 - Training Loss: 0.09161, Validation Loss: 0.09201\n",
            "Epoch 322/1000 - Training Loss: 0.09139, Validation Loss: 0.08462\n",
            "Epoch 323/1000 - Training Loss: 0.08980, Validation Loss: 0.08518\n",
            "Epoch 324/1000 - Training Loss: 0.09256, Validation Loss: 0.08566\n",
            "Epoch 325/1000 - Training Loss: 0.09143, Validation Loss: 0.08551\n",
            "Epoch 326/1000 - Training Loss: 0.09146, Validation Loss: 0.09097\n",
            "Epoch 327/1000 - Training Loss: 0.09353, Validation Loss: 0.09206\n",
            "Epoch 328/1000 - Training Loss: 0.09288, Validation Loss: 0.08487\n",
            "Epoch 329/1000 - Training Loss: 0.09220, Validation Loss: 0.08627\n",
            "Epoch 330/1000 - Training Loss: 0.09271, Validation Loss: 0.08944\n",
            "Epoch 331/1000 - Training Loss: 0.08912, Validation Loss: 0.08562\n",
            "Epoch 332/1000 - Training Loss: 0.09134, Validation Loss: 0.08447\n",
            "Epoch 333/1000 - Training Loss: 0.09184, Validation Loss: 0.08457\n",
            "Epoch 334/1000 - Training Loss: 0.09207, Validation Loss: 0.08400\n",
            "Epoch 335/1000 - Training Loss: 0.09229, Validation Loss: 0.08680\n",
            "Epoch 336/1000 - Training Loss: 0.09093, Validation Loss: 0.09020\n",
            "Epoch 337/1000 - Training Loss: 0.08954, Validation Loss: 0.09125\n",
            "Epoch 338/1000 - Training Loss: 0.09215, Validation Loss: 0.08827\n",
            "Epoch 339/1000 - Training Loss: 0.09280, Validation Loss: 0.09119\n",
            "Epoch 340/1000 - Training Loss: 0.09032, Validation Loss: 0.08356\n",
            "Epoch 341/1000 - Training Loss: 0.09013, Validation Loss: 0.08790\n",
            "Epoch 342/1000 - Training Loss: 0.09238, Validation Loss: 0.08526\n",
            "Epoch 343/1000 - Training Loss: 0.08951, Validation Loss: 0.09091\n",
            "Epoch 344/1000 - Training Loss: 0.09221, Validation Loss: 0.10805\n",
            "Epoch 345/1000 - Training Loss: 0.09050, Validation Loss: 0.09216\n",
            "Epoch 346/1000 - Training Loss: 0.09234, Validation Loss: 0.08397\n",
            "Epoch 347/1000 - Training Loss: 0.09260, Validation Loss: 0.08538\n",
            "Epoch 348/1000 - Training Loss: 0.09032, Validation Loss: 0.08396\n",
            "Epoch 349/1000 - Training Loss: 0.08924, Validation Loss: 0.08399\n",
            "Epoch 350/1000 - Training Loss: 0.09098, Validation Loss: 0.08597\n",
            "Epoch 351/1000 - Training Loss: 0.08959, Validation Loss: 0.09027\n",
            "Epoch 352/1000 - Training Loss: 0.09007, Validation Loss: 0.08493\n",
            "Epoch 353/1000 - Training Loss: 0.09023, Validation Loss: 0.08633\n",
            "Epoch 354/1000 - Training Loss: 0.09268, Validation Loss: 0.08689\n",
            "Epoch 355/1000 - Training Loss: 0.08934, Validation Loss: 0.09068\n",
            "Epoch 356/1000 - Training Loss: 0.08985, Validation Loss: 0.08253\n",
            "Epoch 357/1000 - Training Loss: 0.09277, Validation Loss: 0.08510\n",
            "Epoch 358/1000 - Training Loss: 0.09276, Validation Loss: 0.08429\n",
            "Epoch 359/1000 - Training Loss: 0.08956, Validation Loss: 0.08887\n",
            "Epoch 360/1000 - Training Loss: 0.08945, Validation Loss: 0.08416\n",
            "Epoch 361/1000 - Training Loss: 0.08883, Validation Loss: 0.08685\n",
            "Epoch 362/1000 - Training Loss: 0.09004, Validation Loss: 0.08441\n",
            "Epoch 363/1000 - Training Loss: 0.08968, Validation Loss: 0.08212\n",
            "Epoch 364/1000 - Training Loss: 0.08925, Validation Loss: 0.08449\n",
            "Epoch 365/1000 - Training Loss: 0.08962, Validation Loss: 0.08654\n",
            "Epoch 366/1000 - Training Loss: 0.08940, Validation Loss: 0.08390\n",
            "Epoch 367/1000 - Training Loss: 0.08961, Validation Loss: 0.08669\n",
            "Epoch 368/1000 - Training Loss: 0.08846, Validation Loss: 0.08553\n",
            "Epoch 369/1000 - Training Loss: 0.08897, Validation Loss: 0.08362\n",
            "Epoch 370/1000 - Training Loss: 0.09036, Validation Loss: 0.09414\n",
            "Epoch 371/1000 - Training Loss: 0.08951, Validation Loss: 0.09080\n",
            "Epoch 372/1000 - Training Loss: 0.08898, Validation Loss: 0.08395\n",
            "Epoch 373/1000 - Training Loss: 0.08721, Validation Loss: 0.08310\n",
            "Epoch 374/1000 - Training Loss: 0.08960, Validation Loss: 0.08510\n",
            "Epoch 375/1000 - Training Loss: 0.08939, Validation Loss: 0.08794\n",
            "Epoch 376/1000 - Training Loss: 0.08736, Validation Loss: 0.08417\n",
            "Epoch 377/1000 - Training Loss: 0.08842, Validation Loss: 0.08520\n",
            "Epoch 378/1000 - Training Loss: 0.08870, Validation Loss: 0.08508\n",
            "Epoch 379/1000 - Training Loss: 0.08910, Validation Loss: 0.08894\n",
            "Epoch 380/1000 - Training Loss: 0.08880, Validation Loss: 0.08775\n",
            "Epoch 381/1000 - Training Loss: 0.08823, Validation Loss: 0.08574\n",
            "Epoch 382/1000 - Training Loss: 0.09008, Validation Loss: 0.08837\n",
            "Epoch 383/1000 - Training Loss: 0.08742, Validation Loss: 0.08609\n",
            "Epoch 384/1000 - Training Loss: 0.09033, Validation Loss: 0.08411\n",
            "Epoch 385/1000 - Training Loss: 0.08978, Validation Loss: 0.09038\n",
            "Epoch 386/1000 - Training Loss: 0.09015, Validation Loss: 0.09779\n",
            "Epoch 387/1000 - Training Loss: 0.08880, Validation Loss: 0.08974\n",
            "Epoch 388/1000 - Training Loss: 0.08970, Validation Loss: 0.08524\n",
            "Epoch 389/1000 - Training Loss: 0.08827, Validation Loss: 0.08501\n",
            "Epoch 390/1000 - Training Loss: 0.09024, Validation Loss: 0.08638\n",
            "Epoch 391/1000 - Training Loss: 0.08769, Validation Loss: 0.08658\n",
            "Epoch 392/1000 - Training Loss: 0.08839, Validation Loss: 0.08605\n",
            "Epoch 393/1000 - Training Loss: 0.08588, Validation Loss: 0.08429\n",
            "Epoch 394/1000 - Training Loss: 0.08901, Validation Loss: 0.08390\n",
            "Epoch 395/1000 - Training Loss: 0.08763, Validation Loss: 0.08984\n",
            "Epoch 396/1000 - Training Loss: 0.08846, Validation Loss: 0.08343\n",
            "Epoch 397/1000 - Training Loss: 0.08969, Validation Loss: 0.08213\n",
            "Epoch 398/1000 - Training Loss: 0.08981, Validation Loss: 0.09037\n",
            "Epoch 399/1000 - Training Loss: 0.08760, Validation Loss: 0.08087\n",
            "Epoch 400/1000 - Training Loss: 0.08607, Validation Loss: 0.09001\n",
            "Epoch 401/1000 - Training Loss: 0.08729, Validation Loss: 0.08348\n",
            "Epoch 402/1000 - Training Loss: 0.08796, Validation Loss: 0.08845\n",
            "Epoch 403/1000 - Training Loss: 0.08884, Validation Loss: 0.09240\n",
            "Epoch 404/1000 - Training Loss: 0.08668, Validation Loss: 0.08908\n",
            "Epoch 405/1000 - Training Loss: 0.08783, Validation Loss: 0.08428\n",
            "Epoch 406/1000 - Training Loss: 0.08708, Validation Loss: 0.08580\n",
            "Epoch 407/1000 - Training Loss: 0.08740, Validation Loss: 0.08504\n",
            "Epoch 408/1000 - Training Loss: 0.08730, Validation Loss: 0.08389\n",
            "Epoch 409/1000 - Training Loss: 0.08876, Validation Loss: 0.08386\n",
            "Epoch 410/1000 - Training Loss: 0.08664, Validation Loss: 0.08655\n",
            "Epoch 411/1000 - Training Loss: 0.08621, Validation Loss: 0.09071\n",
            "Epoch 412/1000 - Training Loss: 0.08678, Validation Loss: 0.08257\n",
            "Epoch 413/1000 - Training Loss: 0.08749, Validation Loss: 0.08214\n",
            "Epoch 414/1000 - Training Loss: 0.08535, Validation Loss: 0.08674\n",
            "Epoch 415/1000 - Training Loss: 0.08646, Validation Loss: 0.08954\n",
            "Epoch 416/1000 - Training Loss: 0.08564, Validation Loss: 0.08274\n",
            "Epoch 417/1000 - Training Loss: 0.08639, Validation Loss: 0.08147\n",
            "Epoch 418/1000 - Training Loss: 0.08727, Validation Loss: 0.08499\n",
            "Epoch 419/1000 - Training Loss: 0.08578, Validation Loss: 0.08433\n",
            "Epoch 420/1000 - Training Loss: 0.08787, Validation Loss: 0.08221\n",
            "Epoch 421/1000 - Training Loss: 0.08422, Validation Loss: 0.08527\n",
            "Epoch 422/1000 - Training Loss: 0.08874, Validation Loss: 0.08568\n",
            "Epoch 423/1000 - Training Loss: 0.08752, Validation Loss: 0.08461\n",
            "Epoch 424/1000 - Training Loss: 0.08579, Validation Loss: 0.08465\n",
            "Epoch 425/1000 - Training Loss: 0.08655, Validation Loss: 0.08975\n",
            "Epoch 426/1000 - Training Loss: 0.08587, Validation Loss: 0.08304\n",
            "Epoch 427/1000 - Training Loss: 0.08876, Validation Loss: 0.08689\n",
            "Epoch 428/1000 - Training Loss: 0.08820, Validation Loss: 0.09183\n",
            "Epoch 429/1000 - Training Loss: 0.08738, Validation Loss: 0.08407\n",
            "Epoch 430/1000 - Training Loss: 0.08545, Validation Loss: 0.08505\n",
            "Epoch 431/1000 - Training Loss: 0.08545, Validation Loss: 0.08506\n",
            "Epoch 432/1000 - Training Loss: 0.08560, Validation Loss: 0.08360\n",
            "Epoch 433/1000 - Training Loss: 0.08563, Validation Loss: 0.08408\n",
            "Epoch 434/1000 - Training Loss: 0.08551, Validation Loss: 0.08601\n",
            "Epoch 435/1000 - Training Loss: 0.08460, Validation Loss: 0.08198\n",
            "Epoch 436/1000 - Training Loss: 0.08543, Validation Loss: 0.08673\n",
            "Epoch 437/1000 - Training Loss: 0.08582, Validation Loss: 0.08261\n",
            "Epoch 438/1000 - Training Loss: 0.08801, Validation Loss: 0.08680\n",
            "Epoch 439/1000 - Training Loss: 0.08484, Validation Loss: 0.08659\n",
            "Epoch 440/1000 - Training Loss: 0.08606, Validation Loss: 0.08556\n",
            "Epoch 441/1000 - Training Loss: 0.08418, Validation Loss: 0.08373\n",
            "Epoch 442/1000 - Training Loss: 0.08631, Validation Loss: 0.08465\n",
            "Epoch 443/1000 - Training Loss: 0.08682, Validation Loss: 0.08466\n",
            "Epoch 444/1000 - Training Loss: 0.08494, Validation Loss: 0.08548\n",
            "Epoch 445/1000 - Training Loss: 0.08607, Validation Loss: 0.08202\n",
            "Epoch 446/1000 - Training Loss: 0.08404, Validation Loss: 0.08370\n",
            "Epoch 447/1000 - Training Loss: 0.08645, Validation Loss: 0.08266\n",
            "Epoch 448/1000 - Training Loss: 0.08529, Validation Loss: 0.08792\n",
            "Epoch 449/1000 - Training Loss: 0.08723, Validation Loss: 0.08351\n",
            "Epoch 450/1000 - Training Loss: 0.08573, Validation Loss: 0.08384\n",
            "Epoch 451/1000 - Training Loss: 0.08299, Validation Loss: 0.08306\n",
            "Epoch 452/1000 - Training Loss: 0.08711, Validation Loss: 0.09161\n",
            "Epoch 453/1000 - Training Loss: 0.08666, Validation Loss: 0.08412\n",
            "Epoch 454/1000 - Training Loss: 0.08464, Validation Loss: 0.09109\n",
            "Epoch 455/1000 - Training Loss: 0.08725, Validation Loss: 0.08541\n",
            "Epoch 456/1000 - Training Loss: 0.08383, Validation Loss: 0.08455\n",
            "Epoch 457/1000 - Training Loss: 0.08565, Validation Loss: 0.08906\n",
            "Epoch 458/1000 - Training Loss: 0.08355, Validation Loss: 0.08540\n",
            "Epoch 459/1000 - Training Loss: 0.08541, Validation Loss: 0.08298\n",
            "Epoch 460/1000 - Training Loss: 0.08650, Validation Loss: 0.09585\n",
            "Epoch 461/1000 - Training Loss: 0.08521, Validation Loss: 0.08182\n",
            "Epoch 462/1000 - Training Loss: 0.08582, Validation Loss: 0.08420\n",
            "Epoch 463/1000 - Training Loss: 0.08480, Validation Loss: 0.08206\n",
            "Epoch 464/1000 - Training Loss: 0.08508, Validation Loss: 0.08454\n",
            "Epoch 465/1000 - Training Loss: 0.08547, Validation Loss: 0.08329\n",
            "Epoch 466/1000 - Training Loss: 0.08639, Validation Loss: 0.08309\n",
            "Epoch 467/1000 - Training Loss: 0.08498, Validation Loss: 0.11358\n",
            "Epoch 468/1000 - Training Loss: 0.08452, Validation Loss: 0.08394\n",
            "Epoch 469/1000 - Training Loss: 0.08521, Validation Loss: 0.08210\n",
            "Epoch 470/1000 - Training Loss: 0.08419, Validation Loss: 0.08424\n",
            "Epoch 471/1000 - Training Loss: 0.08395, Validation Loss: 0.08199\n",
            "Epoch 472/1000 - Training Loss: 0.08440, Validation Loss: 0.08392\n",
            "Epoch 473/1000 - Training Loss: 0.08275, Validation Loss: 0.08634\n",
            "Epoch 474/1000 - Training Loss: 0.08369, Validation Loss: 0.08386\n",
            "Epoch 475/1000 - Training Loss: 0.08337, Validation Loss: 0.08792\n",
            "Epoch 00475: reducing learning rate of group 0 to 1.1000e-05.\n",
            "Epoch 476/1000 - Training Loss: 0.08142, Validation Loss: 0.08267\n",
            "Epoch 477/1000 - Training Loss: 0.08160, Validation Loss: 0.08335\n",
            "Epoch 478/1000 - Training Loss: 0.08018, Validation Loss: 0.08253\n",
            "Epoch 479/1000 - Training Loss: 0.08126, Validation Loss: 0.08235\n",
            "Epoch 480/1000 - Training Loss: 0.08133, Validation Loss: 0.08240\n",
            "Epoch 481/1000 - Training Loss: 0.08105, Validation Loss: 0.08212\n",
            "Epoch 482/1000 - Training Loss: 0.08045, Validation Loss: 0.08184\n",
            "Epoch 483/1000 - Training Loss: 0.08106, Validation Loss: 0.08239\n",
            "Epoch 484/1000 - Training Loss: 0.08167, Validation Loss: 0.08183\n",
            "Epoch 485/1000 - Training Loss: 0.08164, Validation Loss: 0.08189\n",
            "Epoch 486/1000 - Training Loss: 0.08115, Validation Loss: 0.08190\n",
            "Epoch 487/1000 - Training Loss: 0.07924, Validation Loss: 0.08139\n",
            "Epoch 488/1000 - Training Loss: 0.07904, Validation Loss: 0.08076\n",
            "Epoch 489/1000 - Training Loss: 0.07991, Validation Loss: 0.08121\n",
            "Epoch 490/1000 - Training Loss: 0.08156, Validation Loss: 0.08116\n",
            "Epoch 491/1000 - Training Loss: 0.08040, Validation Loss: 0.08141\n",
            "Epoch 492/1000 - Training Loss: 0.08058, Validation Loss: 0.08106\n",
            "Epoch 493/1000 - Training Loss: 0.07922, Validation Loss: 0.08091\n",
            "Epoch 494/1000 - Training Loss: 0.07976, Validation Loss: 0.08077\n",
            "Epoch 495/1000 - Training Loss: 0.08060, Validation Loss: 0.08086\n",
            "Epoch 496/1000 - Training Loss: 0.07893, Validation Loss: 0.07992\n",
            "Epoch 497/1000 - Training Loss: 0.07993, Validation Loss: 0.08031\n",
            "Epoch 498/1000 - Training Loss: 0.07933, Validation Loss: 0.07997\n",
            "Epoch 499/1000 - Training Loss: 0.08043, Validation Loss: 0.08013\n",
            "Epoch 500/1000 - Training Loss: 0.07912, Validation Loss: 0.07989\n",
            "Epoch 501/1000 - Training Loss: 0.07978, Validation Loss: 0.08083\n",
            "Epoch 502/1000 - Training Loss: 0.07866, Validation Loss: 0.08142\n",
            "Epoch 503/1000 - Training Loss: 0.07919, Validation Loss: 0.08058\n",
            "Epoch 504/1000 - Training Loss: 0.07977, Validation Loss: 0.08073\n",
            "Epoch 505/1000 - Training Loss: 0.07981, Validation Loss: 0.08042\n",
            "Epoch 506/1000 - Training Loss: 0.07857, Validation Loss: 0.07991\n",
            "Epoch 507/1000 - Training Loss: 0.07755, Validation Loss: 0.07969\n",
            "Epoch 508/1000 - Training Loss: 0.07932, Validation Loss: 0.08020\n",
            "Epoch 509/1000 - Training Loss: 0.07930, Validation Loss: 0.07973\n",
            "Epoch 510/1000 - Training Loss: 0.07868, Validation Loss: 0.07961\n",
            "Epoch 511/1000 - Training Loss: 0.07940, Validation Loss: 0.08003\n",
            "Epoch 512/1000 - Training Loss: 0.07734, Validation Loss: 0.07969\n",
            "Epoch 513/1000 - Training Loss: 0.07808, Validation Loss: 0.08008\n",
            "Epoch 514/1000 - Training Loss: 0.07930, Validation Loss: 0.07951\n",
            "Epoch 515/1000 - Training Loss: 0.07894, Validation Loss: 0.08017\n",
            "Epoch 516/1000 - Training Loss: 0.08041, Validation Loss: 0.07958\n",
            "Epoch 517/1000 - Training Loss: 0.07966, Validation Loss: 0.07970\n",
            "Epoch 518/1000 - Training Loss: 0.07785, Validation Loss: 0.07882\n",
            "Epoch 519/1000 - Training Loss: 0.07990, Validation Loss: 0.08103\n",
            "Epoch 520/1000 - Training Loss: 0.07930, Validation Loss: 0.07981\n",
            "Epoch 521/1000 - Training Loss: 0.07906, Validation Loss: 0.07995\n",
            "Epoch 522/1000 - Training Loss: 0.07882, Validation Loss: 0.07974\n",
            "Epoch 523/1000 - Training Loss: 0.07758, Validation Loss: 0.08032\n",
            "Epoch 524/1000 - Training Loss: 0.07871, Validation Loss: 0.07963\n",
            "Epoch 525/1000 - Training Loss: 0.07862, Validation Loss: 0.08003\n",
            "Epoch 526/1000 - Training Loss: 0.07959, Validation Loss: 0.08008\n",
            "Epoch 527/1000 - Training Loss: 0.07918, Validation Loss: 0.07954\n",
            "Epoch 528/1000 - Training Loss: 0.07853, Validation Loss: 0.07948\n",
            "Epoch 529/1000 - Training Loss: 0.07785, Validation Loss: 0.07945\n",
            "Epoch 530/1000 - Training Loss: 0.07952, Validation Loss: 0.08000\n",
            "Epoch 531/1000 - Training Loss: 0.07770, Validation Loss: 0.07905\n",
            "Epoch 532/1000 - Training Loss: 0.07944, Validation Loss: 0.07933\n",
            "Epoch 533/1000 - Training Loss: 0.07864, Validation Loss: 0.07989\n",
            "Epoch 534/1000 - Training Loss: 0.07938, Validation Loss: 0.08030\n",
            "Epoch 535/1000 - Training Loss: 0.07665, Validation Loss: 0.07926\n",
            "Epoch 536/1000 - Training Loss: 0.07902, Validation Loss: 0.07962\n",
            "Epoch 537/1000 - Training Loss: 0.07747, Validation Loss: 0.07951\n",
            "Epoch 538/1000 - Training Loss: 0.08024, Validation Loss: 0.08000\n",
            "Epoch 539/1000 - Training Loss: 0.07865, Validation Loss: 0.08038\n",
            "Epoch 540/1000 - Training Loss: 0.07789, Validation Loss: 0.08047\n",
            "Epoch 541/1000 - Training Loss: 0.07812, Validation Loss: 0.07976\n",
            "Epoch 542/1000 - Training Loss: 0.07769, Validation Loss: 0.08038\n",
            "Epoch 543/1000 - Training Loss: 0.07845, Validation Loss: 0.08049\n",
            "Epoch 544/1000 - Training Loss: 0.07777, Validation Loss: 0.08023\n",
            "Epoch 545/1000 - Training Loss: 0.07646, Validation Loss: 0.08075\n",
            "Epoch 546/1000 - Training Loss: 0.07801, Validation Loss: 0.08072\n",
            "Epoch 547/1000 - Training Loss: 0.07666, Validation Loss: 0.08077\n",
            "Epoch 548/1000 - Training Loss: 0.07803, Validation Loss: 0.08080\n",
            "Epoch 549/1000 - Training Loss: 0.07853, Validation Loss: 0.08039\n",
            "Epoch 550/1000 - Training Loss: 0.07749, Validation Loss: 0.08040\n",
            "Epoch 551/1000 - Training Loss: 0.07709, Validation Loss: 0.07983\n",
            "Epoch 552/1000 - Training Loss: 0.07736, Validation Loss: 0.07987\n",
            "Epoch 553/1000 - Training Loss: 0.07705, Validation Loss: 0.08018\n",
            "Epoch 554/1000 - Training Loss: 0.07668, Validation Loss: 0.08052\n",
            "Epoch 555/1000 - Training Loss: 0.07908, Validation Loss: 0.08020\n",
            "Epoch 556/1000 - Training Loss: 0.07845, Validation Loss: 0.08202\n",
            "Epoch 557/1000 - Training Loss: 0.07767, Validation Loss: 0.08010\n",
            "Epoch 558/1000 - Training Loss: 0.07859, Validation Loss: 0.08065\n",
            "Epoch 559/1000 - Training Loss: 0.07785, Validation Loss: 0.08051\n",
            "Epoch 560/1000 - Training Loss: 0.07897, Validation Loss: 0.08043\n",
            "Epoch 561/1000 - Training Loss: 0.07867, Validation Loss: 0.08026\n",
            "Epoch 562/1000 - Training Loss: 0.07613, Validation Loss: 0.08081\n",
            "Epoch 563/1000 - Training Loss: 0.07982, Validation Loss: 0.08045\n",
            "Epoch 564/1000 - Training Loss: 0.07829, Validation Loss: 0.08111\n",
            "Epoch 565/1000 - Training Loss: 0.07895, Validation Loss: 0.07965\n",
            "Epoch 566/1000 - Training Loss: 0.07911, Validation Loss: 0.07991\n",
            "Epoch 567/1000 - Training Loss: 0.07717, Validation Loss: 0.07924\n",
            "Epoch 568/1000 - Training Loss: 0.07643, Validation Loss: 0.07950\n",
            "Epoch 569/1000 - Training Loss: 0.07945, Validation Loss: 0.08006\n",
            "Epoch 570/1000 - Training Loss: 0.07657, Validation Loss: 0.07966\n",
            "Epoch 571/1000 - Training Loss: 0.07900, Validation Loss: 0.07987\n",
            "Epoch 572/1000 - Training Loss: 0.07893, Validation Loss: 0.07878\n",
            "Epoch 573/1000 - Training Loss: 0.07694, Validation Loss: 0.07944\n",
            "Epoch 574/1000 - Training Loss: 0.07875, Validation Loss: 0.07940\n",
            "Epoch 575/1000 - Training Loss: 0.07712, Validation Loss: 0.07983\n",
            "Epoch 576/1000 - Training Loss: 0.07590, Validation Loss: 0.07930\n",
            "Epoch 577/1000 - Training Loss: 0.07858, Validation Loss: 0.07897\n",
            "Epoch 578/1000 - Training Loss: 0.07743, Validation Loss: 0.07934\n",
            "Epoch 579/1000 - Training Loss: 0.07708, Validation Loss: 0.07974\n",
            "Epoch 580/1000 - Training Loss: 0.07846, Validation Loss: 0.07964\n",
            "Epoch 581/1000 - Training Loss: 0.07726, Validation Loss: 0.07959\n",
            "Epoch 582/1000 - Training Loss: 0.07725, Validation Loss: 0.07906\n",
            "Epoch 583/1000 - Training Loss: 0.07647, Validation Loss: 0.07959\n",
            "Epoch 584/1000 - Training Loss: 0.07785, Validation Loss: 0.07955\n",
            "Epoch 585/1000 - Training Loss: 0.07776, Validation Loss: 0.07934\n",
            "Epoch 586/1000 - Training Loss: 0.07858, Validation Loss: 0.07924\n",
            "Epoch 587/1000 - Training Loss: 0.07665, Validation Loss: 0.07990\n",
            "Epoch 588/1000 - Training Loss: 0.07760, Validation Loss: 0.07989\n",
            "Epoch 589/1000 - Training Loss: 0.07749, Validation Loss: 0.07958\n",
            "Epoch 590/1000 - Training Loss: 0.07753, Validation Loss: 0.07962\n",
            "Epoch 591/1000 - Training Loss: 0.07770, Validation Loss: 0.07954\n",
            "Epoch 592/1000 - Training Loss: 0.07723, Validation Loss: 0.08106\n",
            "Epoch 593/1000 - Training Loss: 0.07893, Validation Loss: 0.07949\n",
            "Epoch 594/1000 - Training Loss: 0.07649, Validation Loss: 0.08038\n",
            "Epoch 595/1000 - Training Loss: 0.07788, Validation Loss: 0.08060\n",
            "Epoch 596/1000 - Training Loss: 0.07720, Validation Loss: 0.08003\n",
            "Epoch 597/1000 - Training Loss: 0.07818, Validation Loss: 0.08011\n",
            "Epoch 598/1000 - Training Loss: 0.07863, Validation Loss: 0.08020\n",
            "Epoch 599/1000 - Training Loss: 0.07733, Validation Loss: 0.08043\n",
            "Epoch 600/1000 - Training Loss: 0.07733, Validation Loss: 0.08084\n",
            "Epoch 601/1000 - Training Loss: 0.07785, Validation Loss: 0.08003\n",
            "Epoch 602/1000 - Training Loss: 0.07841, Validation Loss: 0.08046\n",
            "Epoch 603/1000 - Training Loss: 0.07733, Validation Loss: 0.08103\n",
            "Epoch 604/1000 - Training Loss: 0.07786, Validation Loss: 0.08110\n",
            "Epoch 605/1000 - Training Loss: 0.07577, Validation Loss: 0.08005\n",
            "Epoch 606/1000 - Training Loss: 0.07645, Validation Loss: 0.07979\n",
            "Epoch 607/1000 - Training Loss: 0.07767, Validation Loss: 0.07974\n",
            "Epoch 608/1000 - Training Loss: 0.07713, Validation Loss: 0.07994\n",
            "Epoch 609/1000 - Training Loss: 0.07641, Validation Loss: 0.07998\n",
            "Epoch 610/1000 - Training Loss: 0.07726, Validation Loss: 0.08000\n",
            "Epoch 611/1000 - Training Loss: 0.07673, Validation Loss: 0.07951\n",
            "Epoch 612/1000 - Training Loss: 0.07549, Validation Loss: 0.07948\n",
            "Epoch 613/1000 - Training Loss: 0.07797, Validation Loss: 0.08052\n",
            "Epoch 614/1000 - Training Loss: 0.07939, Validation Loss: 0.07965\n",
            "Epoch 615/1000 - Training Loss: 0.07600, Validation Loss: 0.07998\n",
            "Epoch 616/1000 - Training Loss: 0.07608, Validation Loss: 0.07952\n",
            "Epoch 617/1000 - Training Loss: 0.07678, Validation Loss: 0.07960\n",
            "Epoch 618/1000 - Training Loss: 0.07724, Validation Loss: 0.07942\n",
            "Epoch 619/1000 - Training Loss: 0.07675, Validation Loss: 0.07950\n",
            "Epoch 620/1000 - Training Loss: 0.07682, Validation Loss: 0.07950\n",
            "Epoch 621/1000 - Training Loss: 0.07755, Validation Loss: 0.08003\n",
            "Epoch 622/1000 - Training Loss: 0.07806, Validation Loss: 0.08034\n",
            "Epoch 623/1000 - Training Loss: 0.07836, Validation Loss: 0.08048\n",
            "Epoch 624/1000 - Training Loss: 0.07767, Validation Loss: 0.08058\n",
            "Epoch 625/1000 - Training Loss: 0.07716, Validation Loss: 0.08020\n",
            "Epoch 626/1000 - Training Loss: 0.07718, Validation Loss: 0.07997\n",
            "Epoch 627/1000 - Training Loss: 0.07745, Validation Loss: 0.08072\n",
            "Epoch 628/1000 - Training Loss: 0.07626, Validation Loss: 0.08057\n",
            "Epoch 629/1000 - Training Loss: 0.07800, Validation Loss: 0.08005\n",
            "Epoch 630/1000 - Training Loss: 0.07604, Validation Loss: 0.07996\n",
            "Epoch 631/1000 - Training Loss: 0.07618, Validation Loss: 0.08060\n",
            "Epoch 632/1000 - Training Loss: 0.07840, Validation Loss: 0.07963\n",
            "Epoch 633/1000 - Training Loss: 0.07625, Validation Loss: 0.08016\n",
            "Epoch 634/1000 - Training Loss: 0.07726, Validation Loss: 0.08043\n",
            "Epoch 635/1000 - Training Loss: 0.07696, Validation Loss: 0.08001\n",
            "Epoch 636/1000 - Training Loss: 0.07848, Validation Loss: 0.07924\n",
            "Epoch 637/1000 - Training Loss: 0.07819, Validation Loss: 0.07941\n",
            "Epoch 638/1000 - Training Loss: 0.07606, Validation Loss: 0.07909\n",
            "Epoch 639/1000 - Training Loss: 0.07726, Validation Loss: 0.07899\n",
            "Epoch 640/1000 - Training Loss: 0.07585, Validation Loss: 0.07926\n",
            "Epoch 641/1000 - Training Loss: 0.07668, Validation Loss: 0.07883\n",
            "Epoch 642/1000 - Training Loss: 0.07749, Validation Loss: 0.07902\n",
            "Epoch 643/1000 - Training Loss: 0.07678, Validation Loss: 0.07867\n",
            "Epoch 644/1000 - Training Loss: 0.07733, Validation Loss: 0.07910\n",
            "Epoch 645/1000 - Training Loss: 0.07604, Validation Loss: 0.07926\n",
            "Epoch 646/1000 - Training Loss: 0.07734, Validation Loss: 0.07933\n",
            "Epoch 647/1000 - Training Loss: 0.07664, Validation Loss: 0.07977\n",
            "Epoch 648/1000 - Training Loss: 0.07793, Validation Loss: 0.08012\n",
            "Epoch 649/1000 - Training Loss: 0.07395, Validation Loss: 0.08003\n",
            "Epoch 650/1000 - Training Loss: 0.07592, Validation Loss: 0.07996\n",
            "Epoch 651/1000 - Training Loss: 0.07752, Validation Loss: 0.07999\n",
            "Epoch 652/1000 - Training Loss: 0.07690, Validation Loss: 0.08039\n",
            "Epoch 653/1000 - Training Loss: 0.07617, Validation Loss: 0.07985\n",
            "Epoch 654/1000 - Training Loss: 0.07757, Validation Loss: 0.07948\n",
            "Epoch 655/1000 - Training Loss: 0.07713, Validation Loss: 0.07962\n",
            "Epoch 656/1000 - Training Loss: 0.07647, Validation Loss: 0.07953\n",
            "Epoch 657/1000 - Training Loss: 0.07774, Validation Loss: 0.07931\n",
            "Epoch 658/1000 - Training Loss: 0.07714, Validation Loss: 0.07924\n",
            "Epoch 659/1000 - Training Loss: 0.07595, Validation Loss: 0.07865\n",
            "Epoch 660/1000 - Training Loss: 0.07720, Validation Loss: 0.07911\n",
            "Epoch 661/1000 - Training Loss: 0.07671, Validation Loss: 0.07981\n",
            "Epoch 662/1000 - Training Loss: 0.07604, Validation Loss: 0.07979\n",
            "Epoch 663/1000 - Training Loss: 0.07693, Validation Loss: 0.07967\n",
            "Epoch 664/1000 - Training Loss: 0.07757, Validation Loss: 0.07929\n",
            "Epoch 665/1000 - Training Loss: 0.07689, Validation Loss: 0.07970\n",
            "Epoch 666/1000 - Training Loss: 0.07537, Validation Loss: 0.07928\n",
            "Epoch 667/1000 - Training Loss: 0.07692, Validation Loss: 0.07941\n",
            "Epoch 668/1000 - Training Loss: 0.07666, Validation Loss: 0.07994\n",
            "Epoch 669/1000 - Training Loss: 0.07894, Validation Loss: 0.07958\n",
            "Epoch 670/1000 - Training Loss: 0.07673, Validation Loss: 0.08035\n",
            "Epoch 671/1000 - Training Loss: 0.07605, Validation Loss: 0.07976\n",
            "Epoch 672/1000 - Training Loss: 0.07647, Validation Loss: 0.07959\n",
            "Epoch 673/1000 - Training Loss: 0.07748, Validation Loss: 0.07945\n",
            "Epoch 674/1000 - Training Loss: 0.07596, Validation Loss: 0.07893\n",
            "Epoch 675/1000 - Training Loss: 0.07671, Validation Loss: 0.07964\n",
            "Epoch 676/1000 - Training Loss: 0.07547, Validation Loss: 0.08009\n",
            "Epoch 677/1000 - Training Loss: 0.07686, Validation Loss: 0.07821\n",
            "Epoch 678/1000 - Training Loss: 0.07743, Validation Loss: 0.07879\n",
            "Epoch 679/1000 - Training Loss: 0.07716, Validation Loss: 0.07981\n",
            "Epoch 680/1000 - Training Loss: 0.07778, Validation Loss: 0.07965\n",
            "Epoch 681/1000 - Training Loss: 0.07542, Validation Loss: 0.07922\n",
            "Epoch 682/1000 - Training Loss: 0.07715, Validation Loss: 0.07880\n",
            "Epoch 683/1000 - Training Loss: 0.07520, Validation Loss: 0.07852\n",
            "Epoch 684/1000 - Training Loss: 0.07551, Validation Loss: 0.07946\n",
            "Epoch 685/1000 - Training Loss: 0.07574, Validation Loss: 0.07990\n",
            "Epoch 686/1000 - Training Loss: 0.07456, Validation Loss: 0.07944\n",
            "Epoch 687/1000 - Training Loss: 0.07595, Validation Loss: 0.07955\n",
            "Epoch 688/1000 - Training Loss: 0.07605, Validation Loss: 0.07908\n",
            "Epoch 689/1000 - Training Loss: 0.07588, Validation Loss: 0.07998\n",
            "Epoch 690/1000 - Training Loss: 0.07526, Validation Loss: 0.07927\n",
            "Epoch 691/1000 - Training Loss: 0.07682, Validation Loss: 0.07992\n",
            "Epoch 692/1000 - Training Loss: 0.07647, Validation Loss: 0.07989\n",
            "Epoch 693/1000 - Training Loss: 0.07590, Validation Loss: 0.07969\n",
            "Epoch 694/1000 - Training Loss: 0.07746, Validation Loss: 0.08000\n",
            "Epoch 695/1000 - Training Loss: 0.07691, Validation Loss: 0.07919\n",
            "Epoch 696/1000 - Training Loss: 0.07694, Validation Loss: 0.07970\n",
            "Epoch 697/1000 - Training Loss: 0.07748, Validation Loss: 0.07926\n",
            "Epoch 698/1000 - Training Loss: 0.07485, Validation Loss: 0.07969\n",
            "Epoch 699/1000 - Training Loss: 0.07628, Validation Loss: 0.07860\n",
            "Epoch 700/1000 - Training Loss: 0.07535, Validation Loss: 0.07947\n",
            "Epoch 701/1000 - Training Loss: 0.07563, Validation Loss: 0.07926\n",
            "Epoch 702/1000 - Training Loss: 0.07793, Validation Loss: 0.07941\n",
            "Epoch 703/1000 - Training Loss: 0.07727, Validation Loss: 0.07905\n",
            "Epoch 704/1000 - Training Loss: 0.07596, Validation Loss: 0.08047\n",
            "Epoch 705/1000 - Training Loss: 0.07764, Validation Loss: 0.07881\n",
            "Epoch 706/1000 - Training Loss: 0.07516, Validation Loss: 0.07809\n",
            "Epoch 707/1000 - Training Loss: 0.07604, Validation Loss: 0.08058\n",
            "Epoch 708/1000 - Training Loss: 0.07571, Validation Loss: 0.07890\n",
            "Epoch 709/1000 - Training Loss: 0.07531, Validation Loss: 0.07910\n",
            "Epoch 710/1000 - Training Loss: 0.07819, Validation Loss: 0.07947\n",
            "Epoch 711/1000 - Training Loss: 0.07749, Validation Loss: 0.07884\n",
            "Epoch 712/1000 - Training Loss: 0.07590, Validation Loss: 0.07871\n",
            "Epoch 713/1000 - Training Loss: 0.07492, Validation Loss: 0.08042\n",
            "Epoch 714/1000 - Training Loss: 0.07662, Validation Loss: 0.07889\n",
            "Epoch 715/1000 - Training Loss: 0.07611, Validation Loss: 0.07954\n",
            "Epoch 716/1000 - Training Loss: 0.07519, Validation Loss: 0.07983\n",
            "Epoch 717/1000 - Training Loss: 0.07627, Validation Loss: 0.07956\n",
            "Epoch 718/1000 - Training Loss: 0.07655, Validation Loss: 0.07912\n",
            "Epoch 719/1000 - Training Loss: 0.07742, Validation Loss: 0.07904\n",
            "Epoch 720/1000 - Training Loss: 0.07699, Validation Loss: 0.07937\n",
            "Epoch 721/1000 - Training Loss: 0.07509, Validation Loss: 0.07944\n",
            "Epoch 722/1000 - Training Loss: 0.07607, Validation Loss: 0.07896\n",
            "Epoch 723/1000 - Training Loss: 0.07700, Validation Loss: 0.08016\n",
            "Epoch 724/1000 - Training Loss: 0.07688, Validation Loss: 0.07972\n",
            "Epoch 725/1000 - Training Loss: 0.07801, Validation Loss: 0.07989\n",
            "Epoch 726/1000 - Training Loss: 0.07600, Validation Loss: 0.07950\n",
            "Epoch 727/1000 - Training Loss: 0.07635, Validation Loss: 0.07884\n",
            "Epoch 728/1000 - Training Loss: 0.07604, Validation Loss: 0.07898\n",
            "Epoch 729/1000 - Training Loss: 0.07536, Validation Loss: 0.07901\n",
            "Epoch 730/1000 - Training Loss: 0.07634, Validation Loss: 0.07947\n",
            "Epoch 731/1000 - Training Loss: 0.07587, Validation Loss: 0.07953\n",
            "Epoch 732/1000 - Training Loss: 0.07621, Validation Loss: 0.07918\n",
            "Epoch 733/1000 - Training Loss: 0.07695, Validation Loss: 0.07897\n",
            "Epoch 734/1000 - Training Loss: 0.07568, Validation Loss: 0.07910\n",
            "Epoch 735/1000 - Training Loss: 0.07555, Validation Loss: 0.08045\n",
            "Epoch 736/1000 - Training Loss: 0.07688, Validation Loss: 0.07878\n",
            "Epoch 737/1000 - Training Loss: 0.07702, Validation Loss: 0.07848\n",
            "Epoch 738/1000 - Training Loss: 0.07575, Validation Loss: 0.07860\n",
            "Epoch 739/1000 - Training Loss: 0.07479, Validation Loss: 0.07870\n",
            "Epoch 740/1000 - Training Loss: 0.07662, Validation Loss: 0.07893\n",
            "Epoch 741/1000 - Training Loss: 0.07675, Validation Loss: 0.07879\n",
            "Epoch 742/1000 - Training Loss: 0.07586, Validation Loss: 0.07897\n",
            "Epoch 743/1000 - Training Loss: 0.07787, Validation Loss: 0.08018\n",
            "Epoch 744/1000 - Training Loss: 0.07540, Validation Loss: 0.07960\n",
            "Epoch 745/1000 - Training Loss: 0.07703, Validation Loss: 0.07883\n",
            "Epoch 746/1000 - Training Loss: 0.07506, Validation Loss: 0.07905\n",
            "Epoch 747/1000 - Training Loss: 0.07473, Validation Loss: 0.07907\n",
            "Epoch 748/1000 - Training Loss: 0.07706, Validation Loss: 0.07816\n",
            "Epoch 749/1000 - Training Loss: 0.07520, Validation Loss: 0.07872\n",
            "Epoch 750/1000 - Training Loss: 0.07647, Validation Loss: 0.07871\n",
            "Epoch 751/1000 - Training Loss: 0.07588, Validation Loss: 0.07856\n",
            "Epoch 752/1000 - Training Loss: 0.07758, Validation Loss: 0.07924\n",
            "Epoch 753/1000 - Training Loss: 0.07529, Validation Loss: 0.07847\n",
            "Epoch 754/1000 - Training Loss: 0.07493, Validation Loss: 0.07867\n",
            "Epoch 755/1000 - Training Loss: 0.07579, Validation Loss: 0.07883\n",
            "Epoch 756/1000 - Training Loss: 0.07411, Validation Loss: 0.07854\n",
            "Epoch 757/1000 - Training Loss: 0.07427, Validation Loss: 0.07829\n",
            "Epoch 758/1000 - Training Loss: 0.07590, Validation Loss: 0.07822\n",
            "Epoch 759/1000 - Training Loss: 0.07448, Validation Loss: 0.07858\n",
            "Epoch 760/1000 - Training Loss: 0.07656, Validation Loss: 0.07915\n",
            "Epoch 761/1000 - Training Loss: 0.07655, Validation Loss: 0.07931\n",
            "Epoch 762/1000 - Training Loss: 0.07664, Validation Loss: 0.07980\n",
            "Epoch 763/1000 - Training Loss: 0.07593, Validation Loss: 0.07928\n",
            "Epoch 764/1000 - Training Loss: 0.07589, Validation Loss: 0.07853\n",
            "Epoch 765/1000 - Training Loss: 0.07576, Validation Loss: 0.07918\n",
            "Epoch 766/1000 - Training Loss: 0.07477, Validation Loss: 0.07866\n",
            "Epoch 767/1000 - Training Loss: 0.07501, Validation Loss: 0.07908\n",
            "Epoch 768/1000 - Training Loss: 0.07448, Validation Loss: 0.07829\n",
            "Epoch 769/1000 - Training Loss: 0.07574, Validation Loss: 0.07857\n",
            "Epoch 770/1000 - Training Loss: 0.07479, Validation Loss: 0.07941\n",
            "Epoch 771/1000 - Training Loss: 0.07553, Validation Loss: 0.07977\n",
            "Epoch 772/1000 - Training Loss: 0.07600, Validation Loss: 0.07891\n",
            "Epoch 773/1000 - Training Loss: 0.07727, Validation Loss: 0.07846\n",
            "Epoch 774/1000 - Training Loss: 0.07473, Validation Loss: 0.07867\n",
            "Epoch 775/1000 - Training Loss: 0.07450, Validation Loss: 0.07832\n",
            "Epoch 776/1000 - Training Loss: 0.07692, Validation Loss: 0.07924\n",
            "Epoch 777/1000 - Training Loss: 0.07536, Validation Loss: 0.07932\n",
            "Epoch 778/1000 - Training Loss: 0.07663, Validation Loss: 0.07916\n",
            "Epoch 779/1000 - Training Loss: 0.07476, Validation Loss: 0.07884\n",
            "Epoch 780/1000 - Training Loss: 0.07708, Validation Loss: 0.07905\n",
            "Epoch 781/1000 - Training Loss: 0.07486, Validation Loss: 0.08000\n",
            "Epoch 782/1000 - Training Loss: 0.07557, Validation Loss: 0.07939\n",
            "Epoch 00782: reducing learning rate of group 0 to 1.1000e-06.\n",
            "Epoch 783/1000 - Training Loss: 0.07553, Validation Loss: 0.07942\n",
            "Epoch 784/1000 - Training Loss: 0.07477, Validation Loss: 0.07933\n",
            "Epoch 785/1000 - Training Loss: 0.07414, Validation Loss: 0.07929\n",
            "Epoch 786/1000 - Training Loss: 0.07521, Validation Loss: 0.07926\n",
            "Epoch 787/1000 - Training Loss: 0.07593, Validation Loss: 0.07930\n",
            "Epoch 788/1000 - Training Loss: 0.07641, Validation Loss: 0.07929\n",
            "Epoch 789/1000 - Training Loss: 0.07523, Validation Loss: 0.07938\n",
            "Epoch 790/1000 - Training Loss: 0.07683, Validation Loss: 0.07940\n",
            "Epoch 791/1000 - Training Loss: 0.07451, Validation Loss: 0.07947\n",
            "Epoch 792/1000 - Training Loss: 0.07501, Validation Loss: 0.07940\n",
            "Epoch 793/1000 - Training Loss: 0.07506, Validation Loss: 0.07942\n",
            "Epoch 794/1000 - Training Loss: 0.07698, Validation Loss: 0.07935\n",
            "Epoch 795/1000 - Training Loss: 0.07396, Validation Loss: 0.07942\n",
            "Epoch 796/1000 - Training Loss: 0.07522, Validation Loss: 0.07929\n",
            "Epoch 797/1000 - Training Loss: 0.07603, Validation Loss: 0.07925\n",
            "Epoch 798/1000 - Training Loss: 0.07542, Validation Loss: 0.07926\n",
            "Epoch 799/1000 - Training Loss: 0.07476, Validation Loss: 0.07924\n",
            "Epoch 800/1000 - Training Loss: 0.07631, Validation Loss: 0.07921\n",
            "Epoch 801/1000 - Training Loss: 0.07539, Validation Loss: 0.07923\n",
            "Epoch 802/1000 - Training Loss: 0.07379, Validation Loss: 0.07919\n",
            "Epoch 803/1000 - Training Loss: 0.07470, Validation Loss: 0.07913\n",
            "Epoch 804/1000 - Training Loss: 0.07410, Validation Loss: 0.07914\n",
            "Epoch 805/1000 - Training Loss: 0.07642, Validation Loss: 0.07916\n",
            "Epoch 806/1000 - Training Loss: 0.07527, Validation Loss: 0.07906\n",
            "Epoch 807/1000 - Training Loss: 0.07499, Validation Loss: 0.07914\n",
            "Epoch 808/1000 - Training Loss: 0.07569, Validation Loss: 0.07918\n",
            "Epoch 809/1000 - Training Loss: 0.07501, Validation Loss: 0.07934\n",
            "Epoch 810/1000 - Training Loss: 0.07358, Validation Loss: 0.07940\n",
            "Epoch 811/1000 - Training Loss: 0.07541, Validation Loss: 0.07929\n",
            "Epoch 812/1000 - Training Loss: 0.07587, Validation Loss: 0.07932\n",
            "Epoch 813/1000 - Training Loss: 0.07490, Validation Loss: 0.07941\n",
            "Epoch 814/1000 - Training Loss: 0.07425, Validation Loss: 0.07936\n",
            "Epoch 815/1000 - Training Loss: 0.07592, Validation Loss: 0.07936\n",
            "Epoch 816/1000 - Training Loss: 0.07537, Validation Loss: 0.07931\n",
            "Epoch 817/1000 - Training Loss: 0.07548, Validation Loss: 0.07925\n",
            "Epoch 818/1000 - Training Loss: 0.07493, Validation Loss: 0.07922\n",
            "Epoch 819/1000 - Training Loss: 0.07498, Validation Loss: 0.07924\n",
            "Epoch 820/1000 - Training Loss: 0.07478, Validation Loss: 0.07916\n",
            "Epoch 821/1000 - Training Loss: 0.07474, Validation Loss: 0.07915\n",
            "Epoch 822/1000 - Training Loss: 0.07649, Validation Loss: 0.07921\n",
            "Epoch 823/1000 - Training Loss: 0.07527, Validation Loss: 0.07924\n",
            "Epoch 824/1000 - Training Loss: 0.07510, Validation Loss: 0.07934\n",
            "Epoch 825/1000 - Training Loss: 0.07282, Validation Loss: 0.07940\n",
            "Epoch 826/1000 - Training Loss: 0.07435, Validation Loss: 0.07940\n",
            "Epoch 827/1000 - Training Loss: 0.07534, Validation Loss: 0.07934\n",
            "Epoch 828/1000 - Training Loss: 0.07505, Validation Loss: 0.07935\n",
            "Epoch 829/1000 - Training Loss: 0.07494, Validation Loss: 0.07935\n",
            "Epoch 830/1000 - Training Loss: 0.07538, Validation Loss: 0.07931\n",
            "Epoch 831/1000 - Training Loss: 0.07648, Validation Loss: 0.07922\n",
            "Epoch 832/1000 - Training Loss: 0.07425, Validation Loss: 0.07933\n",
            "Epoch 833/1000 - Training Loss: 0.07563, Validation Loss: 0.07932\n",
            "Epoch 834/1000 - Training Loss: 0.07505, Validation Loss: 0.07933\n",
            "Epoch 835/1000 - Training Loss: 0.07391, Validation Loss: 0.07933\n",
            "Epoch 836/1000 - Training Loss: 0.07576, Validation Loss: 0.07930\n",
            "Epoch 837/1000 - Training Loss: 0.07408, Validation Loss: 0.07934\n",
            "Epoch 838/1000 - Training Loss: 0.07486, Validation Loss: 0.07929\n",
            "Epoch 839/1000 - Training Loss: 0.07420, Validation Loss: 0.07923\n",
            "Epoch 840/1000 - Training Loss: 0.07507, Validation Loss: 0.07940\n",
            "Epoch 841/1000 - Training Loss: 0.07550, Validation Loss: 0.07939\n",
            "Epoch 842/1000 - Training Loss: 0.07383, Validation Loss: 0.07932\n",
            "Epoch 843/1000 - Training Loss: 0.07375, Validation Loss: 0.07918\n",
            "Epoch 844/1000 - Training Loss: 0.07531, Validation Loss: 0.07915\n",
            "Epoch 845/1000 - Training Loss: 0.07512, Validation Loss: 0.07913\n",
            "Epoch 846/1000 - Training Loss: 0.07659, Validation Loss: 0.07908\n",
            "Epoch 847/1000 - Training Loss: 0.07433, Validation Loss: 0.07916\n",
            "Epoch 848/1000 - Training Loss: 0.07370, Validation Loss: 0.07911\n",
            "Epoch 849/1000 - Training Loss: 0.07567, Validation Loss: 0.07905\n",
            "Epoch 850/1000 - Training Loss: 0.07588, Validation Loss: 0.07905\n",
            "Epoch 851/1000 - Training Loss: 0.07468, Validation Loss: 0.07905\n",
            "Epoch 852/1000 - Training Loss: 0.07569, Validation Loss: 0.07909\n",
            "Epoch 853/1000 - Training Loss: 0.07699, Validation Loss: 0.07907\n",
            "Epoch 854/1000 - Training Loss: 0.07517, Validation Loss: 0.07920\n",
            "Epoch 855/1000 - Training Loss: 0.07473, Validation Loss: 0.07910\n",
            "Epoch 856/1000 - Training Loss: 0.07317, Validation Loss: 0.07913\n",
            "Early stopping triggered after epoch 856.\n",
            "Best hyperparameters:\n",
            "epoch_size: 1000\n",
            "learning_rate: 0.00011\n",
            "weight_decay: 1e-06\n",
            "early_stop_epoch: 856\n",
            "Lowest validation loss: 0.0791278491117831\n"
          ]
        }
      ],
      "source": [
        "def find_optimal_hyperparameters(model, criterion, train_loader, valid_loader, device, epochs_options, lr_options, weight_decay_options=[0]):\n",
        "    best_val_loss = float('inf')\n",
        "    best_hyperparameters = None\n",
        "    best_checkpoint = None\n",
        "\n",
        "    for weight in weight_decay_options:\n",
        "        for lr in lr_options:\n",
        "            for epochs in epochs_options:\n",
        "                print(f\"Training with weight_decay={weight}, lr={lr}, epochs={epochs}\")\n",
        "\n",
        "                trained_model, optimizer, scheduler, train_losses, valid_losses, early_stop = train_dynamic(\n",
        "                    model, epochs, lr, criterion, train_loader, valid_loader, patience=150, weight=weight\n",
        "                )\n",
        "\n",
        "                final_val_loss = valid_losses[-1]\n",
        "                if final_val_loss < best_val_loss:\n",
        "                    best_val_loss = final_val_loss\n",
        "                    best_hyperparameters = {\n",
        "                        'epoch_size': epochs,\n",
        "                        'learning_rate': lr,\n",
        "                        'weight_decay': weight,\n",
        "                        'early_stop_epoch': len(valid_losses) if early_stop else epochs\n",
        "                    }\n",
        "                    # Save the checkpoint\n",
        "                    best_checkpoint = {\n",
        "                        'model_state_dict': model.state_dict(),\n",
        "                        'optimizer_state_dict': optimizer.state_dict(),\n",
        "                        'scheduler_state_dict': scheduler.state_dict() if scheduler else None,\n",
        "                        'hyperparameters': best_hyperparameters,\n",
        "                        'best_val_loss': best_val_loss\n",
        "                    }\n",
        "                    torch.save(best_checkpoint, 'checkpoint.pth')\n",
        "\n",
        "                # Reset the model weights\n",
        "                model.apply(weight_reset)\n",
        "\n",
        "    return best_checkpoint\n",
        "\n",
        "def weight_reset(m):\n",
        "    if hasattr(m, 'reset_parameters'):\n",
        "        m.reset_parameters()\n",
        "\n",
        "### Modify the below variables as an option\n",
        "epochs_options = [1000] # -> 1000\n",
        "lr_options = [0.00011] # -> You can add more options. But it will take expontial time to perform it\n",
        "weight_decay_options = [1e-6] # -> same\n",
        "criterion = criterion_MER\n",
        "\n",
        "\n",
        "# Find the optimal set of hyperparameters\n",
        "best_checkpoint = find_optimal_hyperparameters(\n",
        "    mlp_model, criterion, train_loader, valid_loader, device,\n",
        "    epochs_options, lr_options, weight_decay_options\n",
        ")\n",
        "\n",
        "print(f\"Best hyperparameters:\")\n",
        "for key, value in best_checkpoint['hyperparameters'].items():\n",
        "    print(f\"{key}: {value}\")\n",
        "print(f\"Lowest validation loss: {best_checkpoint['best_val_loss']}\")\n"
      ]
    },
    {
      "cell_type": "markdown",
      "metadata": {
        "id": "Gmrzpydv34Y5"
      },
      "source": [
        "---\n",
        "## Inference on test data\n",
        "\n",
        "After the model is trained, we can use it for inference."
      ]
    },
    {
      "cell_type": "code",
      "source": [
        "model = mlp_model\n",
        "\n",
        "checkpoint = torch.load('checkpoint.pth')\n",
        "\n",
        "model.load_state_dict(checkpoint['model_state_dict'])\n",
        "model = model.to(device)\n",
        "model.eval()  #Evaluation mode\n",
        "\n",
        "# Predict the test data\n",
        "with torch.no_grad():\n",
        "    predictions = []\n",
        "    for data in test_loader:\n",
        "        inputs = data[0].to(device)\n",
        "        outputs = model(inputs)\n",
        "        predictions.extend(outputs.cpu().numpy())\n",
        "predictions = [item[0] for item in predictions]\n",
        "\n",
        "denormalized_predictions = [item * normalization_factor for item in predictions]\n",
        "\n",
        "submission_df = pd.DataFrame({\n",
        "    \"ID\": test_ID,\n",
        "    \"SALE_PRICE\": denormalized_predictions\n",
        "})\n",
        "\n",
        "# Save to a CSV file\n",
        "submission_csv_path = 'submission.csv'\n",
        "submission_df.to_csv(submission_csv_path, index=False)\n"
      ],
      "metadata": {
        "id": "tqPUtBpPMAIu"
      },
      "execution_count": 102,
      "outputs": []
    },
    {
      "cell_type": "markdown",
      "source": [
        "If you want to see the model.pth in detail, change the variable \"modelDetail\" to True and run the cell"
      ],
      "metadata": {
        "id": "5zFFRYQ_JAYW"
      }
    },
    {
      "cell_type": "code",
      "source": [
        "ModelDetail = False #Modify this line\n",
        "\n",
        "if ModelDetail:\n",
        "    checkpoint = torch.load('checkpoint.pth')\n",
        "    model_state_dict = checkpoint['model_state_dict']\n",
        "    print(\"Model's state_dict:\")\n",
        "    for param_tensor in model_state_dict:\n",
        "        print(param_tensor, \"\\t\", model_state_dict[param_tensor].size())\n",
        "\n",
        "    print(\"\\nParameter values:\")\n",
        "    for param_tensor in model_state_dict:\n",
        "        print(param_tensor, \"\\n\", model_state_dict[param_tensor])\n",
        "\n",
        "    # prirnt hyperparameters\n",
        "    print(\"\\nHyperparameters:\")\n",
        "    for key, value in checkpoint['hyperparameters'].items():\n",
        "        print(f\"{key}: {value}\")\n",
        "\n",
        "    # To print the best validation loss\n",
        "    print(\"\\nBest Validation Loss:\", checkpoint['best_val_loss'])\n"
      ],
      "metadata": {
        "colab": {
          "base_uri": "https://localhost:8080/"
        },
        "id": "ZzgAmzwoWxcs",
        "outputId": "d65e6aa2-9e65-4361-eb3c-7992dfe2fa82"
      },
      "execution_count": 103,
      "outputs": [
        {
          "output_type": "stream",
          "name": "stdout",
          "text": [
            "Model's state_dict:\n",
            "0.weight \t torch.Size([256, 122])\n",
            "0.bias \t torch.Size([256])\n",
            "3.weight \t torch.Size([128, 256])\n",
            "3.bias \t torch.Size([128])\n",
            "6.weight \t torch.Size([128, 128])\n",
            "6.bias \t torch.Size([128])\n",
            "9.weight \t torch.Size([64, 128])\n",
            "9.bias \t torch.Size([64])\n",
            "12.weight \t torch.Size([32, 64])\n",
            "12.bias \t torch.Size([32])\n",
            "15.weight \t torch.Size([1, 32])\n",
            "15.bias \t torch.Size([1])\n",
            "\n",
            "Parameter values:\n",
            "0.weight \n",
            " tensor([[ 1.3889e-01, -4.5548e-02, -3.9834e-02,  ...,  7.8615e-03,\n",
            "          2.0551e-04, -4.9072e-39],\n",
            "        [ 2.1357e-02,  5.1612e-02, -8.4396e-02,  ...,  5.2598e-02,\n",
            "          4.4276e-05, -4.9106e-39],\n",
            "        [-2.4243e-02,  1.8085e-02,  3.5818e-02,  ..., -4.3897e-02,\n",
            "         -4.9096e-39, -4.9102e-39],\n",
            "        ...,\n",
            "        [ 5.6032e-02,  1.9130e-02,  5.7320e-04,  ...,  4.5040e-27,\n",
            "         -1.5046e-03,  4.9077e-39],\n",
            "        [ 2.1389e-02,  5.3543e-02,  1.3390e-02,  ...,  5.6854e-03,\n",
            "          4.9062e-39, -4.9180e-39],\n",
            "        [-1.1278e-01, -5.2365e-03, -5.3845e-03,  ..., -4.8364e-26,\n",
            "          4.9078e-39, -4.9100e-39]], device='cuda:0')\n",
            "0.bias \n",
            " tensor([ 4.6506e-02,  2.9914e-02,  1.6400e-03,  4.2194e-02,  2.7322e-02,\n",
            "         1.7038e-02, -1.4005e-01, -6.7384e-02,  4.8787e-02,  1.0518e-02,\n",
            "        -3.5581e-02, -1.4381e-01, -7.1795e-03, -7.3963e-02, -1.0530e-01,\n",
            "         2.0230e-02,  2.1816e-02, -4.2749e-02, -1.1407e-01, -2.3271e-02,\n",
            "        -7.2589e-02, -9.5405e-02,  7.9698e-02, -2.1737e-02, -7.8691e-02,\n",
            "         5.3730e-02, -1.2910e-01,  5.6039e-02,  5.0269e-02,  5.8894e-03,\n",
            "        -7.5527e-02, -1.9837e-02, -7.1704e-03,  7.7228e-02, -1.0528e-01,\n",
            "         4.4256e-02,  2.6419e-05, -7.6786e-02, -1.4346e-01, -9.3674e-02,\n",
            "         2.3693e-02,  7.7061e-03,  1.0745e-02, -1.9806e-02, -1.0823e-01,\n",
            "        -9.5283e-02, -3.3422e-02,  9.1362e-02, -8.2656e-02,  5.6642e-02,\n",
            "         3.4084e-03, -6.9766e-02, -8.6524e-02, -1.1824e-01,  1.2505e-02,\n",
            "        -3.8158e-02, -1.4285e-01, -6.3065e-02, -7.4106e-02, -7.1822e-02,\n",
            "        -1.4104e-02, -3.4173e-02, -8.1861e-02, -1.2470e-02,  7.4275e-02,\n",
            "        -1.0091e-02, -6.1571e-02, -1.4515e-03,  2.8520e-02,  7.3876e-02,\n",
            "        -7.5112e-02,  5.0891e-02, -1.2413e-01, -8.2532e-02,  1.4443e-02,\n",
            "        -4.6447e-02, -1.6876e-02, -9.0251e-02, -2.2105e-02, -9.6772e-02,\n",
            "         5.4249e-03,  3.5964e-02,  9.3807e-02, -2.8990e-02, -4.9050e-02,\n",
            "         5.3435e-02, -1.6101e-01,  5.8628e-02,  3.9776e-02, -1.4053e-01,\n",
            "         8.2502e-02, -2.8852e-03, -6.1267e-02, -5.4239e-02, -3.1188e-02,\n",
            "        -1.4876e-01, -2.6928e-02,  1.3511e-02, -3.4203e-02, -7.9269e-02,\n",
            "        -8.6816e-02,  1.3965e-02, -1.1572e-02,  2.3212e-02,  9.3280e-02,\n",
            "        -9.4142e-02, -5.0268e-05, -2.5668e-02, -2.6068e-02, -3.3804e-02,\n",
            "        -3.2081e-02,  6.9961e-02, -2.6337e-02,  5.0090e-02, -9.1449e-02,\n",
            "        -8.4448e-02,  3.3790e-02, -7.8606e-02, -4.8814e-02,  8.3174e-02,\n",
            "        -8.6758e-02, -6.5177e-02, -1.4898e-01, -9.7788e-02,  3.1346e-02,\n",
            "        -3.3547e-02, -8.5630e-02,  5.9663e-02, -5.2338e-02,  2.7240e-02,\n",
            "         1.7039e-02, -3.8636e-02,  7.5926e-02, -1.3752e-02, -5.3530e-02,\n",
            "        -6.8725e-02, -3.9215e-02,  2.3230e-02,  3.6212e-02, -1.0400e-01,\n",
            "        -3.7495e-02,  6.8643e-02,  8.3297e-02, -5.8915e-02, -8.9542e-02,\n",
            "        -6.4057e-03,  2.5388e-02, -8.9113e-02,  4.1670e-03,  1.8288e-02,\n",
            "         3.3777e-02, -8.5684e-02, -1.4311e-02, -3.5021e-02, -1.2503e-01,\n",
            "        -9.8051e-04,  1.6470e-02, -4.1221e-02, -7.0370e-02,  2.5979e-02,\n",
            "        -6.7082e-02, -4.9817e-02, -6.7485e-02, -1.3218e-01,  9.2898e-04,\n",
            "         2.9791e-02, -2.9790e-02,  6.5207e-02, -6.0524e-02,  6.2371e-02,\n",
            "        -1.1486e-01, -1.1171e-01, -1.4673e-02,  2.5345e-02, -1.0160e-01,\n",
            "         5.9893e-02, -9.5205e-02,  3.6763e-02,  7.8998e-02, -4.0776e-02,\n",
            "        -2.4618e-02, -6.9080e-03, -2.5757e-02, -8.3466e-02,  3.5039e-02,\n",
            "        -3.4569e-02,  5.4966e-02, -4.9549e-03, -7.1473e-02, -4.1641e-02,\n",
            "        -9.0801e-02, -6.1133e-02, -6.2949e-02, -2.2845e-02,  4.5734e-02,\n",
            "        -1.9996e-02,  3.1962e-02, -6.8982e-02, -2.1030e-02,  3.4015e-03,\n",
            "        -2.2054e-02, -1.4381e-01,  7.7901e-02,  2.7889e-02, -6.8418e-02,\n",
            "        -5.7761e-02,  2.8803e-03,  5.9991e-02, -5.2807e-02, -2.0195e-02,\n",
            "         4.5713e-02,  6.3320e-02,  3.4029e-03, -4.8762e-02, -8.9088e-02,\n",
            "        -3.3168e-02, -1.1186e-01, -3.6958e-03,  2.2170e-02, -8.7961e-02,\n",
            "        -4.6704e-02, -6.0862e-02, -6.1404e-02,  9.6641e-03, -9.9192e-03,\n",
            "        -6.5347e-02,  3.8237e-02, -1.0912e-01, -4.3689e-02, -8.0765e-02,\n",
            "        -7.3024e-02,  2.8633e-02, -4.5570e-02,  2.7102e-03, -1.1350e-01,\n",
            "         4.4029e-03, -1.0370e-01,  7.3009e-03,  4.7691e-02,  2.1651e-02,\n",
            "        -6.5268e-03,  7.0668e-02, -1.1391e-01,  4.4200e-02, -6.5960e-02,\n",
            "        -1.0133e-02, -2.8866e-03, -9.6934e-02, -6.0380e-02,  1.3265e-02,\n",
            "        -8.2663e-04, -4.5199e-02, -2.6030e-02, -5.5457e-02,  2.2969e-02,\n",
            "        -3.9225e-02], device='cuda:0')\n",
            "3.weight \n",
            " tensor([[ 3.4096e-03,  2.2974e-03,  1.0695e-01,  ...,  2.5652e-02,\n",
            "          2.1186e-02, -7.5695e-02],\n",
            "        [-5.0405e-03,  8.4805e-02, -3.4455e-02,  ...,  7.0827e-02,\n",
            "          4.4733e-02, -2.5556e-02],\n",
            "        [-1.4068e-36, -4.9046e-39, -1.4626e-36,  ..., -3.5430e-36,\n",
            "         -5.6622e-37, -4.9060e-39],\n",
            "        ...,\n",
            "        [ 1.1546e-02, -1.7198e-02,  7.5829e-02,  ...,  8.7758e-03,\n",
            "         -2.8253e-02, -1.4859e-01],\n",
            "        [-2.2406e-03,  3.5705e-03,  1.2630e-02,  ...,  5.8017e-02,\n",
            "         -1.3026e-03, -1.6645e-02],\n",
            "        [ 8.5142e-04,  5.9536e-02,  8.3010e-02,  ...,  9.3119e-03,\n",
            "          3.5131e-02, -1.6559e-02]], device='cuda:0')\n",
            "3.bias \n",
            " tensor([-1.5420e-03,  4.2477e-02, -7.5765e-36, -1.9629e-35, -3.8892e-02,\n",
            "         3.2924e-02,  8.7195e-03,  1.2608e-02, -1.8864e-34, -1.1387e-01,\n",
            "         5.1139e-02, -2.5098e-02, -3.0893e-35, -1.8013e-37,  4.1044e-02,\n",
            "         2.1112e-02, -8.2843e-33, -2.7567e-02, -3.1899e-02,  1.3467e-02,\n",
            "         1.4696e-02, -2.4534e-34, -2.3841e-02,  9.2487e-04, -2.4315e-02,\n",
            "         5.1725e-02,  1.0188e-01, -2.9810e-37, -2.2812e-02,  2.2664e-02,\n",
            "        -1.4729e-36,  2.3877e-02, -7.7207e-38,  1.0529e-01, -3.5545e-03,\n",
            "        -9.5936e-03,  4.7195e-02, -4.0466e-02,  4.9691e-02, -1.3156e-01,\n",
            "         1.1721e-02,  1.2092e-02, -1.3077e-35, -1.7647e-02, -3.1961e-02,\n",
            "         3.0800e-02,  1.9758e-02, -6.7573e-37, -7.8009e-04,  2.7367e-02,\n",
            "        -5.3065e-03, -3.3952e-35,  1.7826e-02,  1.0945e-03, -2.9964e-38,\n",
            "        -2.0064e-02, -5.1802e-02, -1.5545e-02,  6.3444e-03, -6.1256e-38,\n",
            "        -2.3561e-36, -1.7143e-37, -2.7141e-36,  1.0092e-03, -1.7452e-03,\n",
            "         1.4123e-02,  2.6071e-03,  2.2159e-02, -1.9180e-02, -1.4901e-02,\n",
            "         3.3354e-03,  3.2981e-02, -3.3134e-02,  7.0973e-03,  3.0907e-02,\n",
            "        -2.7193e-02,  5.4010e-02,  1.7349e-03, -3.1159e-03, -4.6030e-02,\n",
            "         2.6805e-02, -1.1450e-01,  3.5895e-02, -4.7261e-37,  9.7081e-03,\n",
            "         5.5426e-02, -1.0167e-37,  4.2105e-02,  2.4950e-02, -2.2603e-31,\n",
            "         3.5594e-02,  1.1331e-01, -1.0579e-37, -1.1528e-01,  3.7294e-02,\n",
            "        -1.1350e-01, -4.7158e-36, -3.7549e-02, -1.0510e-37,  3.8104e-03,\n",
            "         4.8459e-02, -2.7437e-02, -6.4585e-02, -6.8442e-36, -2.6682e-02,\n",
            "        -2.6582e-37,  1.8578e-02, -2.2576e-02, -3.8077e-03,  1.4434e-02,\n",
            "        -2.7937e-02, -9.4726e-04, -1.0350e-37, -2.1710e-37, -1.1026e-36,\n",
            "         2.2736e-03, -4.0469e-38,  1.0274e-01, -3.2108e-38, -5.2232e-02,\n",
            "        -7.9814e-03, -3.3236e-02,  1.1479e-03, -4.4822e-02,  5.1040e-02,\n",
            "         3.4909e-02, -3.4452e-02,  3.4981e-02], device='cuda:0')\n",
            "6.weight \n",
            " tensor([[-4.8521e-36, -4.3745e-36,  4.9100e-39,  ..., -4.4764e-39,\n",
            "         -4.9051e-39, -5.8459e-36],\n",
            "        [ 2.7807e-02,  5.2243e-02,  9.4729e-38,  ...,  3.5896e-03,\n",
            "          1.9667e-02,  6.3277e-02],\n",
            "        [-3.3117e-02, -5.8669e-02,  7.9492e-38,  ...,  3.2403e-02,\n",
            "         -4.0048e-02, -3.7384e-02],\n",
            "        ...,\n",
            "        [-6.2955e-38, -8.0160e-38,  4.9097e-39,  ..., -6.4339e-38,\n",
            "         -2.0404e-39, -9.6221e-38],\n",
            "        [-5.7109e-02,  7.0159e-02,  8.1453e-38,  ...,  1.2320e-02,\n",
            "          6.8407e-03, -4.8018e-02],\n",
            "        [ 1.1440e-02, -3.5812e-02,  1.4102e-37,  ...,  2.3616e-03,\n",
            "          3.0566e-02, -5.3073e-02]], device='cuda:0')\n",
            "6.bias \n",
            " tensor([-2.8354e-36,  4.7522e-02,  7.7876e-02, -1.1708e-39, -4.1236e-35,\n",
            "         1.2806e-01,  9.5373e-02,  8.7784e-02,  8.7024e-02,  5.3845e-02,\n",
            "         1.1872e-01,  5.3582e-02,  1.0242e-01,  1.2525e-01,  1.3931e-02,\n",
            "         1.1198e-01,  1.1271e-01,  1.1867e-01,  2.2443e-02, -5.4321e-38,\n",
            "         8.5437e-02,  3.2654e-02,  9.4992e-02, -3.2549e-37,  8.2771e-02,\n",
            "         8.4204e-02, -3.2544e-39,  3.1114e-02, -1.9317e-37, -7.8860e-39,\n",
            "        -1.0976e-37,  6.0248e-02, -3.5514e-38,  6.0139e-02,  9.8052e-02,\n",
            "        -3.4956e-35,  1.1767e-01,  9.8427e-02, -4.1921e-35,  2.0860e-02,\n",
            "        -5.6043e-35,  3.0669e-02, -9.9386e-36,  6.6733e-02,  7.9244e-02,\n",
            "         7.8908e-02,  6.7618e-02, -3.0501e-35,  7.3522e-02, -2.4680e-35,\n",
            "         5.7266e-03,  3.4653e-02,  7.3563e-02,  1.0026e-01,  9.2203e-02,\n",
            "         5.0865e-02, -8.2273e-34, -1.8089e-36,  6.8615e-02,  3.9697e-02,\n",
            "         8.9831e-02, -6.3597e-38,  3.4597e-02,  1.2622e-01,  4.8160e-02,\n",
            "        -1.2561e-36, -1.5848e-36,  1.2980e-01,  8.8703e-02,  6.5057e-02,\n",
            "        -1.3361e-37,  6.1714e-02, -3.8013e-36,  2.3693e-02, -9.9684e-34,\n",
            "        -2.8459e-37,  5.6899e-02,  6.5247e-02, -3.6091e-35,  4.5892e-02,\n",
            "         6.9114e-02, -4.0353e-37,  7.6813e-02,  2.2153e-02,  1.1166e-01,\n",
            "        -9.6078e-37,  5.6525e-02, -1.0968e-36,  2.4283e-02,  1.1385e-01,\n",
            "         2.1895e-02,  6.1297e-02,  9.2775e-02,  2.8530e-02, -7.7327e-38,\n",
            "         8.9288e-02,  9.8029e-02,  4.5117e-02, -7.3724e-37,  8.7832e-02,\n",
            "         1.9970e-02,  9.8496e-02,  5.0502e-02, -4.7610e-35,  1.0734e-01,\n",
            "         8.5669e-02,  1.0689e-01,  7.9638e-02, -2.2412e-33,  1.1774e-01,\n",
            "         5.0664e-02,  6.3344e-02,  6.0256e-02,  1.0148e-01, -1.6859e-34,\n",
            "         2.8243e-02,  5.1224e-02, -1.3104e-36,  9.6901e-02,  9.4711e-02,\n",
            "         5.8809e-02,  1.0180e-01,  7.5785e-02, -4.2712e-36,  2.9991e-02,\n",
            "        -1.3390e-37,  8.6654e-02,  7.8905e-02], device='cuda:0')\n",
            "9.weight \n",
            " tensor([[-7.4785e-38, -1.9644e-03, -2.5825e-02,  ...,  1.0947e-39,\n",
            "          6.0914e-02,  6.2593e-02],\n",
            "        [-9.3136e-38,  2.1761e-02, -6.8069e-02,  ...,  1.8439e-39,\n",
            "          4.4982e-02, -1.5730e-02],\n",
            "        [-9.3485e-38, -1.4441e-02,  6.7286e-02,  ...,  1.5742e-39,\n",
            "          8.4305e-02, -9.2945e-03],\n",
            "        ...,\n",
            "        [-7.5538e-38, -5.3027e-02, -3.2790e-02,  ...,  1.8849e-39,\n",
            "          7.3580e-02, -5.9436e-02],\n",
            "        [-9.1475e-38,  2.5782e-02,  3.8086e-02,  ...,  1.6753e-39,\n",
            "          2.1938e-02,  7.2669e-02],\n",
            "        [-8.1055e-38, -1.8239e-02, -4.0297e-02,  ...,  2.0258e-39,\n",
            "          8.3636e-03,  3.2194e-02]], device='cuda:0')\n",
            "9.bias \n",
            " tensor([ 1.4760e-01,  1.6093e-01,  1.4426e-01,  1.8177e-01,  1.2898e-01,\n",
            "         1.5287e-01, -4.3252e-37, -1.8042e-37,  1.1106e-01, -1.9860e-35,\n",
            "        -1.1783e-34,  1.3343e-01,  1.8611e-01, -5.4190e-36,  2.0416e-01,\n",
            "         1.4376e-01,  2.3403e-01,  1.6413e-01, -4.2577e-37,  1.7445e-01,\n",
            "         1.8729e-01, -2.6185e-34,  1.8151e-01,  1.0326e-01, -3.6626e-36,\n",
            "        -3.3298e-33,  1.6585e-01,  1.7733e-01,  1.4811e-01,  1.6195e-01,\n",
            "         1.3179e-01,  1.0501e-01,  1.8731e-01, -1.2548e-37,  1.6620e-01,\n",
            "         1.2823e-01, -2.8567e-34, -4.7849e-38,  1.5278e-01,  1.2616e-01,\n",
            "        -5.3202e-35,  1.7947e-01, -3.9146e-37,  1.8714e-01, -1.8564e-38,\n",
            "         1.5469e-01,  1.8971e-01,  1.8766e-01,  1.8403e-01, -8.6290e-37,\n",
            "         1.4603e-01, -1.2441e-37, -2.9669e-36, -8.5009e-37, -1.1876e-39,\n",
            "        -4.4514e-38, -1.1367e-36,  1.7199e-01,  2.0620e-01,  1.8604e-01,\n",
            "         1.5668e-01,  1.9760e-01,  1.7524e-01,  1.2820e-01], device='cuda:0')\n",
            "12.weight \n",
            " tensor([[ 1.6182e-02,  3.4516e-02, -1.2815e-02,  ...,  6.6623e-02,\n",
            "         -1.5405e-02,  8.6131e-02],\n",
            "        [ 1.2493e-01, -4.2015e-02,  1.0315e-01,  ...,  1.0286e-01,\n",
            "         -2.2100e-02,  7.4647e-02],\n",
            "        [ 7.3658e-02,  5.8519e-02,  6.5879e-02,  ...,  6.1094e-02,\n",
            "          8.6268e-02,  4.8084e-02],\n",
            "        ...,\n",
            "        [-8.9947e-38, -7.5827e-38, -6.7673e-38,  ..., -7.1726e-38,\n",
            "         -7.8567e-38, -6.6157e-38],\n",
            "        [ 8.4238e-02,  1.0546e-01, -6.6293e-03,  ..., -3.3727e-02,\n",
            "          1.2519e-01, -5.0480e-02],\n",
            "        [-1.9520e-38, -1.7033e-38, -1.8099e-38,  ..., -1.6861e-38,\n",
            "         -1.7181e-38, -1.5488e-38]], device='cuda:0')\n",
            "12.bias \n",
            " tensor([ 3.8421e-01,  4.2708e-01,  3.0152e-01,  4.5765e-01,  5.1980e-01,\n",
            "         3.6100e-01,  4.3471e-01,  4.8601e-01,  3.5037e-01, -1.3506e-32,\n",
            "        -7.6447e-34,  4.1579e-01, -6.6747e-36, -6.6112e-22, -2.1267e-36,\n",
            "        -4.6804e-36,  3.6857e-01,  3.2216e-01, -7.5384e-38,  3.1770e-01,\n",
            "         4.9901e-01,  4.4102e-01, -3.3033e-35, -5.0523e-38,  4.3671e-01,\n",
            "         1.6797e-01,  3.6071e-01,  3.9644e-01, -3.0946e-32, -1.0892e-37,\n",
            "         3.2727e-01, -1.4858e-38], device='cuda:0')\n",
            "15.weight \n",
            " tensor([[ 1.8888e-01,  1.3198e-01,  8.5967e-02,  1.1634e-01,  9.1109e-02,\n",
            "          1.2687e-01,  1.5446e-01,  8.7524e-02,  1.1392e-01,  6.5560e-31,\n",
            "         -6.4254e-35,  2.0914e-01,  8.0952e-35, -2.4153e-20,  7.7271e-36,\n",
            "         -4.9599e-36,  1.5759e-01,  8.4263e-02,  2.2013e-40,  1.6511e-01,\n",
            "          1.0658e-01,  1.3497e-01,  4.4053e-34, -1.8588e-39,  1.5515e-01,\n",
            "         -2.0988e-01,  9.8564e-02,  9.5229e-02, -2.2046e-33, -9.4732e-38,\n",
            "          1.4248e-01, -1.0075e-38]], device='cuda:0')\n",
            "15.bias \n",
            " tensor([1.2884], device='cuda:0')\n",
            "\n",
            "Hyperparameters:\n",
            "epoch_size: 1000\n",
            "learning_rate: 0.00011\n",
            "weight_decay: 1e-06\n",
            "early_stop_epoch: 856\n",
            "\n",
            "Best Validation Loss: 0.0791278491117831\n"
          ]
        }
      ]
    },
    {
      "cell_type": "markdown",
      "metadata": {
        "id": "VfIYGk-BVZSs"
      },
      "source": [
        "Now, we can submit our predictions on Kaggle and see how they compare with the actual house prices (labels) on the test set.\n",
        "\n",
        "- Log in to the Kaggle website and visit the house price prediction competition page.\n",
        "\n",
        "- Click the “Submit Predictions”.\n",
        "\n",
        "- Click the “Browse Files” button in the dashed box at the bottom of the page and select the prediction file you wish to upload.\n",
        "\n",
        "- Click the “Submit” button at the bottom of the page to view your results."
      ]
    },
    {
      "cell_type": "markdown",
      "metadata": {
        "id": "VCzV9HsWVd3P"
      },
      "source": [
        " **Include your best test error shown on Kaggle in your case report!**"
      ]
    },
    {
      "cell_type": "markdown",
      "metadata": {
        "id": "UBvBbWT_BjGr"
      },
      "source": [
        "---\n",
        "## Evaluate the profit of iBuyer business model\n",
        "\n",
        "\n",
        "In class, we have dicussed the iBuyer business model and its opportunities and risks. In the following analysis, imagine you work in a consulting firm and would like to investigate the profitability of the iBuyer business model.\n",
        "\n",
        "You have taken the Mordern Analytics course and remembered that Prof. X advocated the data-driven approach in business decision making. Thus, you would like to perform analysis based on model and data.\n",
        "\n",
        "Note that since we do not know the true sale prices in the future (like test data), we need to conduct the analysis based on the historical data (train or validation data). Previously, you have already trained a multilayer perceptron model using the train data. Now, let's evaluate the profit of iBuyer business model based on the predicted prices on the **validation data**."
      ]
    },
    {
      "cell_type": "markdown",
      "metadata": {
        "id": "s-SDd9Zzv2bl"
      },
      "source": [
        "Let's first compute the predicted prices on the valid data."
      ]
    },
    {
      "cell_type": "code",
      "execution_count": 104,
      "metadata": {
        "id": "XeZXNhtdV3zM",
        "colab": {
          "base_uri": "https://localhost:8080/"
        },
        "outputId": "b1ed38dd-863c-4839-9434-8aff2ecb1cdd"
      },
      "outputs": [
        {
          "output_type": "execute_result",
          "data": {
            "text/plain": [
              "Sequential(\n",
              "  (0): Linear(in_features=122, out_features=256, bias=True)\n",
              "  (1): ReLU()\n",
              "  (2): Dropout(p=0.1, inplace=False)\n",
              "  (3): Linear(in_features=256, out_features=128, bias=True)\n",
              "  (4): ReLU()\n",
              "  (5): Dropout(p=0.1, inplace=False)\n",
              "  (6): Linear(in_features=128, out_features=128, bias=True)\n",
              "  (7): ReLU()\n",
              "  (8): Dropout(p=0.1, inplace=False)\n",
              "  (9): Linear(in_features=128, out_features=64, bias=True)\n",
              "  (10): ReLU()\n",
              "  (11): Dropout(p=0.1, inplace=False)\n",
              "  (12): Linear(in_features=64, out_features=32, bias=True)\n",
              "  (13): ReLU()\n",
              "  (14): Dropout(p=0.1, inplace=False)\n",
              "  (15): Linear(in_features=32, out_features=1, bias=True)\n",
              ")"
            ]
          },
          "metadata": {},
          "execution_count": 104
        }
      ],
      "source": [
        "## TODO: Load your best model from your saved checkpoint.pth file.\n",
        "checkpoint = torch.load('checkpoint.pth')\n",
        "model.load_state_dict(checkpoint['model_state_dict'])\n",
        "\n",
        "model = model.to(device)\n",
        "model.eval()"
      ]
    },
    {
      "cell_type": "code",
      "execution_count": 105,
      "metadata": {
        "id": "HardNM2Zv9IK",
        "colab": {
          "base_uri": "https://localhost:8080/"
        },
        "outputId": "61464040-3a63-42af-f504-f34a345b1a14"
      },
      "outputs": [
        {
          "output_type": "stream",
          "name": "stdout",
          "text": [
            "tensor([3.8492, 3.2493, 7.0268,  ..., 3.1426, 4.3612, 4.1032]) tensor([3.7613, 2.8050, 7.4000,  ..., 3.3997, 4.4200, 3.7400])\n"
          ]
        }
      ],
      "source": [
        "## TODO: compute the predicted prices on valid data using your best model\n",
        "\n",
        "predicted_prices = []\n",
        "actual_prices = []\n",
        "\n",
        "model.eval()\n",
        "with torch.no_grad():\n",
        "    for images, labels in valid_loader:\n",
        "        images = images.to(device)\n",
        "        labels = labels.to(device)\n",
        "\n",
        "        outputs = model(images)\n",
        "\n",
        "        predicted_prices.extend(outputs.view(-1).tolist())\n",
        "        actual_prices.extend(labels.view(-1).tolist())\n",
        "\n",
        "predicted_prices = torch.tensor(predicted_prices)\n",
        "actual_prices = torch.tensor(actual_prices)\n",
        "\n",
        "print(predicted_prices, actual_prices)"
      ]
    },
    {
      "cell_type": "markdown",
      "metadata": {
        "id": "Gi5KDRpfmA0F"
      },
      "source": [
        "Compute the signed error rates (without taking the absolute value sign), that is\n",
        "\n",
        "$$\n",
        "\\text{Signed Error Rate} = \\frac{\\text{Predicted Price}-\\text{Actual Price}}{\\text{Actual Price}}\n",
        "$$\n",
        "We will call signed error rate as prediction error henceafter."
      ]
    },
    {
      "cell_type": "code",
      "execution_count": 106,
      "metadata": {
        "id": "EDhCZd-3mb2J",
        "colab": {
          "base_uri": "https://localhost:8080/"
        },
        "outputId": "f9e54b5b-5251-462d-fe7e-62d1b208cbd4"
      },
      "outputs": [
        {
          "output_type": "stream",
          "name": "stdout",
          "text": [
            "tensor([ 0.0234,  0.1584, -0.0504,  ..., -0.0756, -0.0133,  0.0971])\n"
          ]
        }
      ],
      "source": [
        "## TODO: compute the signed error rates (henceafter called prediction errors)\n",
        "signed_error_rate = (predicted_prices - actual_prices) / actual_prices\n",
        "\n",
        "print(signed_error_rate)"
      ]
    },
    {
      "cell_type": "markdown",
      "metadata": {
        "id": "LqhwqLxIx-ce"
      },
      "source": [
        "### Analysis and visualization of valid errors"
      ]
    },
    {
      "cell_type": "markdown",
      "metadata": {
        "id": "QLsAypFuAumy"
      },
      "source": [
        "Let's plot the histogram of prediction errors.\n",
        "\n",
        "**Question 1**: what is the bias of the prediction errors? Include the histogram of prediction errors and the bias in your report."
      ]
    },
    {
      "cell_type": "code",
      "source": [
        "signed_error_rate = signed_error_rate.numpy()\n",
        "\n",
        "\n",
        "bias = signed_error_rate.mean()\n",
        "print(f\"Bias of the prediction errors: {bias}\")\n",
        "\n",
        "plt.hist(signed_error_rate, bins=50, alpha=0.7, color='blue')\n",
        "plt.title('Histogram of Prediction Errors')\n",
        "plt.xlabel('Prediction Error')\n",
        "plt.ylabel('Frequency')\n",
        "plt.grid(True)\n",
        "plt.show()"
      ],
      "metadata": {
        "id": "ZKXnzMm7r4c-",
        "colab": {
          "base_uri": "https://localhost:8080/",
          "height": 498
        },
        "outputId": "5c090868-f2f7-4307-e2ec-4879263aa7db"
      },
      "execution_count": 107,
      "outputs": [
        {
          "output_type": "stream",
          "name": "stdout",
          "text": [
            "Bias of the prediction errors: 0.08350742608308792\n"
          ]
        },
        {
          "output_type": "display_data",
          "data": {
            "text/plain": [
              "<Figure size 640x480 with 1 Axes>"
            ],
            "image/png": "[encoded data removed]"
          },
          "metadata": {}
        }
      ]
    },
    {
      "cell_type": "markdown",
      "metadata": {
        "id": "tpp6qgMuwlgp"
      },
      "source": [
        "### Profit Analysis\n",
        "\n",
        "In the following profit analysis, we assume the iBuyer will make an offer to every property in the valid data based on their predicted price $PP$. We assume the iBuyer decides the offer price $OP$ according to\n",
        "$$\n",
        "OP = \\frac{PP}{1+\\alpha},\n",
        "$$\n",
        "where $\\alpha$ is the (targted) profit margin of the iBuyer.\n",
        "Here we assume the profit margin has already taken into consideration the commission fee charged by the iBuyer\n",
        "and various costs associated such as transaction cost, administration cost, and holding cost. Note that the commission fee charged by Zillow is often around $7.5\\%$ and Zillow may charge additional repair costs after home inspection. Thus we take $\\alpha=12\\%$ in this case study.\n",
        "\n",
        "We further assume that the iBuyer can resell the property at the same\n",
        "price as the broker in the future once the property is bought. In other words, the resell price is equal to the sale price in the valid data. This assumption may not be exactly true in practice and the iBuyer may sell the house at either a higher or lower price depending on the market trend. But our conclusion will not change too much.\n",
        "\n",
        "Based on the above two assumptions, we can now determine the percentage profit\n",
        "for a property bought by the iBuyer as\n",
        "$$\n",
        "\\frac{SP- OP}{OP}.\n",
        "$$\n",
        "We use the percentage profit instead of the absolute profit because the iBuyer cannot hope to purchase all houses in the market. Therefore, the percentage profit is a better measure of the profitability of the iBuyer business model.\n",
        " The aim of the iBuyer in this simplified setting is to purchase properties for less money than they are sold for, to generate a profit."
      ]
    },
    {
      "cell_type": "code",
      "execution_count": 108,
      "metadata": {
        "id": "etKvSNDOzgSp",
        "colab": {
          "base_uri": "https://localhost:8080/"
        },
        "outputId": "71c503e3-a499-4bbc-ed00-f802f2c3ce20"
      },
      "outputs": [
        {
          "output_type": "stream",
          "name": "stdout",
          "text": [
            "[ 0.09442388 -0.03314828  0.17948507 ...  0.2116554   0.1350981\n",
            "  0.02085428]\n"
          ]
        }
      ],
      "source": [
        "profit_margin = 0.12\n",
        "\n",
        "# Calculate Offer Price (OP)\n",
        "offer_prices = predicted_prices / (1 + profit_margin)\n",
        "# Calculate Percentage Profit\n",
        "percentage_profit = (actual_prices - offer_prices) / offer_prices\n",
        "\n",
        "\n",
        "# Convert percentage_profit to a numpy array for analysis\n",
        "percentage_profit = percentage_profit.numpy()\n",
        "print(percentage_profit)"
      ]
    },
    {
      "cell_type": "markdown",
      "metadata": {
        "id": "KYDo-OoV8lUM"
      },
      "source": [
        "**Question 2**: Consider the hypothetical scenario where the offers are all accepted regardless of their values,\n",
        "what is the average percentage profit? Do you see a big difference compared to the profit margin $\\alpha$? Include your answers in the report."
      ]
    },
    {
      "cell_type": "code",
      "source": [
        "# Calculate the average percentage profit\n",
        "average_percentage_profit = percentage_profit.mean()\n",
        "print(f\"Average Percentage Profit: {average_percentage_profit * 100:.2f}%\")"
      ],
      "metadata": {
        "colab": {
          "base_uri": "https://localhost:8080/"
        },
        "id": "SQet2woTxaeC",
        "outputId": "88e13c0b-c279-4c97-fff7-ddd77955f7cb"
      },
      "execution_count": 109,
      "outputs": [
        {
          "output_type": "stream",
          "name": "stdout",
          "text": [
            "Average Percentage Profit: 9.92%\n"
          ]
        }
      ]
    },
    {
      "cell_type": "markdown",
      "metadata": {
        "id": "qq8r4Yn2_Jui"
      },
      "source": [
        "**Offer Acceptance Rule**\n",
        "\n",
        "\n",
        "However, not every offer will be accepted by the home owner. Given an offer price, whether the homeowner accepts it\n",
        "depends on the homeowner's perceived valuation. For the current dataset, we lack enough data to determine the homeowner's perceived valuation of the property. However, the actual sale price in the valid data serves as a reasonable proxy of the homeowner's perceived valuation. Therefore, we assume that the home owner will accept the offer, if\n",
        "$$\n",
        "OP> (1-\\beta) SP,\n",
        "$$\n",
        "where $\\beta$ is a discounting factor. Here the discounting factor captures the commission fee charged\n",
        "by the conventional realtors which is around 6%, as well as the convenience factor that models\n",
        "how much the homeowner values the quick transaction services of the iBuyer over the conventional\n",
        "relator. We assume $\\beta = 10\\%$ in this case."
      ]
    },
    {
      "cell_type": "markdown",
      "metadata": {
        "id": "yvUa2TdyzT5G"
      },
      "source": [
        "**Question 3**: Based on the sale price in the valid data and the acceptance rule, what is the mean percentage profit among all accepted offers? Do you see a big difference compared to the targeted profit margin $\\alpha$?  Include your answers in your report.  "
      ]
    },
    {
      "cell_type": "code",
      "source": [
        "discount_factor = 0.10\n",
        "\n",
        "accepted_offers = offer_prices > (1 - discount_factor) * actual_prices\n",
        "\n",
        "# Calculate mean percentage profit for accepted offers\n",
        "mean_profit_accepted = percentage_profit[accepted_offers].mean()\n",
        "print(f\"Mean Percentage Profit for Accepted Offers: {mean_profit_accepted * 100:.2f}%\")\n"
      ],
      "metadata": {
        "colab": {
          "base_uri": "https://localhost:8080/"
        },
        "id": "81vnjOs7zwxb",
        "outputId": "18c3b357-7690-4aeb-967c-28d303be73c8"
      },
      "execution_count": 110,
      "outputs": [
        {
          "output_type": "stream",
          "name": "stdout",
          "text": [
            "Mean Percentage Profit for Accepted Offers: -5.57%\n"
          ]
        }
      ]
    },
    {
      "cell_type": "markdown",
      "source": [
        "Find the break even point in term of the profit"
      ],
      "metadata": {
        "id": "n37Ik_xVAJwN"
      }
    },
    {
      "cell_type": "code",
      "source": [
        "closest_to_zero = float('inf')  # Initialize with a large number\n",
        "break_even_discount_factor = 0\n",
        "\n",
        "for discount_factor in [i * 0.01 for i in range(100)]:\n",
        "    accepted_offers = offer_prices > (1 - discount_factor) * actual_prices\n",
        "    mean_profit_accepted = percentage_profit[accepted_offers].mean()\n",
        "    if abs(mean_profit_accepted) < closest_to_zero:\n",
        "        closest_to_zero = abs(mean_profit_accepted)\n",
        "        break_even_discount_factor = discount_factor\n",
        "    if closest_to_zero == 0:\n",
        "        break\n",
        "\n",
        "print(f\"Break-even discount factor: {break_even_discount_factor * 100:.2f}%\")\n"
      ],
      "metadata": {
        "colab": {
          "base_uri": "https://localhost:8080/"
        },
        "id": "qMNS3rkp1P3G",
        "outputId": "154a5566-c9a7-45f9-f363-9eefb427ebc1"
      },
      "execution_count": 111,
      "outputs": [
        {
          "output_type": "stream",
          "name": "stdout",
          "text": [
            "Break-even discount factor: 14.00%\n"
          ]
        }
      ]
    },
    {
      "cell_type": "markdown",
      "metadata": {
        "id": "Z2_qBob7Bo_f"
      },
      "source": [
        "Let's plot the histogram of the prediction errors for those properties whose home owners accepted the offer.\n",
        "\n",
        "**Question 4**: What is the bias of the prediction errors when restricting to those properties whose owners accepted the offer? Based on the histogram and bias, can you explain your answers to Question 3?"
      ]
    },
    {
      "cell_type": "code",
      "source": [
        "prediction_error = actual_prices - predicted_prices\n",
        "prediction_errors_accepted = prediction_error[accepted_offers]\n",
        "\n",
        "bias_accepted = prediction_errors_accepted.mean()\n",
        "print(f\"Bias of Prediction Errors for Accepted Offers: {bias_accepted}\")\n",
        "\n",
        "plt.hist(prediction_errors_accepted, bins=50, alpha=0.7, color='green')\n",
        "plt.title('Histogram of Prediction Errors for Accepted Offers')\n",
        "plt.xlabel('Prediction Error')\n",
        "plt.ylabel('Frequency')\n",
        "plt.grid(True)\n",
        "plt.show()\n"
      ],
      "metadata": {
        "colab": {
          "base_uri": "https://localhost:8080/",
          "height": 498
        },
        "id": "X8Wy1MWL3L2z",
        "outputId": "459e52dd-c7b7-47aa-82ec-8ffbaa46b062"
      },
      "execution_count": 112,
      "outputs": [
        {
          "output_type": "stream",
          "name": "stdout",
          "text": [
            "Bias of Prediction Errors for Accepted Offers: -0.14073200523853302\n"
          ]
        },
        {
          "output_type": "display_data",
          "data": {
            "text/plain": [
              "<Figure size 640x480 with 1 Axes>"
            ],
            "image/png": "[encoded data removed]"
          },
          "metadata": {}
        }
      ]
    }
  ],
  "metadata": {
    "accelerator": "GPU",
    "colab": {
      "collapsed_sections": [
        "awKh4JrcwKQC",
        "TKAgZM-PzOcM",
        "Gmrzpydv34Y5"
      ],
      "provenance": [],
      "gpuType": "T4"
    },
    "kernelspec": {
      "display_name": "Python 3",
      "name": "python3"
    },
    "language_info": {
      "codemirror_mode": {
        "name": "ipython",
        "version": 3
      },
      "file_extension": ".py",
      "mimetype": "text/x-python",
      "name": "python",
      "nbconvert_exporter": "python",
      "pygments_lexer": "ipython3",
      "version": "3.9.13"
    }
  },
  "nbformat": 4,
  "nbformat_minor": 0
}